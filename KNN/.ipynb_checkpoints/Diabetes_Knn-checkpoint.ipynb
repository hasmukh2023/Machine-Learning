{
 "cells": [
  {
   "cell_type": "code",
   "execution_count": 2,
   "metadata": {
    "executionInfo": {
     "elapsed": 737,
     "status": "ok",
     "timestamp": 1633105323968,
     "user": {
      "displayName": "Hasmukh Mer",
      "photoUrl": "https://lh3.googleusercontent.com/a/default-user=s64",
      "userId": "00621887669129670036"
     },
     "user_tz": -330
    },
    "id": "stZAxSCC3_sY"
   },
   "outputs": [],
   "source": [
    "import pandas as pd\n",
    "import numpy as np"
   ]
  },
  {
   "cell_type": "code",
   "execution_count": 490,
   "metadata": {
    "colab": {
     "base_uri": "https://localhost:8080/"
    },
    "executionInfo": {
     "elapsed": 1109,
     "status": "ok",
     "timestamp": 1633105325851,
     "user": {
      "displayName": "Hasmukh Mer",
      "photoUrl": "https://lh3.googleusercontent.com/a/default-user=s64",
      "userId": "00621887669129670036"
     },
     "user_tz": -330
    },
    "id": "70ZETXxH4B97",
    "outputId": "b467a945-2de7-4a3d-d0d5-74dbc0faa1d0"
   },
   "outputs": [
    {
     "name": "stdout",
     "output_type": "stream",
     "text": [
      "Drive already mounted at /content/gdrive; to attempt to forcibly remount, call drive.mount(\"/content/gdrive\", force_remount=True).\n"
     ]
    }
   ],
   "source": [
    "# from google.colab import drive\n",
    "# drive.mount(\"/content/gdrive\")"
   ]
  },
  {
   "cell_type": "code",
   "execution_count": 7,
   "metadata": {
    "executionInfo": {
     "elapsed": 316,
     "status": "ok",
     "timestamp": 1633105325852,
     "user": {
      "displayName": "Hasmukh Mer",
      "photoUrl": "https://lh3.googleusercontent.com/a/default-user=s64",
      "userId": "00621887669129670036"
     },
     "user_tz": -330
    },
    "id": "iA7KgR0Z43tc"
   },
   "outputs": [],
   "source": [
    "path='./Datasets/diabetes.csv'"
   ]
  },
  {
   "cell_type": "code",
   "execution_count": 8,
   "metadata": {
    "executionInfo": {
     "elapsed": 318,
     "status": "ok",
     "timestamp": 1633105325854,
     "user": {
      "displayName": "Hasmukh Mer",
      "photoUrl": "https://lh3.googleusercontent.com/a/default-user=s64",
      "userId": "00621887669129670036"
     },
     "user_tz": -330
    },
    "id": "Ne3syZOw3_se"
   },
   "outputs": [],
   "source": [
    "df=pd.read_csv(path)"
   ]
  },
  {
   "cell_type": "code",
   "execution_count": 9,
   "metadata": {
    "executionInfo": {
     "elapsed": 319,
     "status": "ok",
     "timestamp": 1633105325856,
     "user": {
      "displayName": "Hasmukh Mer",
      "photoUrl": "https://lh3.googleusercontent.com/a/default-user=s64",
      "userId": "00621887669129670036"
     },
     "user_tz": -330
    },
    "id": "e8kXGvxq3_sf"
   },
   "outputs": [],
   "source": [
    "df\n",
    "df5=df.copy()"
   ]
  },
  {
   "cell_type": "code",
   "execution_count": 10,
   "metadata": {
    "colab": {
     "base_uri": "https://localhost:8080/"
    },
    "executionInfo": {
     "elapsed": 319,
     "status": "ok",
     "timestamp": 1633105325857,
     "user": {
      "displayName": "Hasmukh Mer",
      "photoUrl": "https://lh3.googleusercontent.com/a/default-user=s64",
      "userId": "00621887669129670036"
     },
     "user_tz": -330
    },
    "id": "x5jyGDTC3_sg",
    "outputId": "f35c1774-8179-441d-efde-d9c887d7e4d9"
   },
   "outputs": [
    {
     "data": {
      "text/plain": [
       "['Pregnancies',\n",
       " 'Glucose',\n",
       " 'BloodPressure',\n",
       " 'SkinThickness',\n",
       " 'Insulin',\n",
       " 'BMI',\n",
       " 'DiabetesPedigreeFunction',\n",
       " 'Age',\n",
       " 'Outcome']"
      ]
     },
     "execution_count": 10,
     "metadata": {},
     "output_type": "execute_result"
    }
   ],
   "source": [
    "list(df.columns)\n",
    "#Here In this Print All Columns I List"
   ]
  },
  {
   "cell_type": "code",
   "execution_count": 495,
   "metadata": {
    "colab": {
     "base_uri": "https://localhost:8080/"
    },
    "executionInfo": {
     "elapsed": 305,
     "status": "ok",
     "timestamp": 1633105325859,
     "user": {
      "displayName": "Hasmukh Mer",
      "photoUrl": "https://lh3.googleusercontent.com/a/default-user=s64",
      "userId": "00621887669129670036"
     },
     "user_tz": -330
    },
    "id": "FKZwCZUG3_si",
    "outputId": "2235d0f2-0605-4c8a-d157-84f83ee31285"
   },
   "outputs": [
    {
     "data": {
      "text/plain": [
       "(768, 9)"
      ]
     },
     "execution_count": 495,
     "metadata": {},
     "output_type": "execute_result"
    }
   ],
   "source": [
    "df.shape\n"
   ]
  },
  {
   "cell_type": "code",
   "execution_count": 496,
   "metadata": {
    "colab": {
     "base_uri": "https://localhost:8080/"
    },
    "executionInfo": {
     "elapsed": 289,
     "status": "ok",
     "timestamp": 1633105325860,
     "user": {
      "displayName": "Hasmukh Mer",
      "photoUrl": "https://lh3.googleusercontent.com/a/default-user=s64",
      "userId": "00621887669129670036"
     },
     "user_tz": -330
    },
    "id": "dx61l4LF3_sj",
    "outputId": "1a2de5f0-efb1-40cc-e483-8c9e7cef2703"
   },
   "outputs": [
    {
     "data": {
      "text/plain": [
       "6912"
      ]
     },
     "execution_count": 496,
     "metadata": {},
     "output_type": "execute_result"
    }
   ],
   "source": [
    "df.size\n",
    "#total nubmner of elements"
   ]
  },
  {
   "cell_type": "code",
   "execution_count": 497,
   "metadata": {
    "colab": {
     "base_uri": "https://localhost:8080/",
     "height": 300
    },
    "executionInfo": {
     "elapsed": 278,
     "status": "ok",
     "timestamp": 1633105325862,
     "user": {
      "displayName": "Hasmukh Mer",
      "photoUrl": "https://lh3.googleusercontent.com/a/default-user=s64",
      "userId": "00621887669129670036"
     },
     "user_tz": -330
    },
    "id": "nP7JUDmG3_sk",
    "outputId": "01771b0d-a08c-45a1-eea4-6a5c1031028a"
   },
   "outputs": [
    {
     "data": {
      "text/html": [
       "<div>\n",
       "<style scoped>\n",
       "    .dataframe tbody tr th:only-of-type {\n",
       "        vertical-align: middle;\n",
       "    }\n",
       "\n",
       "    .dataframe tbody tr th {\n",
       "        vertical-align: top;\n",
       "    }\n",
       "\n",
       "    .dataframe thead th {\n",
       "        text-align: right;\n",
       "    }\n",
       "</style>\n",
       "<table border=\"1\" class=\"dataframe\">\n",
       "  <thead>\n",
       "    <tr style=\"text-align: right;\">\n",
       "      <th></th>\n",
       "      <th>Pregnancies</th>\n",
       "      <th>Glucose</th>\n",
       "      <th>BloodPressure</th>\n",
       "      <th>SkinThickness</th>\n",
       "      <th>Insulin</th>\n",
       "      <th>BMI</th>\n",
       "      <th>DiabetesPedigreeFunction</th>\n",
       "      <th>Age</th>\n",
       "      <th>Outcome</th>\n",
       "    </tr>\n",
       "  </thead>\n",
       "  <tbody>\n",
       "    <tr>\n",
       "      <th>count</th>\n",
       "      <td>768.000000</td>\n",
       "      <td>768.000000</td>\n",
       "      <td>768.000000</td>\n",
       "      <td>768.000000</td>\n",
       "      <td>768.000000</td>\n",
       "      <td>768.000000</td>\n",
       "      <td>768.000000</td>\n",
       "      <td>768.000000</td>\n",
       "      <td>768.000000</td>\n",
       "    </tr>\n",
       "    <tr>\n",
       "      <th>mean</th>\n",
       "      <td>3.845052</td>\n",
       "      <td>120.894531</td>\n",
       "      <td>69.105469</td>\n",
       "      <td>20.536458</td>\n",
       "      <td>79.799479</td>\n",
       "      <td>31.992578</td>\n",
       "      <td>0.471876</td>\n",
       "      <td>33.240885</td>\n",
       "      <td>0.348958</td>\n",
       "    </tr>\n",
       "    <tr>\n",
       "      <th>std</th>\n",
       "      <td>3.369578</td>\n",
       "      <td>31.972618</td>\n",
       "      <td>19.355807</td>\n",
       "      <td>15.952218</td>\n",
       "      <td>115.244002</td>\n",
       "      <td>7.884160</td>\n",
       "      <td>0.331329</td>\n",
       "      <td>11.760232</td>\n",
       "      <td>0.476951</td>\n",
       "    </tr>\n",
       "    <tr>\n",
       "      <th>min</th>\n",
       "      <td>0.000000</td>\n",
       "      <td>0.000000</td>\n",
       "      <td>0.000000</td>\n",
       "      <td>0.000000</td>\n",
       "      <td>0.000000</td>\n",
       "      <td>0.000000</td>\n",
       "      <td>0.078000</td>\n",
       "      <td>21.000000</td>\n",
       "      <td>0.000000</td>\n",
       "    </tr>\n",
       "    <tr>\n",
       "      <th>25%</th>\n",
       "      <td>1.000000</td>\n",
       "      <td>99.000000</td>\n",
       "      <td>62.000000</td>\n",
       "      <td>0.000000</td>\n",
       "      <td>0.000000</td>\n",
       "      <td>27.300000</td>\n",
       "      <td>0.243750</td>\n",
       "      <td>24.000000</td>\n",
       "      <td>0.000000</td>\n",
       "    </tr>\n",
       "    <tr>\n",
       "      <th>50%</th>\n",
       "      <td>3.000000</td>\n",
       "      <td>117.000000</td>\n",
       "      <td>72.000000</td>\n",
       "      <td>23.000000</td>\n",
       "      <td>30.500000</td>\n",
       "      <td>32.000000</td>\n",
       "      <td>0.372500</td>\n",
       "      <td>29.000000</td>\n",
       "      <td>0.000000</td>\n",
       "    </tr>\n",
       "    <tr>\n",
       "      <th>75%</th>\n",
       "      <td>6.000000</td>\n",
       "      <td>140.250000</td>\n",
       "      <td>80.000000</td>\n",
       "      <td>32.000000</td>\n",
       "      <td>127.250000</td>\n",
       "      <td>36.600000</td>\n",
       "      <td>0.626250</td>\n",
       "      <td>41.000000</td>\n",
       "      <td>1.000000</td>\n",
       "    </tr>\n",
       "    <tr>\n",
       "      <th>max</th>\n",
       "      <td>17.000000</td>\n",
       "      <td>199.000000</td>\n",
       "      <td>122.000000</td>\n",
       "      <td>99.000000</td>\n",
       "      <td>846.000000</td>\n",
       "      <td>67.100000</td>\n",
       "      <td>2.420000</td>\n",
       "      <td>81.000000</td>\n",
       "      <td>1.000000</td>\n",
       "    </tr>\n",
       "  </tbody>\n",
       "</table>\n",
       "</div>"
      ],
      "text/plain": [
       "       Pregnancies     Glucose  ...         Age     Outcome\n",
       "count   768.000000  768.000000  ...  768.000000  768.000000\n",
       "mean      3.845052  120.894531  ...   33.240885    0.348958\n",
       "std       3.369578   31.972618  ...   11.760232    0.476951\n",
       "min       0.000000    0.000000  ...   21.000000    0.000000\n",
       "25%       1.000000   99.000000  ...   24.000000    0.000000\n",
       "50%       3.000000  117.000000  ...   29.000000    0.000000\n",
       "75%       6.000000  140.250000  ...   41.000000    1.000000\n",
       "max      17.000000  199.000000  ...   81.000000    1.000000\n",
       "\n",
       "[8 rows x 9 columns]"
      ]
     },
     "execution_count": 497,
     "metadata": {},
     "output_type": "execute_result"
    }
   ],
   "source": [
    "df.describe()\n",
    "#It Shows The All The Numerical Data In Our DataSet\n",
    "\n",
    "# Here We Can See There Are Most-Of Columns Have Min=0 Which Is Not Allowed In Some Columns\n"
   ]
  },
  {
   "cell_type": "raw",
   "metadata": {
    "id": "-7apiMTM3_sl"
   },
   "source": [
    "df.describe"
   ]
  },
  {
   "cell_type": "code",
   "execution_count": 498,
   "metadata": {
    "executionInfo": {
     "elapsed": 277,
     "status": "ok",
     "timestamp": 1633105325864,
     "user": {
      "displayName": "Hasmukh Mer",
      "photoUrl": "https://lh3.googleusercontent.com/a/default-user=s64",
      "userId": "00621887669129670036"
     },
     "user_tz": -330
    },
    "id": "cBRWWsH83_sm"
   },
   "outputs": [],
   "source": [
    "#find the list of the columns\n",
    "#find the numeric coumns\n",
    "#Categoriacal columns list\n",
    "#find null values total \n",
    "#total null and percentage of null\n",
    "#column name ,total null ,percentage of null(create separate dataframe)\n",
    "#count  value of zeros\n",
    "#except pregnencies manage all columns and manage zeros \n"
   ]
  },
  {
   "cell_type": "code",
   "execution_count": 499,
   "metadata": {
    "executionInfo": {
     "elapsed": 277,
     "status": "ok",
     "timestamp": 1633105325865,
     "user": {
      "displayName": "Hasmukh Mer",
      "photoUrl": "https://lh3.googleusercontent.com/a/default-user=s64",
      "userId": "00621887669129670036"
     },
     "user_tz": -330
    },
    "id": "mxiDJYKY3_so"
   },
   "outputs": [],
   "source": [
    "df1=df.copy()"
   ]
  },
  {
   "cell_type": "code",
   "execution_count": 500,
   "metadata": {
    "colab": {
     "base_uri": "https://localhost:8080/"
    },
    "executionInfo": {
     "elapsed": 279,
     "status": "ok",
     "timestamp": 1633105325867,
     "user": {
      "displayName": "Hasmukh Mer",
      "photoUrl": "https://lh3.googleusercontent.com/a/default-user=s64",
      "userId": "00621887669129670036"
     },
     "user_tz": -330
    },
    "id": "nS2hVmfG3_sp",
    "outputId": "76b4e873-3f1e-4569-f912-29c8a7b6e213"
   },
   "outputs": [
    {
     "data": {
      "text/plain": [
       "['Pregnancies',\n",
       " 'Glucose',\n",
       " 'BloodPressure',\n",
       " 'SkinThickness',\n",
       " 'Insulin',\n",
       " 'BMI',\n",
       " 'DiabetesPedigreeFunction',\n",
       " 'Age',\n",
       " 'Outcome']"
      ]
     },
     "execution_count": 500,
     "metadata": {},
     "output_type": "execute_result"
    }
   ],
   "source": [
    "columnlist=list(df1.columns)\n",
    "columnlist"
   ]
  },
  {
   "cell_type": "code",
   "execution_count": 501,
   "metadata": {
    "colab": {
     "base_uri": "https://localhost:8080/"
    },
    "executionInfo": {
     "elapsed": 267,
     "status": "ok",
     "timestamp": 1633105325868,
     "user": {
      "displayName": "Hasmukh Mer",
      "photoUrl": "https://lh3.googleusercontent.com/a/default-user=s64",
      "userId": "00621887669129670036"
     },
     "user_tz": -330
    },
    "id": "BEeDrW943_sp",
    "outputId": "db36389c-d81d-40ad-ace7-a3bf5fc1738f"
   },
   "outputs": [
    {
     "data": {
      "text/plain": [
       "Pregnancies                   int64\n",
       "Glucose                       int64\n",
       "BloodPressure                 int64\n",
       "SkinThickness                 int64\n",
       "Insulin                       int64\n",
       "BMI                         float64\n",
       "DiabetesPedigreeFunction    float64\n",
       "Age                           int64\n",
       "Outcome                       int64\n",
       "dtype: object"
      ]
     },
     "execution_count": 501,
     "metadata": {},
     "output_type": "execute_result"
    }
   ],
   "source": [
    "df1.dtypes"
   ]
  },
  {
   "cell_type": "code",
   "execution_count": 502,
   "metadata": {
    "colab": {
     "base_uri": "https://localhost:8080/",
     "height": 424
    },
    "executionInfo": {
     "elapsed": 256,
     "status": "ok",
     "timestamp": 1633105325871,
     "user": {
      "displayName": "Hasmukh Mer",
      "photoUrl": "https://lh3.googleusercontent.com/a/default-user=s64",
      "userId": "00621887669129670036"
     },
     "user_tz": -330
    },
    "id": "PQPOd-Sg3_sq",
    "outputId": "f752f834-dac4-45f0-d8c3-0ffce3881be0"
   },
   "outputs": [
    {
     "data": {
      "text/html": [
       "<div>\n",
       "<style scoped>\n",
       "    .dataframe tbody tr th:only-of-type {\n",
       "        vertical-align: middle;\n",
       "    }\n",
       "\n",
       "    .dataframe tbody tr th {\n",
       "        vertical-align: top;\n",
       "    }\n",
       "\n",
       "    .dataframe thead th {\n",
       "        text-align: right;\n",
       "    }\n",
       "</style>\n",
       "<table border=\"1\" class=\"dataframe\">\n",
       "  <thead>\n",
       "    <tr style=\"text-align: right;\">\n",
       "      <th></th>\n",
       "      <th>Age</th>\n",
       "      <th>Pregnancies</th>\n",
       "    </tr>\n",
       "  </thead>\n",
       "  <tbody>\n",
       "    <tr>\n",
       "      <th>0</th>\n",
       "      <td>50</td>\n",
       "      <td>6</td>\n",
       "    </tr>\n",
       "    <tr>\n",
       "      <th>1</th>\n",
       "      <td>31</td>\n",
       "      <td>1</td>\n",
       "    </tr>\n",
       "    <tr>\n",
       "      <th>2</th>\n",
       "      <td>32</td>\n",
       "      <td>8</td>\n",
       "    </tr>\n",
       "    <tr>\n",
       "      <th>3</th>\n",
       "      <td>21</td>\n",
       "      <td>1</td>\n",
       "    </tr>\n",
       "    <tr>\n",
       "      <th>4</th>\n",
       "      <td>33</td>\n",
       "      <td>0</td>\n",
       "    </tr>\n",
       "    <tr>\n",
       "      <th>...</th>\n",
       "      <td>...</td>\n",
       "      <td>...</td>\n",
       "    </tr>\n",
       "    <tr>\n",
       "      <th>763</th>\n",
       "      <td>63</td>\n",
       "      <td>10</td>\n",
       "    </tr>\n",
       "    <tr>\n",
       "      <th>764</th>\n",
       "      <td>27</td>\n",
       "      <td>2</td>\n",
       "    </tr>\n",
       "    <tr>\n",
       "      <th>765</th>\n",
       "      <td>30</td>\n",
       "      <td>5</td>\n",
       "    </tr>\n",
       "    <tr>\n",
       "      <th>766</th>\n",
       "      <td>47</td>\n",
       "      <td>1</td>\n",
       "    </tr>\n",
       "    <tr>\n",
       "      <th>767</th>\n",
       "      <td>23</td>\n",
       "      <td>1</td>\n",
       "    </tr>\n",
       "  </tbody>\n",
       "</table>\n",
       "<p>768 rows × 2 columns</p>\n",
       "</div>"
      ],
      "text/plain": [
       "     Age  Pregnancies\n",
       "0     50            6\n",
       "1     31            1\n",
       "2     32            8\n",
       "3     21            1\n",
       "4     33            0\n",
       "..   ...          ...\n",
       "763   63           10\n",
       "764   27            2\n",
       "765   30            5\n",
       "766   47            1\n",
       "767   23            1\n",
       "\n",
       "[768 rows x 2 columns]"
      ]
     },
     "execution_count": 502,
     "metadata": {},
     "output_type": "execute_result"
    }
   ],
   "source": [
    "# cetagorical column\n",
    "df1[[\"Age\", \"Pregnancies\"]]"
   ]
  },
  {
   "cell_type": "code",
   "execution_count": 503,
   "metadata": {
    "colab": {
     "base_uri": "https://localhost:8080/",
     "height": 424
    },
    "executionInfo": {
     "elapsed": 256,
     "status": "ok",
     "timestamp": 1633105325873,
     "user": {
      "displayName": "Hasmukh Mer",
      "photoUrl": "https://lh3.googleusercontent.com/a/default-user=s64",
      "userId": "00621887669129670036"
     },
     "user_tz": -330
    },
    "id": "PD3NEsO73_sr",
    "outputId": "f340be16-1ca5-4b50-a7c7-f2026ac20930"
   },
   "outputs": [
    {
     "data": {
      "text/html": [
       "<div>\n",
       "<style scoped>\n",
       "    .dataframe tbody tr th:only-of-type {\n",
       "        vertical-align: middle;\n",
       "    }\n",
       "\n",
       "    .dataframe tbody tr th {\n",
       "        vertical-align: top;\n",
       "    }\n",
       "\n",
       "    .dataframe thead th {\n",
       "        text-align: right;\n",
       "    }\n",
       "</style>\n",
       "<table border=\"1\" class=\"dataframe\">\n",
       "  <thead>\n",
       "    <tr style=\"text-align: right;\">\n",
       "      <th></th>\n",
       "      <th>Pregnancies</th>\n",
       "      <th>Glucose</th>\n",
       "      <th>BloodPressure</th>\n",
       "      <th>SkinThickness</th>\n",
       "      <th>Insulin</th>\n",
       "      <th>BMI</th>\n",
       "      <th>DiabetesPedigreeFunction</th>\n",
       "      <th>Age</th>\n",
       "      <th>Outcome</th>\n",
       "    </tr>\n",
       "  </thead>\n",
       "  <tbody>\n",
       "    <tr>\n",
       "      <th>0</th>\n",
       "      <td>6</td>\n",
       "      <td>148</td>\n",
       "      <td>72</td>\n",
       "      <td>35</td>\n",
       "      <td>0</td>\n",
       "      <td>33.6</td>\n",
       "      <td>0.627</td>\n",
       "      <td>50</td>\n",
       "      <td>1</td>\n",
       "    </tr>\n",
       "    <tr>\n",
       "      <th>1</th>\n",
       "      <td>1</td>\n",
       "      <td>85</td>\n",
       "      <td>66</td>\n",
       "      <td>29</td>\n",
       "      <td>0</td>\n",
       "      <td>26.6</td>\n",
       "      <td>0.351</td>\n",
       "      <td>31</td>\n",
       "      <td>0</td>\n",
       "    </tr>\n",
       "    <tr>\n",
       "      <th>2</th>\n",
       "      <td>8</td>\n",
       "      <td>183</td>\n",
       "      <td>64</td>\n",
       "      <td>0</td>\n",
       "      <td>0</td>\n",
       "      <td>23.3</td>\n",
       "      <td>0.672</td>\n",
       "      <td>32</td>\n",
       "      <td>1</td>\n",
       "    </tr>\n",
       "    <tr>\n",
       "      <th>3</th>\n",
       "      <td>1</td>\n",
       "      <td>89</td>\n",
       "      <td>66</td>\n",
       "      <td>23</td>\n",
       "      <td>94</td>\n",
       "      <td>28.1</td>\n",
       "      <td>0.167</td>\n",
       "      <td>21</td>\n",
       "      <td>0</td>\n",
       "    </tr>\n",
       "    <tr>\n",
       "      <th>4</th>\n",
       "      <td>0</td>\n",
       "      <td>137</td>\n",
       "      <td>40</td>\n",
       "      <td>35</td>\n",
       "      <td>168</td>\n",
       "      <td>43.1</td>\n",
       "      <td>2.288</td>\n",
       "      <td>33</td>\n",
       "      <td>1</td>\n",
       "    </tr>\n",
       "    <tr>\n",
       "      <th>...</th>\n",
       "      <td>...</td>\n",
       "      <td>...</td>\n",
       "      <td>...</td>\n",
       "      <td>...</td>\n",
       "      <td>...</td>\n",
       "      <td>...</td>\n",
       "      <td>...</td>\n",
       "      <td>...</td>\n",
       "      <td>...</td>\n",
       "    </tr>\n",
       "    <tr>\n",
       "      <th>763</th>\n",
       "      <td>10</td>\n",
       "      <td>101</td>\n",
       "      <td>76</td>\n",
       "      <td>48</td>\n",
       "      <td>180</td>\n",
       "      <td>32.9</td>\n",
       "      <td>0.171</td>\n",
       "      <td>63</td>\n",
       "      <td>0</td>\n",
       "    </tr>\n",
       "    <tr>\n",
       "      <th>764</th>\n",
       "      <td>2</td>\n",
       "      <td>122</td>\n",
       "      <td>70</td>\n",
       "      <td>27</td>\n",
       "      <td>0</td>\n",
       "      <td>36.8</td>\n",
       "      <td>0.340</td>\n",
       "      <td>27</td>\n",
       "      <td>0</td>\n",
       "    </tr>\n",
       "    <tr>\n",
       "      <th>765</th>\n",
       "      <td>5</td>\n",
       "      <td>121</td>\n",
       "      <td>72</td>\n",
       "      <td>23</td>\n",
       "      <td>112</td>\n",
       "      <td>26.2</td>\n",
       "      <td>0.245</td>\n",
       "      <td>30</td>\n",
       "      <td>0</td>\n",
       "    </tr>\n",
       "    <tr>\n",
       "      <th>766</th>\n",
       "      <td>1</td>\n",
       "      <td>126</td>\n",
       "      <td>60</td>\n",
       "      <td>0</td>\n",
       "      <td>0</td>\n",
       "      <td>30.1</td>\n",
       "      <td>0.349</td>\n",
       "      <td>47</td>\n",
       "      <td>1</td>\n",
       "    </tr>\n",
       "    <tr>\n",
       "      <th>767</th>\n",
       "      <td>1</td>\n",
       "      <td>93</td>\n",
       "      <td>70</td>\n",
       "      <td>31</td>\n",
       "      <td>0</td>\n",
       "      <td>30.4</td>\n",
       "      <td>0.315</td>\n",
       "      <td>23</td>\n",
       "      <td>0</td>\n",
       "    </tr>\n",
       "  </tbody>\n",
       "</table>\n",
       "<p>768 rows × 9 columns</p>\n",
       "</div>"
      ],
      "text/plain": [
       "     Pregnancies  Glucose  ...  Age  Outcome\n",
       "0              6      148  ...   50        1\n",
       "1              1       85  ...   31        0\n",
       "2              8      183  ...   32        1\n",
       "3              1       89  ...   21        0\n",
       "4              0      137  ...   33        1\n",
       "..           ...      ...  ...  ...      ...\n",
       "763           10      101  ...   63        0\n",
       "764            2      122  ...   27        0\n",
       "765            5      121  ...   30        0\n",
       "766            1      126  ...   47        1\n",
       "767            1       93  ...   23        0\n",
       "\n",
       "[768 rows x 9 columns]"
      ]
     },
     "execution_count": 503,
     "metadata": {},
     "output_type": "execute_result"
    }
   ],
   "source": [
    "df1"
   ]
  },
  {
   "cell_type": "code",
   "execution_count": 504,
   "metadata": {
    "colab": {
     "base_uri": "https://localhost:8080/"
    },
    "executionInfo": {
     "elapsed": 256,
     "status": "ok",
     "timestamp": 1633105325875,
     "user": {
      "displayName": "Hasmukh Mer",
      "photoUrl": "https://lh3.googleusercontent.com/a/default-user=s64",
      "userId": "00621887669129670036"
     },
     "user_tz": -330
    },
    "id": "-jX4WbsS3_sr",
    "outputId": "efa55da6-92b1-40b6-c2fc-e902f8901525"
   },
   "outputs": [
    {
     "data": {
      "text/plain": [
       "Pregnancies                 0\n",
       "Glucose                     0\n",
       "BloodPressure               0\n",
       "SkinThickness               0\n",
       "Insulin                     0\n",
       "BMI                         0\n",
       "DiabetesPedigreeFunction    0\n",
       "Age                         0\n",
       "Outcome                     0\n",
       "dtype: int64"
      ]
     },
     "execution_count": 504,
     "metadata": {},
     "output_type": "execute_result"
    }
   ],
   "source": [
    "df1.isnull().sum()\n",
    "    "
   ]
  },
  {
   "cell_type": "code",
   "execution_count": 505,
   "metadata": {
    "executionInfo": {
     "elapsed": 246,
     "status": "ok",
     "timestamp": 1633105325876,
     "user": {
      "displayName": "Hasmukh Mer",
      "photoUrl": "https://lh3.googleusercontent.com/a/default-user=s64",
      "userId": "00621887669129670036"
     },
     "user_tz": -330
    },
    "id": "BNB3eRqr3_ss"
   },
   "outputs": [],
   "source": [
    "for x in df1.columns:\n",
    "    df1[x]=df1[x].replace(0,np.nan)\n",
    " \n",
    "    \n",
    "    "
   ]
  },
  {
   "cell_type": "code",
   "execution_count": 506,
   "metadata": {
    "executionInfo": {
     "elapsed": 245,
     "status": "ok",
     "timestamp": 1633105325876,
     "user": {
      "displayName": "Hasmukh Mer",
      "photoUrl": "https://lh3.googleusercontent.com/a/default-user=s64",
      "userId": "00621887669129670036"
     },
     "user_tz": -330
    },
    "id": "00bI8neB3_st"
   },
   "outputs": [],
   "source": [
    "df1['Pregnancies']=df1['Pregnancies'].replace(np.nan,0)"
   ]
  },
  {
   "cell_type": "code",
   "execution_count": 507,
   "metadata": {
    "executionInfo": {
     "elapsed": 246,
     "status": "ok",
     "timestamp": 1633105325877,
     "user": {
      "displayName": "Hasmukh Mer",
      "photoUrl": "https://lh3.googleusercontent.com/a/default-user=s64",
      "userId": "00621887669129670036"
     },
     "user_tz": -330
    },
    "id": "I9uP6LaQ3_st"
   },
   "outputs": [],
   "source": [
    "df1['Outcome']=df1['Outcome'].replace(np.nan,0)"
   ]
  },
  {
   "cell_type": "code",
   "execution_count": 508,
   "metadata": {
    "colab": {
     "base_uri": "https://localhost:8080/"
    },
    "executionInfo": {
     "elapsed": 247,
     "status": "ok",
     "timestamp": 1633105325879,
     "user": {
      "displayName": "Hasmukh Mer",
      "photoUrl": "https://lh3.googleusercontent.com/a/default-user=s64",
      "userId": "00621887669129670036"
     },
     "user_tz": -330
    },
    "id": "RcS1d0YN3_st",
    "outputId": "dbe4f489-5f21-4cf8-ab88-598d81bc64ea"
   },
   "outputs": [
    {
     "data": {
      "text/plain": [
       "652"
      ]
     },
     "execution_count": 508,
     "metadata": {},
     "output_type": "execute_result"
    }
   ],
   "source": [
    "#Total Null Values In DataFrame\n",
    "\n",
    "df1.isnull().values.sum()"
   ]
  },
  {
   "cell_type": "code",
   "execution_count": 509,
   "metadata": {
    "colab": {
     "base_uri": "https://localhost:8080/"
    },
    "executionInfo": {
     "elapsed": 239,
     "status": "ok",
     "timestamp": 1633105325881,
     "user": {
      "displayName": "Hasmukh Mer",
      "photoUrl": "https://lh3.googleusercontent.com/a/default-user=s64",
      "userId": "00621887669129670036"
     },
     "user_tz": -330
    },
    "id": "sPo2qQU33_su",
    "outputId": "a611d2ae-e4b8-4f9c-986b-91540ceb7536"
   },
   "outputs": [
    {
     "data": {
      "text/plain": [
       "Pregnancies                   0\n",
       "Glucose                       5\n",
       "BloodPressure                35\n",
       "SkinThickness               227\n",
       "Insulin                     374\n",
       "BMI                          11\n",
       "DiabetesPedigreeFunction      0\n",
       "Age                           0\n",
       "Outcome                       0\n",
       "dtype: int64"
      ]
     },
     "execution_count": 509,
     "metadata": {},
     "output_type": "execute_result"
    }
   ],
   "source": [
    "\n",
    "df1.isnull().sum()"
   ]
  },
  {
   "cell_type": "code",
   "execution_count": 510,
   "metadata": {
    "colab": {
     "base_uri": "https://localhost:8080/"
    },
    "executionInfo": {
     "elapsed": 229,
     "status": "ok",
     "timestamp": 1633105325887,
     "user": {
      "displayName": "Hasmukh Mer",
      "photoUrl": "https://lh3.googleusercontent.com/a/default-user=s64",
      "userId": "00621887669129670036"
     },
     "user_tz": -330
    },
    "id": "-Lq7nz_j3_sx",
    "outputId": "d4c5a7aa-a98b-4585-ad82-9c238718aea5"
   },
   "outputs": [
    {
     "data": {
      "text/plain": [
       "768"
      ]
     },
     "execution_count": 510,
     "metadata": {},
     "output_type": "execute_result"
    }
   ],
   "source": [
    "len(df1.index)\n",
    "len(df1)"
   ]
  },
  {
   "cell_type": "code",
   "execution_count": 511,
   "metadata": {
    "colab": {
     "base_uri": "https://localhost:8080/"
    },
    "executionInfo": {
     "elapsed": 221,
     "status": "ok",
     "timestamp": 1633105325888,
     "user": {
      "displayName": "Hasmukh Mer",
      "photoUrl": "https://lh3.googleusercontent.com/a/default-user=s64",
      "userId": "00621887669129670036"
     },
     "user_tz": -330
    },
    "id": "2-8h2hmw3_sx",
    "outputId": "e5fcac75-b3b9-45b9-b681-88b56d84b1d0"
   },
   "outputs": [
    {
     "name": "stdout",
     "output_type": "stream",
     "text": [
      "Column \t\t percentage \t total \n",
      "\n",
      "Pregnancies 0.0 0\n",
      "Glucose 0.65 5\n",
      "BloodPressure 4.56 35\n",
      "SkinThickness 29.56 227\n",
      "Insulin 48.7 374\n",
      "BMI 1.43 11\n",
      "DiabetesPedigreeFunction 0.0 0\n",
      "Age 0.0 0\n",
      "Outcome 0.0 0\n"
     ]
    }
   ],
   "source": [
    "print(\"Column \\t\\t percentage \\t total \\n\")\n",
    "for j in df1.columns:\n",
    "    per=(df1[j].isnull().sum()/len(df))*100\n",
    "    print( j,round(per,2),df1[j].isnull().sum())"
   ]
  },
  {
   "cell_type": "code",
   "execution_count": 512,
   "metadata": {
    "colab": {
     "base_uri": "https://localhost:8080/"
    },
    "executionInfo": {
     "elapsed": 207,
     "status": "ok",
     "timestamp": 1633105325888,
     "user": {
      "displayName": "Hasmukh Mer",
      "photoUrl": "https://lh3.googleusercontent.com/a/default-user=s64",
      "userId": "00621887669129670036"
     },
     "user_tz": -330
    },
    "id": "H4vJ8-F-3_sy",
    "outputId": "175253c2-2f77-47cd-c4de-4f4deaa8ebd5"
   },
   "outputs": [
    {
     "data": {
      "text/plain": [
       "768"
      ]
     },
     "execution_count": 512,
     "metadata": {},
     "output_type": "execute_result"
    }
   ],
   "source": [
    "len(df1)"
   ]
  },
  {
   "cell_type": "code",
   "execution_count": 513,
   "metadata": {
    "colab": {
     "base_uri": "https://localhost:8080/"
    },
    "executionInfo": {
     "elapsed": 198,
     "status": "ok",
     "timestamp": 1633105325889,
     "user": {
      "displayName": "Hasmukh Mer",
      "photoUrl": "https://lh3.googleusercontent.com/a/default-user=s64",
      "userId": "00621887669129670036"
     },
     "user_tz": -330
    },
    "id": "ql-uBIFp3_sz",
    "outputId": "d22a95c5-d4b8-473f-ce80-848792d8f3b6"
   },
   "outputs": [
    {
     "data": {
      "text/plain": [
       "9"
      ]
     },
     "execution_count": 513,
     "metadata": {},
     "output_type": "execute_result"
    }
   ],
   "source": [
    "len(columnlist)"
   ]
  },
  {
   "cell_type": "code",
   "execution_count": 514,
   "metadata": {
    "colab": {
     "base_uri": "https://localhost:8080/"
    },
    "executionInfo": {
     "elapsed": 187,
     "status": "ok",
     "timestamp": 1633105325890,
     "user": {
      "displayName": "Hasmukh Mer",
      "photoUrl": "https://lh3.googleusercontent.com/a/default-user=s64",
      "userId": "00621887669129670036"
     },
     "user_tz": -330
    },
    "id": "QtRe1unF3_sz",
    "outputId": "6b1c2987-fbcc-42f0-d52d-2121181b4496"
   },
   "outputs": [
    {
     "data": {
      "text/plain": [
       "11"
      ]
     },
     "execution_count": 514,
     "metadata": {},
     "output_type": "execute_result"
    }
   ],
   "source": [
    "df1['BMI'].isnull().sum()"
   ]
  },
  {
   "cell_type": "code",
   "execution_count": 515,
   "metadata": {
    "executionInfo": {
     "elapsed": 186,
     "status": "ok",
     "timestamp": 1633105325901,
     "user": {
      "displayName": "Hasmukh Mer",
      "photoUrl": "https://lh3.googleusercontent.com/a/default-user=s64",
      "userId": "00621887669129670036"
     },
     "user_tz": -330
    },
    "id": "RL3W_pzS3_s0"
   },
   "outputs": [],
   "source": [
    "#Create List Of Number Of Zeros in Every Column\n",
    "\n",
    "c_null=[]\n",
    "for i in list(df1.columns):\n",
    "    c_null.append(df1[i].isnull().sum())"
   ]
  },
  {
   "cell_type": "code",
   "execution_count": 516,
   "metadata": {
    "colab": {
     "base_uri": "https://localhost:8080/"
    },
    "executionInfo": {
     "elapsed": 185,
     "status": "ok",
     "timestamp": 1633105325901,
     "user": {
      "displayName": "Hasmukh Mer",
      "photoUrl": "https://lh3.googleusercontent.com/a/default-user=s64",
      "userId": "00621887669129670036"
     },
     "user_tz": -330
    },
    "id": "W8Ny211D3_s0",
    "outputId": "4e10514d-7c85-4e12-ec5a-acb8c1a38a0f"
   },
   "outputs": [
    {
     "data": {
      "text/plain": [
       "[0, 5, 35, 227, 374, 11, 0, 0, 0]"
      ]
     },
     "execution_count": 516,
     "metadata": {},
     "output_type": "execute_result"
    }
   ],
   "source": [
    "c_null"
   ]
  },
  {
   "cell_type": "code",
   "execution_count": 517,
   "metadata": {
    "executionInfo": {
     "elapsed": 171,
     "status": "ok",
     "timestamp": 1633105325902,
     "user": {
      "displayName": "Hasmukh Mer",
      "photoUrl": "https://lh3.googleusercontent.com/a/default-user=s64",
      "userId": "00621887669129670036"
     },
     "user_tz": -330
    },
    "id": "lkvZgsTP3_s1"
   },
   "outputs": [],
   "source": [
    "#Create List Of percentage of zeros in every Columns\n",
    "\n",
    "c_null_percentage=[]\n",
    "for i in c_null:\n",
    "    c_null_percentage.append((i/len(df1))*100)"
   ]
  },
  {
   "cell_type": "code",
   "execution_count": 518,
   "metadata": {
    "colab": {
     "base_uri": "https://localhost:8080/"
    },
    "executionInfo": {
     "elapsed": 171,
     "status": "ok",
     "timestamp": 1633105325903,
     "user": {
      "displayName": "Hasmukh Mer",
      "photoUrl": "https://lh3.googleusercontent.com/a/default-user=s64",
      "userId": "00621887669129670036"
     },
     "user_tz": -330
    },
    "id": "DDkPFFwr3_s1",
    "outputId": "06d2b647-bc25-4e34-8f6f-54a9320a4e64"
   },
   "outputs": [
    {
     "data": {
      "text/plain": [
       "[0.0,\n",
       " 0.6510416666666667,\n",
       " 4.557291666666666,\n",
       " 29.557291666666668,\n",
       " 48.69791666666667,\n",
       " 1.4322916666666665,\n",
       " 0.0,\n",
       " 0.0,\n",
       " 0.0]"
      ]
     },
     "execution_count": 518,
     "metadata": {},
     "output_type": "execute_result"
    }
   ],
   "source": [
    "c_null_percentage"
   ]
  },
  {
   "cell_type": "code",
   "execution_count": 519,
   "metadata": {
    "colab": {
     "base_uri": "https://localhost:8080/",
     "height": 332
    },
    "executionInfo": {
     "elapsed": 160,
     "status": "ok",
     "timestamp": 1633105325904,
     "user": {
      "displayName": "Hasmukh Mer",
      "photoUrl": "https://lh3.googleusercontent.com/a/default-user=s64",
      "userId": "00621887669129670036"
     },
     "user_tz": -330
    },
    "id": "6NibJddP3_s2",
    "outputId": "776ec167-feae-44f7-f548-a30b44074742"
   },
   "outputs": [
    {
     "data": {
      "text/html": [
       "<div>\n",
       "<style scoped>\n",
       "    .dataframe tbody tr th:only-of-type {\n",
       "        vertical-align: middle;\n",
       "    }\n",
       "\n",
       "    .dataframe tbody tr th {\n",
       "        vertical-align: top;\n",
       "    }\n",
       "\n",
       "    .dataframe thead th {\n",
       "        text-align: right;\n",
       "    }\n",
       "</style>\n",
       "<table border=\"1\" class=\"dataframe\">\n",
       "  <thead>\n",
       "    <tr style=\"text-align: right;\">\n",
       "      <th></th>\n",
       "      <th>Column Name</th>\n",
       "      <th>Total Null</th>\n",
       "      <th>Null percentage</th>\n",
       "    </tr>\n",
       "  </thead>\n",
       "  <tbody>\n",
       "    <tr>\n",
       "      <th>0</th>\n",
       "      <td>Pregnancies</td>\n",
       "      <td>0</td>\n",
       "      <td>0.000000</td>\n",
       "    </tr>\n",
       "    <tr>\n",
       "      <th>1</th>\n",
       "      <td>Glucose</td>\n",
       "      <td>5</td>\n",
       "      <td>0.651042</td>\n",
       "    </tr>\n",
       "    <tr>\n",
       "      <th>2</th>\n",
       "      <td>BloodPressure</td>\n",
       "      <td>35</td>\n",
       "      <td>4.557292</td>\n",
       "    </tr>\n",
       "    <tr>\n",
       "      <th>3</th>\n",
       "      <td>SkinThickness</td>\n",
       "      <td>227</td>\n",
       "      <td>29.557292</td>\n",
       "    </tr>\n",
       "    <tr>\n",
       "      <th>4</th>\n",
       "      <td>Insulin</td>\n",
       "      <td>374</td>\n",
       "      <td>48.697917</td>\n",
       "    </tr>\n",
       "    <tr>\n",
       "      <th>5</th>\n",
       "      <td>BMI</td>\n",
       "      <td>11</td>\n",
       "      <td>1.432292</td>\n",
       "    </tr>\n",
       "    <tr>\n",
       "      <th>6</th>\n",
       "      <td>DiabetesPedigreeFunction</td>\n",
       "      <td>0</td>\n",
       "      <td>0.000000</td>\n",
       "    </tr>\n",
       "    <tr>\n",
       "      <th>7</th>\n",
       "      <td>Age</td>\n",
       "      <td>0</td>\n",
       "      <td>0.000000</td>\n",
       "    </tr>\n",
       "    <tr>\n",
       "      <th>8</th>\n",
       "      <td>Outcome</td>\n",
       "      <td>0</td>\n",
       "      <td>0.000000</td>\n",
       "    </tr>\n",
       "  </tbody>\n",
       "</table>\n",
       "</div>"
      ],
      "text/plain": [
       "                Column Name  Total Null  Null percentage\n",
       "0               Pregnancies           0         0.000000\n",
       "1                   Glucose           5         0.651042\n",
       "2             BloodPressure          35         4.557292\n",
       "3             SkinThickness         227        29.557292\n",
       "4                   Insulin         374        48.697917\n",
       "5                       BMI          11         1.432292\n",
       "6  DiabetesPedigreeFunction           0         0.000000\n",
       "7                       Age           0         0.000000\n",
       "8                   Outcome           0         0.000000"
      ]
     },
     "execution_count": 519,
     "metadata": {},
     "output_type": "execute_result"
    }
   ],
   "source": [
    "# display column name ,total null ,%null in separate DataFrame\n",
    "df2= pd.DataFrame({\n",
    "    \"Column Name\":list(df1.columns),\n",
    "    \"Total Null\":c_null,\n",
    "    \"Null percentage\":c_null_percentage\n",
    "})\n",
    "df2"
   ]
  },
  {
   "cell_type": "code",
   "execution_count": 520,
   "metadata": {
    "colab": {
     "base_uri": "https://localhost:8080/",
     "height": 424
    },
    "executionInfo": {
     "elapsed": 158,
     "status": "ok",
     "timestamp": 1633105325904,
     "user": {
      "displayName": "Hasmukh Mer",
      "photoUrl": "https://lh3.googleusercontent.com/a/default-user=s64",
      "userId": "00621887669129670036"
     },
     "user_tz": -330
    },
    "id": "r05lmF2n3_s2",
    "outputId": "228b90ff-de6f-4610-9c95-56b73e9e54f3"
   },
   "outputs": [
    {
     "data": {
      "text/html": [
       "<div>\n",
       "<style scoped>\n",
       "    .dataframe tbody tr th:only-of-type {\n",
       "        vertical-align: middle;\n",
       "    }\n",
       "\n",
       "    .dataframe tbody tr th {\n",
       "        vertical-align: top;\n",
       "    }\n",
       "\n",
       "    .dataframe thead th {\n",
       "        text-align: right;\n",
       "    }\n",
       "</style>\n",
       "<table border=\"1\" class=\"dataframe\">\n",
       "  <thead>\n",
       "    <tr style=\"text-align: right;\">\n",
       "      <th></th>\n",
       "      <th>Pregnancies</th>\n",
       "      <th>Glucose</th>\n",
       "      <th>BloodPressure</th>\n",
       "      <th>SkinThickness</th>\n",
       "      <th>Insulin</th>\n",
       "      <th>BMI</th>\n",
       "      <th>DiabetesPedigreeFunction</th>\n",
       "      <th>Age</th>\n",
       "      <th>Outcome</th>\n",
       "    </tr>\n",
       "  </thead>\n",
       "  <tbody>\n",
       "    <tr>\n",
       "      <th>0</th>\n",
       "      <td>6.0</td>\n",
       "      <td>148.0</td>\n",
       "      <td>72.0</td>\n",
       "      <td>35.0</td>\n",
       "      <td>NaN</td>\n",
       "      <td>33.6</td>\n",
       "      <td>0.627</td>\n",
       "      <td>50</td>\n",
       "      <td>1.0</td>\n",
       "    </tr>\n",
       "    <tr>\n",
       "      <th>1</th>\n",
       "      <td>1.0</td>\n",
       "      <td>85.0</td>\n",
       "      <td>66.0</td>\n",
       "      <td>29.0</td>\n",
       "      <td>NaN</td>\n",
       "      <td>26.6</td>\n",
       "      <td>0.351</td>\n",
       "      <td>31</td>\n",
       "      <td>0.0</td>\n",
       "    </tr>\n",
       "    <tr>\n",
       "      <th>2</th>\n",
       "      <td>8.0</td>\n",
       "      <td>183.0</td>\n",
       "      <td>64.0</td>\n",
       "      <td>NaN</td>\n",
       "      <td>NaN</td>\n",
       "      <td>23.3</td>\n",
       "      <td>0.672</td>\n",
       "      <td>32</td>\n",
       "      <td>1.0</td>\n",
       "    </tr>\n",
       "    <tr>\n",
       "      <th>3</th>\n",
       "      <td>1.0</td>\n",
       "      <td>89.0</td>\n",
       "      <td>66.0</td>\n",
       "      <td>23.0</td>\n",
       "      <td>94.0</td>\n",
       "      <td>28.1</td>\n",
       "      <td>0.167</td>\n",
       "      <td>21</td>\n",
       "      <td>0.0</td>\n",
       "    </tr>\n",
       "    <tr>\n",
       "      <th>4</th>\n",
       "      <td>0.0</td>\n",
       "      <td>137.0</td>\n",
       "      <td>40.0</td>\n",
       "      <td>35.0</td>\n",
       "      <td>168.0</td>\n",
       "      <td>43.1</td>\n",
       "      <td>2.288</td>\n",
       "      <td>33</td>\n",
       "      <td>1.0</td>\n",
       "    </tr>\n",
       "    <tr>\n",
       "      <th>...</th>\n",
       "      <td>...</td>\n",
       "      <td>...</td>\n",
       "      <td>...</td>\n",
       "      <td>...</td>\n",
       "      <td>...</td>\n",
       "      <td>...</td>\n",
       "      <td>...</td>\n",
       "      <td>...</td>\n",
       "      <td>...</td>\n",
       "    </tr>\n",
       "    <tr>\n",
       "      <th>763</th>\n",
       "      <td>10.0</td>\n",
       "      <td>101.0</td>\n",
       "      <td>76.0</td>\n",
       "      <td>48.0</td>\n",
       "      <td>180.0</td>\n",
       "      <td>32.9</td>\n",
       "      <td>0.171</td>\n",
       "      <td>63</td>\n",
       "      <td>0.0</td>\n",
       "    </tr>\n",
       "    <tr>\n",
       "      <th>764</th>\n",
       "      <td>2.0</td>\n",
       "      <td>122.0</td>\n",
       "      <td>70.0</td>\n",
       "      <td>27.0</td>\n",
       "      <td>NaN</td>\n",
       "      <td>36.8</td>\n",
       "      <td>0.340</td>\n",
       "      <td>27</td>\n",
       "      <td>0.0</td>\n",
       "    </tr>\n",
       "    <tr>\n",
       "      <th>765</th>\n",
       "      <td>5.0</td>\n",
       "      <td>121.0</td>\n",
       "      <td>72.0</td>\n",
       "      <td>23.0</td>\n",
       "      <td>112.0</td>\n",
       "      <td>26.2</td>\n",
       "      <td>0.245</td>\n",
       "      <td>30</td>\n",
       "      <td>0.0</td>\n",
       "    </tr>\n",
       "    <tr>\n",
       "      <th>766</th>\n",
       "      <td>1.0</td>\n",
       "      <td>126.0</td>\n",
       "      <td>60.0</td>\n",
       "      <td>NaN</td>\n",
       "      <td>NaN</td>\n",
       "      <td>30.1</td>\n",
       "      <td>0.349</td>\n",
       "      <td>47</td>\n",
       "      <td>1.0</td>\n",
       "    </tr>\n",
       "    <tr>\n",
       "      <th>767</th>\n",
       "      <td>1.0</td>\n",
       "      <td>93.0</td>\n",
       "      <td>70.0</td>\n",
       "      <td>31.0</td>\n",
       "      <td>NaN</td>\n",
       "      <td>30.4</td>\n",
       "      <td>0.315</td>\n",
       "      <td>23</td>\n",
       "      <td>0.0</td>\n",
       "    </tr>\n",
       "  </tbody>\n",
       "</table>\n",
       "<p>768 rows × 9 columns</p>\n",
       "</div>"
      ],
      "text/plain": [
       "     Pregnancies  Glucose  ...  Age  Outcome\n",
       "0            6.0    148.0  ...   50      1.0\n",
       "1            1.0     85.0  ...   31      0.0\n",
       "2            8.0    183.0  ...   32      1.0\n",
       "3            1.0     89.0  ...   21      0.0\n",
       "4            0.0    137.0  ...   33      1.0\n",
       "..           ...      ...  ...  ...      ...\n",
       "763         10.0    101.0  ...   63      0.0\n",
       "764          2.0    122.0  ...   27      0.0\n",
       "765          5.0    121.0  ...   30      0.0\n",
       "766          1.0    126.0  ...   47      1.0\n",
       "767          1.0     93.0  ...   23      0.0\n",
       "\n",
       "[768 rows x 9 columns]"
      ]
     },
     "execution_count": 520,
     "metadata": {},
     "output_type": "execute_result"
    }
   ],
   "source": [
    "df1"
   ]
  },
  {
   "cell_type": "code",
   "execution_count": 521,
   "metadata": {
    "colab": {
     "base_uri": "https://localhost:8080/"
    },
    "executionInfo": {
     "elapsed": 159,
     "status": "ok",
     "timestamp": 1633105325906,
     "user": {
      "displayName": "Hasmukh Mer",
      "photoUrl": "https://lh3.googleusercontent.com/a/default-user=s64",
      "userId": "00621887669129670036"
     },
     "user_tz": -330
    },
    "id": "Hp-oZEnf3_s2",
    "outputId": "5e5fc0ae-9e7a-4f55-f2fd-d2ac24c46406"
   },
   "outputs": [
    {
     "data": {
      "text/plain": [
       "Pregnancies                   0\n",
       "Glucose                       5\n",
       "BloodPressure                35\n",
       "SkinThickness               227\n",
       "Insulin                     374\n",
       "BMI                          11\n",
       "DiabetesPedigreeFunction      0\n",
       "Age                           0\n",
       "Outcome                       0\n",
       "dtype: int64"
      ]
     },
     "execution_count": 521,
     "metadata": {},
     "output_type": "execute_result"
    }
   ],
   "source": [
    "df1.isnull().sum()"
   ]
  },
  {
   "cell_type": "code",
   "execution_count": 522,
   "metadata": {
    "colab": {
     "base_uri": "https://localhost:8080/"
    },
    "executionInfo": {
     "elapsed": 155,
     "status": "ok",
     "timestamp": 1633105325915,
     "user": {
      "displayName": "Hasmukh Mer",
      "photoUrl": "https://lh3.googleusercontent.com/a/default-user=s64",
      "userId": "00621887669129670036"
     },
     "user_tz": -330
    },
    "id": "Bb3JqfOb3_s3",
    "outputId": "0508372b-1a5e-4ce6-ace2-92fb7a2cdf16"
   },
   "outputs": [
    {
     "data": {
      "text/plain": [
       "Pregnancies                 float64\n",
       "Glucose                     float64\n",
       "BloodPressure               float64\n",
       "SkinThickness               float64\n",
       "Insulin                     float64\n",
       "BMI                         float64\n",
       "DiabetesPedigreeFunction    float64\n",
       "Age                           int64\n",
       "Outcome                     float64\n",
       "dtype: object"
      ]
     },
     "execution_count": 522,
     "metadata": {},
     "output_type": "execute_result"
    }
   ],
   "source": [
    "df1.dtypes"
   ]
  },
  {
   "cell_type": "code",
   "execution_count": 523,
   "metadata": {
    "executionInfo": {
     "elapsed": 144,
     "status": "ok",
     "timestamp": 1633105325916,
     "user": {
      "displayName": "Hasmukh Mer",
      "photoUrl": "https://lh3.googleusercontent.com/a/default-user=s64",
      "userId": "00621887669129670036"
     },
     "user_tz": -330
    },
    "id": "pgj8GBLh3_s3"
   },
   "outputs": [],
   "source": [
    "# Chnage The DataType Of Column.....\n",
    "\n",
    "convert_dict = {'Pregnancies': int,\n",
    "                'Outcome': int\n",
    "               }\n",
    "\n",
    "df1=df1.astype(convert_dict)"
   ]
  },
  {
   "cell_type": "code",
   "execution_count": 524,
   "metadata": {
    "colab": {
     "base_uri": "https://localhost:8080/",
     "height": 424
    },
    "executionInfo": {
     "elapsed": 144,
     "status": "ok",
     "timestamp": 1633105325917,
     "user": {
      "displayName": "Hasmukh Mer",
      "photoUrl": "https://lh3.googleusercontent.com/a/default-user=s64",
      "userId": "00621887669129670036"
     },
     "user_tz": -330
    },
    "id": "ZoUbckFk3_s4",
    "outputId": "ef0676ee-1d32-4079-c9bf-11b62da5200c"
   },
   "outputs": [
    {
     "data": {
      "text/html": [
       "<div>\n",
       "<style scoped>\n",
       "    .dataframe tbody tr th:only-of-type {\n",
       "        vertical-align: middle;\n",
       "    }\n",
       "\n",
       "    .dataframe tbody tr th {\n",
       "        vertical-align: top;\n",
       "    }\n",
       "\n",
       "    .dataframe thead th {\n",
       "        text-align: right;\n",
       "    }\n",
       "</style>\n",
       "<table border=\"1\" class=\"dataframe\">\n",
       "  <thead>\n",
       "    <tr style=\"text-align: right;\">\n",
       "      <th></th>\n",
       "      <th>Pregnancies</th>\n",
       "      <th>Glucose</th>\n",
       "      <th>BloodPressure</th>\n",
       "      <th>SkinThickness</th>\n",
       "      <th>Insulin</th>\n",
       "      <th>BMI</th>\n",
       "      <th>DiabetesPedigreeFunction</th>\n",
       "      <th>Age</th>\n",
       "      <th>Outcome</th>\n",
       "    </tr>\n",
       "  </thead>\n",
       "  <tbody>\n",
       "    <tr>\n",
       "      <th>0</th>\n",
       "      <td>6</td>\n",
       "      <td>148.0</td>\n",
       "      <td>72.0</td>\n",
       "      <td>35.0</td>\n",
       "      <td>NaN</td>\n",
       "      <td>33.6</td>\n",
       "      <td>0.627</td>\n",
       "      <td>50</td>\n",
       "      <td>1</td>\n",
       "    </tr>\n",
       "    <tr>\n",
       "      <th>1</th>\n",
       "      <td>1</td>\n",
       "      <td>85.0</td>\n",
       "      <td>66.0</td>\n",
       "      <td>29.0</td>\n",
       "      <td>NaN</td>\n",
       "      <td>26.6</td>\n",
       "      <td>0.351</td>\n",
       "      <td>31</td>\n",
       "      <td>0</td>\n",
       "    </tr>\n",
       "    <tr>\n",
       "      <th>2</th>\n",
       "      <td>8</td>\n",
       "      <td>183.0</td>\n",
       "      <td>64.0</td>\n",
       "      <td>NaN</td>\n",
       "      <td>NaN</td>\n",
       "      <td>23.3</td>\n",
       "      <td>0.672</td>\n",
       "      <td>32</td>\n",
       "      <td>1</td>\n",
       "    </tr>\n",
       "    <tr>\n",
       "      <th>3</th>\n",
       "      <td>1</td>\n",
       "      <td>89.0</td>\n",
       "      <td>66.0</td>\n",
       "      <td>23.0</td>\n",
       "      <td>94.0</td>\n",
       "      <td>28.1</td>\n",
       "      <td>0.167</td>\n",
       "      <td>21</td>\n",
       "      <td>0</td>\n",
       "    </tr>\n",
       "    <tr>\n",
       "      <th>4</th>\n",
       "      <td>0</td>\n",
       "      <td>137.0</td>\n",
       "      <td>40.0</td>\n",
       "      <td>35.0</td>\n",
       "      <td>168.0</td>\n",
       "      <td>43.1</td>\n",
       "      <td>2.288</td>\n",
       "      <td>33</td>\n",
       "      <td>1</td>\n",
       "    </tr>\n",
       "    <tr>\n",
       "      <th>...</th>\n",
       "      <td>...</td>\n",
       "      <td>...</td>\n",
       "      <td>...</td>\n",
       "      <td>...</td>\n",
       "      <td>...</td>\n",
       "      <td>...</td>\n",
       "      <td>...</td>\n",
       "      <td>...</td>\n",
       "      <td>...</td>\n",
       "    </tr>\n",
       "    <tr>\n",
       "      <th>763</th>\n",
       "      <td>10</td>\n",
       "      <td>101.0</td>\n",
       "      <td>76.0</td>\n",
       "      <td>48.0</td>\n",
       "      <td>180.0</td>\n",
       "      <td>32.9</td>\n",
       "      <td>0.171</td>\n",
       "      <td>63</td>\n",
       "      <td>0</td>\n",
       "    </tr>\n",
       "    <tr>\n",
       "      <th>764</th>\n",
       "      <td>2</td>\n",
       "      <td>122.0</td>\n",
       "      <td>70.0</td>\n",
       "      <td>27.0</td>\n",
       "      <td>NaN</td>\n",
       "      <td>36.8</td>\n",
       "      <td>0.340</td>\n",
       "      <td>27</td>\n",
       "      <td>0</td>\n",
       "    </tr>\n",
       "    <tr>\n",
       "      <th>765</th>\n",
       "      <td>5</td>\n",
       "      <td>121.0</td>\n",
       "      <td>72.0</td>\n",
       "      <td>23.0</td>\n",
       "      <td>112.0</td>\n",
       "      <td>26.2</td>\n",
       "      <td>0.245</td>\n",
       "      <td>30</td>\n",
       "      <td>0</td>\n",
       "    </tr>\n",
       "    <tr>\n",
       "      <th>766</th>\n",
       "      <td>1</td>\n",
       "      <td>126.0</td>\n",
       "      <td>60.0</td>\n",
       "      <td>NaN</td>\n",
       "      <td>NaN</td>\n",
       "      <td>30.1</td>\n",
       "      <td>0.349</td>\n",
       "      <td>47</td>\n",
       "      <td>1</td>\n",
       "    </tr>\n",
       "    <tr>\n",
       "      <th>767</th>\n",
       "      <td>1</td>\n",
       "      <td>93.0</td>\n",
       "      <td>70.0</td>\n",
       "      <td>31.0</td>\n",
       "      <td>NaN</td>\n",
       "      <td>30.4</td>\n",
       "      <td>0.315</td>\n",
       "      <td>23</td>\n",
       "      <td>0</td>\n",
       "    </tr>\n",
       "  </tbody>\n",
       "</table>\n",
       "<p>768 rows × 9 columns</p>\n",
       "</div>"
      ],
      "text/plain": [
       "     Pregnancies  Glucose  ...  Age  Outcome\n",
       "0              6    148.0  ...   50        1\n",
       "1              1     85.0  ...   31        0\n",
       "2              8    183.0  ...   32        1\n",
       "3              1     89.0  ...   21        0\n",
       "4              0    137.0  ...   33        1\n",
       "..           ...      ...  ...  ...      ...\n",
       "763           10    101.0  ...   63        0\n",
       "764            2    122.0  ...   27        0\n",
       "765            5    121.0  ...   30        0\n",
       "766            1    126.0  ...   47        1\n",
       "767            1     93.0  ...   23        0\n",
       "\n",
       "[768 rows x 9 columns]"
      ]
     },
     "execution_count": 524,
     "metadata": {},
     "output_type": "execute_result"
    }
   ],
   "source": [
    "df1"
   ]
  },
  {
   "cell_type": "code",
   "execution_count": 525,
   "metadata": {
    "colab": {
     "base_uri": "https://localhost:8080/",
     "height": 300
    },
    "executionInfo": {
     "elapsed": 142,
     "status": "ok",
     "timestamp": 1633105325918,
     "user": {
      "displayName": "Hasmukh Mer",
      "photoUrl": "https://lh3.googleusercontent.com/a/default-user=s64",
      "userId": "00621887669129670036"
     },
     "user_tz": -330
    },
    "id": "RVguxT063_s4",
    "outputId": "5785c19a-eb3d-4a7f-e1bf-0bf3964f6045"
   },
   "outputs": [
    {
     "data": {
      "text/html": [
       "<div>\n",
       "<style scoped>\n",
       "    .dataframe tbody tr th:only-of-type {\n",
       "        vertical-align: middle;\n",
       "    }\n",
       "\n",
       "    .dataframe tbody tr th {\n",
       "        vertical-align: top;\n",
       "    }\n",
       "\n",
       "    .dataframe thead th {\n",
       "        text-align: right;\n",
       "    }\n",
       "</style>\n",
       "<table border=\"1\" class=\"dataframe\">\n",
       "  <thead>\n",
       "    <tr style=\"text-align: right;\">\n",
       "      <th></th>\n",
       "      <th>Pregnancies</th>\n",
       "      <th>Glucose</th>\n",
       "      <th>BloodPressure</th>\n",
       "      <th>SkinThickness</th>\n",
       "      <th>Insulin</th>\n",
       "      <th>BMI</th>\n",
       "      <th>DiabetesPedigreeFunction</th>\n",
       "      <th>Age</th>\n",
       "      <th>Outcome</th>\n",
       "    </tr>\n",
       "  </thead>\n",
       "  <tbody>\n",
       "    <tr>\n",
       "      <th>count</th>\n",
       "      <td>768.000000</td>\n",
       "      <td>763.000000</td>\n",
       "      <td>733.000000</td>\n",
       "      <td>541.000000</td>\n",
       "      <td>394.000000</td>\n",
       "      <td>757.000000</td>\n",
       "      <td>768.000000</td>\n",
       "      <td>768.000000</td>\n",
       "      <td>768.000000</td>\n",
       "    </tr>\n",
       "    <tr>\n",
       "      <th>mean</th>\n",
       "      <td>3.845052</td>\n",
       "      <td>121.686763</td>\n",
       "      <td>72.405184</td>\n",
       "      <td>29.153420</td>\n",
       "      <td>155.548223</td>\n",
       "      <td>32.457464</td>\n",
       "      <td>0.471876</td>\n",
       "      <td>33.240885</td>\n",
       "      <td>0.348958</td>\n",
       "    </tr>\n",
       "    <tr>\n",
       "      <th>std</th>\n",
       "      <td>3.369578</td>\n",
       "      <td>30.535641</td>\n",
       "      <td>12.382158</td>\n",
       "      <td>10.476982</td>\n",
       "      <td>118.775855</td>\n",
       "      <td>6.924988</td>\n",
       "      <td>0.331329</td>\n",
       "      <td>11.760232</td>\n",
       "      <td>0.476951</td>\n",
       "    </tr>\n",
       "    <tr>\n",
       "      <th>min</th>\n",
       "      <td>0.000000</td>\n",
       "      <td>44.000000</td>\n",
       "      <td>24.000000</td>\n",
       "      <td>7.000000</td>\n",
       "      <td>14.000000</td>\n",
       "      <td>18.200000</td>\n",
       "      <td>0.078000</td>\n",
       "      <td>21.000000</td>\n",
       "      <td>0.000000</td>\n",
       "    </tr>\n",
       "    <tr>\n",
       "      <th>25%</th>\n",
       "      <td>1.000000</td>\n",
       "      <td>99.000000</td>\n",
       "      <td>64.000000</td>\n",
       "      <td>22.000000</td>\n",
       "      <td>76.250000</td>\n",
       "      <td>27.500000</td>\n",
       "      <td>0.243750</td>\n",
       "      <td>24.000000</td>\n",
       "      <td>0.000000</td>\n",
       "    </tr>\n",
       "    <tr>\n",
       "      <th>50%</th>\n",
       "      <td>3.000000</td>\n",
       "      <td>117.000000</td>\n",
       "      <td>72.000000</td>\n",
       "      <td>29.000000</td>\n",
       "      <td>125.000000</td>\n",
       "      <td>32.300000</td>\n",
       "      <td>0.372500</td>\n",
       "      <td>29.000000</td>\n",
       "      <td>0.000000</td>\n",
       "    </tr>\n",
       "    <tr>\n",
       "      <th>75%</th>\n",
       "      <td>6.000000</td>\n",
       "      <td>141.000000</td>\n",
       "      <td>80.000000</td>\n",
       "      <td>36.000000</td>\n",
       "      <td>190.000000</td>\n",
       "      <td>36.600000</td>\n",
       "      <td>0.626250</td>\n",
       "      <td>41.000000</td>\n",
       "      <td>1.000000</td>\n",
       "    </tr>\n",
       "    <tr>\n",
       "      <th>max</th>\n",
       "      <td>17.000000</td>\n",
       "      <td>199.000000</td>\n",
       "      <td>122.000000</td>\n",
       "      <td>99.000000</td>\n",
       "      <td>846.000000</td>\n",
       "      <td>67.100000</td>\n",
       "      <td>2.420000</td>\n",
       "      <td>81.000000</td>\n",
       "      <td>1.000000</td>\n",
       "    </tr>\n",
       "  </tbody>\n",
       "</table>\n",
       "</div>"
      ],
      "text/plain": [
       "       Pregnancies     Glucose  ...         Age     Outcome\n",
       "count   768.000000  763.000000  ...  768.000000  768.000000\n",
       "mean      3.845052  121.686763  ...   33.240885    0.348958\n",
       "std       3.369578   30.535641  ...   11.760232    0.476951\n",
       "min       0.000000   44.000000  ...   21.000000    0.000000\n",
       "25%       1.000000   99.000000  ...   24.000000    0.000000\n",
       "50%       3.000000  117.000000  ...   29.000000    0.000000\n",
       "75%       6.000000  141.000000  ...   41.000000    1.000000\n",
       "max      17.000000  199.000000  ...   81.000000    1.000000\n",
       "\n",
       "[8 rows x 9 columns]"
      ]
     },
     "execution_count": 525,
     "metadata": {},
     "output_type": "execute_result"
    }
   ],
   "source": [
    "df1.describe()"
   ]
  },
  {
   "cell_type": "code",
   "execution_count": 526,
   "metadata": {
    "colab": {
     "base_uri": "https://localhost:8080/"
    },
    "executionInfo": {
     "elapsed": 141,
     "status": "ok",
     "timestamp": 1633105325919,
     "user": {
      "displayName": "Hasmukh Mer",
      "photoUrl": "https://lh3.googleusercontent.com/a/default-user=s64",
      "userId": "00621887669129670036"
     },
     "user_tz": -330
    },
    "id": "MvfTIgb43_s5",
    "outputId": "b7942189-5376-4782-b36c-7999e3de33da"
   },
   "outputs": [
    {
     "data": {
      "text/plain": [
       "Pregnancies                   0\n",
       "Glucose                       0\n",
       "BloodPressure                35\n",
       "SkinThickness               227\n",
       "Insulin                     374\n",
       "BMI                          11\n",
       "DiabetesPedigreeFunction      0\n",
       "Age                           0\n",
       "Outcome                       0\n",
       "dtype: int64"
      ]
     },
     "execution_count": 526,
     "metadata": {},
     "output_type": "execute_result"
    }
   ],
   "source": [
    "df1['Glucose']=df1['Glucose'].replace(np.nan,121.68)\n",
    "df1.isnull().sum()"
   ]
  },
  {
   "cell_type": "code",
   "execution_count": 527,
   "metadata": {
    "colab": {
     "base_uri": "https://localhost:8080/"
    },
    "executionInfo": {
     "elapsed": 371,
     "status": "ok",
     "timestamp": 1633105328049,
     "user": {
      "displayName": "Hasmukh Mer",
      "photoUrl": "https://lh3.googleusercontent.com/a/default-user=s64",
      "userId": "00621887669129670036"
     },
     "user_tz": -330
    },
    "id": "mg9Stw4X3_s5",
    "outputId": "89fdaf61-3128-4798-ed74-a7b9c60aefa4"
   },
   "outputs": [
    {
     "data": {
      "text/plain": [
       "Pregnancies                   0\n",
       "Glucose                       0\n",
       "BloodPressure                 0\n",
       "SkinThickness               227\n",
       "Insulin                     374\n",
       "BMI                          11\n",
       "DiabetesPedigreeFunction      0\n",
       "Age                           0\n",
       "Outcome                       0\n",
       "dtype: int64"
      ]
     },
     "execution_count": 527,
     "metadata": {},
     "output_type": "execute_result"
    }
   ],
   "source": [
    "df1['BloodPressure']=df1['BloodPressure'].replace(np.nan,72.40)\n",
    "df1.isnull().sum()"
   ]
  },
  {
   "cell_type": "code",
   "execution_count": 528,
   "metadata": {
    "colab": {
     "base_uri": "https://localhost:8080/"
    },
    "executionInfo": {
     "elapsed": 353,
     "status": "ok",
     "timestamp": 1633105328050,
     "user": {
      "displayName": "Hasmukh Mer",
      "photoUrl": "https://lh3.googleusercontent.com/a/default-user=s64",
      "userId": "00621887669129670036"
     },
     "user_tz": -330
    },
    "id": "PQkESFnY3_s7",
    "outputId": "c2500309-5519-4148-be01-814074b63462"
   },
   "outputs": [
    {
     "data": {
      "text/plain": [
       "Pregnancies                   0\n",
       "Glucose                       0\n",
       "BloodPressure                 0\n",
       "SkinThickness                 0\n",
       "Insulin                     374\n",
       "BMI                          11\n",
       "DiabetesPedigreeFunction      0\n",
       "Age                           0\n",
       "Outcome                       0\n",
       "dtype: int64"
      ]
     },
     "execution_count": 528,
     "metadata": {},
     "output_type": "execute_result"
    }
   ],
   "source": [
    "df1['SkinThickness']=df1['SkinThickness'].replace(np.nan,29.15)\n",
    "df1.isnull().sum()"
   ]
  },
  {
   "cell_type": "code",
   "execution_count": 529,
   "metadata": {
    "colab": {
     "base_uri": "https://localhost:8080/"
    },
    "executionInfo": {
     "elapsed": 329,
     "status": "ok",
     "timestamp": 1633105328051,
     "user": {
      "displayName": "Hasmukh Mer",
      "photoUrl": "https://lh3.googleusercontent.com/a/default-user=s64",
      "userId": "00621887669129670036"
     },
     "user_tz": -330
    },
    "id": "lJAnu1IJ3_s7",
    "outputId": "c9d07c5c-cb85-408d-9b7d-07b09962726b"
   },
   "outputs": [
    {
     "data": {
      "text/plain": [
       "Pregnancies                  0\n",
       "Glucose                      0\n",
       "BloodPressure                0\n",
       "SkinThickness                0\n",
       "Insulin                      0\n",
       "BMI                         11\n",
       "DiabetesPedigreeFunction     0\n",
       "Age                          0\n",
       "Outcome                      0\n",
       "dtype: int64"
      ]
     },
     "execution_count": 529,
     "metadata": {},
     "output_type": "execute_result"
    }
   ],
   "source": [
    "df1['Insulin']=df1['Insulin'].replace(np.nan,155.54)\n",
    "df1.isnull().sum()"
   ]
  },
  {
   "cell_type": "code",
   "execution_count": 530,
   "metadata": {
    "colab": {
     "base_uri": "https://localhost:8080/"
    },
    "executionInfo": {
     "elapsed": 318,
     "status": "ok",
     "timestamp": 1633105328052,
     "user": {
      "displayName": "Hasmukh Mer",
      "photoUrl": "https://lh3.googleusercontent.com/a/default-user=s64",
      "userId": "00621887669129670036"
     },
     "user_tz": -330
    },
    "id": "FnmlZ6RB3_s8",
    "outputId": "dd400ad1-3e44-4d4d-abaa-c8be2d3a66ba"
   },
   "outputs": [
    {
     "data": {
      "text/plain": [
       "Pregnancies                 0\n",
       "Glucose                     0\n",
       "BloodPressure               0\n",
       "SkinThickness               0\n",
       "Insulin                     0\n",
       "BMI                         0\n",
       "DiabetesPedigreeFunction    0\n",
       "Age                         0\n",
       "Outcome                     0\n",
       "dtype: int64"
      ]
     },
     "execution_count": 530,
     "metadata": {},
     "output_type": "execute_result"
    }
   ],
   "source": [
    "df1['BMI']=df1['BMI'].replace(np.nan,32.45)\n",
    "df1.isnull().sum()"
   ]
  },
  {
   "cell_type": "code",
   "execution_count": 531,
   "metadata": {
    "executionInfo": {
     "elapsed": 324,
     "status": "ok",
     "timestamp": 1633105328070,
     "user": {
      "displayName": "Hasmukh Mer",
      "photoUrl": "https://lh3.googleusercontent.com/a/default-user=s64",
      "userId": "00621887669129670036"
     },
     "user_tz": -330
    },
    "id": "MsfHihm23_s8"
   },
   "outputs": [],
   "source": [
    "# df1.isnull().values.sum()\n",
    "# df1.to_csv(\"new_diabetes.csv\",index=False)\n",
    "# (df1==0).sum(axis=0)\n",
    "# (df1==1).sum(axis=0)"
   ]
  },
  {
   "cell_type": "code",
   "execution_count": 532,
   "metadata": {
    "executionInfo": {
     "elapsed": 324,
     "status": "ok",
     "timestamp": 1633105328071,
     "user": {
      "displayName": "Hasmukh Mer",
      "photoUrl": "https://lh3.googleusercontent.com/a/default-user=s64",
      "userId": "00621887669129670036"
     },
     "user_tz": -330
    },
    "id": "-jxGsHUq3_s8"
   },
   "outputs": [],
   "source": [
    "na=df1.isnull().sum().sort_values(ascending=True)"
   ]
  },
  {
   "cell_type": "code",
   "execution_count": 533,
   "metadata": {
    "colab": {
     "base_uri": "https://localhost:8080/"
    },
    "executionInfo": {
     "elapsed": 323,
     "status": "ok",
     "timestamp": 1633105328071,
     "user": {
      "displayName": "Hasmukh Mer",
      "photoUrl": "https://lh3.googleusercontent.com/a/default-user=s64",
      "userId": "00621887669129670036"
     },
     "user_tz": -330
    },
    "id": "1oD2G3od3_s9",
    "outputId": "431cb2ea-44f9-4e42-b6da-2e7a7e14e224"
   },
   "outputs": [
    {
     "data": {
      "text/plain": [
       "Pregnancies                 0\n",
       "Glucose                     0\n",
       "BloodPressure               0\n",
       "SkinThickness               0\n",
       "Insulin                     0\n",
       "BMI                         0\n",
       "DiabetesPedigreeFunction    0\n",
       "Age                         0\n",
       "Outcome                     0\n",
       "dtype: int64"
      ]
     },
     "execution_count": 533,
     "metadata": {},
     "output_type": "execute_result"
    }
   ],
   "source": [
    "na"
   ]
  },
  {
   "cell_type": "code",
   "execution_count": 534,
   "metadata": {
    "executionInfo": {
     "elapsed": 305,
     "status": "ok",
     "timestamp": 1633105328072,
     "user": {
      "displayName": "Hasmukh Mer",
      "photoUrl": "https://lh3.googleusercontent.com/a/default-user=s64",
      "userId": "00621887669129670036"
     },
     "user_tz": -330
    },
    "id": "u_3v9R0s3_s-"
   },
   "outputs": [],
   "source": [
    "total_count=df1.isnull().count().sort_values(ascending=True)"
   ]
  },
  {
   "cell_type": "code",
   "execution_count": 535,
   "metadata": {
    "colab": {
     "base_uri": "https://localhost:8080/"
    },
    "executionInfo": {
     "elapsed": 299,
     "status": "ok",
     "timestamp": 1633105328073,
     "user": {
      "displayName": "Hasmukh Mer",
      "photoUrl": "https://lh3.googleusercontent.com/a/default-user=s64",
      "userId": "00621887669129670036"
     },
     "user_tz": -330
    },
    "id": "NHhvfZP73_s-",
    "outputId": "c090751f-baf4-4c96-c21c-389879bc853e"
   },
   "outputs": [
    {
     "data": {
      "text/plain": [
       "Pregnancies                 768\n",
       "Glucose                     768\n",
       "BloodPressure               768\n",
       "SkinThickness               768\n",
       "Insulin                     768\n",
       "BMI                         768\n",
       "DiabetesPedigreeFunction    768\n",
       "Age                         768\n",
       "Outcome                     768\n",
       "dtype: int64"
      ]
     },
     "execution_count": 535,
     "metadata": {},
     "output_type": "execute_result"
    }
   ],
   "source": [
    "total_count"
   ]
  },
  {
   "cell_type": "code",
   "execution_count": 536,
   "metadata": {
    "executionInfo": {
     "elapsed": 281,
     "status": "ok",
     "timestamp": 1633105328074,
     "user": {
      "displayName": "Hasmukh Mer",
      "photoUrl": "https://lh3.googleusercontent.com/a/default-user=s64",
      "userId": "00621887669129670036"
     },
     "user_tz": -330
    },
    "id": "1Uy3TI0X3_s-"
   },
   "outputs": [],
   "source": [
    "new_df=pd.concat((na,total_count),keys=['Total Na','Total_count'],axis=1)"
   ]
  },
  {
   "cell_type": "code",
   "execution_count": 537,
   "metadata": {
    "colab": {
     "base_uri": "https://localhost:8080/",
     "height": 332
    },
    "executionInfo": {
     "elapsed": 281,
     "status": "ok",
     "timestamp": 1633105328075,
     "user": {
      "displayName": "Hasmukh Mer",
      "photoUrl": "https://lh3.googleusercontent.com/a/default-user=s64",
      "userId": "00621887669129670036"
     },
     "user_tz": -330
    },
    "id": "mukPUz3T3_s_",
    "outputId": "c6e0ef7d-29bd-4dc9-a821-300d06b4cfa3"
   },
   "outputs": [
    {
     "data": {
      "text/html": [
       "<div>\n",
       "<style scoped>\n",
       "    .dataframe tbody tr th:only-of-type {\n",
       "        vertical-align: middle;\n",
       "    }\n",
       "\n",
       "    .dataframe tbody tr th {\n",
       "        vertical-align: top;\n",
       "    }\n",
       "\n",
       "    .dataframe thead th {\n",
       "        text-align: right;\n",
       "    }\n",
       "</style>\n",
       "<table border=\"1\" class=\"dataframe\">\n",
       "  <thead>\n",
       "    <tr style=\"text-align: right;\">\n",
       "      <th></th>\n",
       "      <th>Total Na</th>\n",
       "      <th>Total_count</th>\n",
       "    </tr>\n",
       "  </thead>\n",
       "  <tbody>\n",
       "    <tr>\n",
       "      <th>Pregnancies</th>\n",
       "      <td>0</td>\n",
       "      <td>768</td>\n",
       "    </tr>\n",
       "    <tr>\n",
       "      <th>Glucose</th>\n",
       "      <td>0</td>\n",
       "      <td>768</td>\n",
       "    </tr>\n",
       "    <tr>\n",
       "      <th>BloodPressure</th>\n",
       "      <td>0</td>\n",
       "      <td>768</td>\n",
       "    </tr>\n",
       "    <tr>\n",
       "      <th>SkinThickness</th>\n",
       "      <td>0</td>\n",
       "      <td>768</td>\n",
       "    </tr>\n",
       "    <tr>\n",
       "      <th>Insulin</th>\n",
       "      <td>0</td>\n",
       "      <td>768</td>\n",
       "    </tr>\n",
       "    <tr>\n",
       "      <th>BMI</th>\n",
       "      <td>0</td>\n",
       "      <td>768</td>\n",
       "    </tr>\n",
       "    <tr>\n",
       "      <th>DiabetesPedigreeFunction</th>\n",
       "      <td>0</td>\n",
       "      <td>768</td>\n",
       "    </tr>\n",
       "    <tr>\n",
       "      <th>Age</th>\n",
       "      <td>0</td>\n",
       "      <td>768</td>\n",
       "    </tr>\n",
       "    <tr>\n",
       "      <th>Outcome</th>\n",
       "      <td>0</td>\n",
       "      <td>768</td>\n",
       "    </tr>\n",
       "  </tbody>\n",
       "</table>\n",
       "</div>"
      ],
      "text/plain": [
       "                          Total Na  Total_count\n",
       "Pregnancies                      0          768\n",
       "Glucose                          0          768\n",
       "BloodPressure                    0          768\n",
       "SkinThickness                    0          768\n",
       "Insulin                          0          768\n",
       "BMI                              0          768\n",
       "DiabetesPedigreeFunction         0          768\n",
       "Age                              0          768\n",
       "Outcome                          0          768"
      ]
     },
     "execution_count": 537,
     "metadata": {},
     "output_type": "execute_result"
    }
   ],
   "source": [
    "new_df"
   ]
  },
  {
   "cell_type": "code",
   "execution_count": 538,
   "metadata": {
    "executionInfo": {
     "elapsed": 279,
     "status": "ok",
     "timestamp": 1633105328078,
     "user": {
      "displayName": "Hasmukh Mer",
      "photoUrl": "https://lh3.googleusercontent.com/a/default-user=s64",
      "userId": "00621887669129670036"
     },
     "user_tz": -330
    },
    "id": "SVf-xKXt3_s_"
   },
   "outputs": [],
   "source": [
    "per=na/total_count"
   ]
  },
  {
   "cell_type": "code",
   "execution_count": 539,
   "metadata": {
    "colab": {
     "base_uri": "https://localhost:8080/"
    },
    "executionInfo": {
     "elapsed": 286,
     "status": "ok",
     "timestamp": 1633105328088,
     "user": {
      "displayName": "Hasmukh Mer",
      "photoUrl": "https://lh3.googleusercontent.com/a/default-user=s64",
      "userId": "00621887669129670036"
     },
     "user_tz": -330
    },
    "id": "I2wDe5tn3_s_",
    "outputId": "e0faa4fd-ef55-45d3-8153-178446545627"
   },
   "outputs": [
    {
     "data": {
      "text/plain": [
       "Pregnancies                 0.0\n",
       "Glucose                     0.0\n",
       "BloodPressure               0.0\n",
       "SkinThickness               0.0\n",
       "Insulin                     0.0\n",
       "BMI                         0.0\n",
       "DiabetesPedigreeFunction    0.0\n",
       "Age                         0.0\n",
       "Outcome                     0.0\n",
       "dtype: float64"
      ]
     },
     "execution_count": 539,
     "metadata": {},
     "output_type": "execute_result"
    }
   ],
   "source": [
    "per"
   ]
  },
  {
   "cell_type": "code",
   "execution_count": 540,
   "metadata": {
    "executionInfo": {
     "elapsed": 265,
     "status": "ok",
     "timestamp": 1633105328090,
     "user": {
      "displayName": "Hasmukh Mer",
      "photoUrl": "https://lh3.googleusercontent.com/a/default-user=s64",
      "userId": "00621887669129670036"
     },
     "user_tz": -330
    },
    "id": "G0udngwo3_tA"
   },
   "outputs": [],
   "source": [
    "ndf=pd.concat((na,per),keys=['Total_Na','Percentage'],axis=1)"
   ]
  },
  {
   "cell_type": "code",
   "execution_count": 541,
   "metadata": {
    "colab": {
     "base_uri": "https://localhost:8080/",
     "height": 332
    },
    "executionInfo": {
     "elapsed": 264,
     "status": "ok",
     "timestamp": 1633105328090,
     "user": {
      "displayName": "Hasmukh Mer",
      "photoUrl": "https://lh3.googleusercontent.com/a/default-user=s64",
      "userId": "00621887669129670036"
     },
     "user_tz": -330
    },
    "id": "siGT04E83_tA",
    "outputId": "bdf4346d-1369-4aba-adc3-207b534ec34e"
   },
   "outputs": [
    {
     "data": {
      "text/html": [
       "<div>\n",
       "<style scoped>\n",
       "    .dataframe tbody tr th:only-of-type {\n",
       "        vertical-align: middle;\n",
       "    }\n",
       "\n",
       "    .dataframe tbody tr th {\n",
       "        vertical-align: top;\n",
       "    }\n",
       "\n",
       "    .dataframe thead th {\n",
       "        text-align: right;\n",
       "    }\n",
       "</style>\n",
       "<table border=\"1\" class=\"dataframe\">\n",
       "  <thead>\n",
       "    <tr style=\"text-align: right;\">\n",
       "      <th></th>\n",
       "      <th>Total_Na</th>\n",
       "      <th>Percentage</th>\n",
       "    </tr>\n",
       "  </thead>\n",
       "  <tbody>\n",
       "    <tr>\n",
       "      <th>Pregnancies</th>\n",
       "      <td>0</td>\n",
       "      <td>0.0</td>\n",
       "    </tr>\n",
       "    <tr>\n",
       "      <th>Glucose</th>\n",
       "      <td>0</td>\n",
       "      <td>0.0</td>\n",
       "    </tr>\n",
       "    <tr>\n",
       "      <th>BloodPressure</th>\n",
       "      <td>0</td>\n",
       "      <td>0.0</td>\n",
       "    </tr>\n",
       "    <tr>\n",
       "      <th>SkinThickness</th>\n",
       "      <td>0</td>\n",
       "      <td>0.0</td>\n",
       "    </tr>\n",
       "    <tr>\n",
       "      <th>Insulin</th>\n",
       "      <td>0</td>\n",
       "      <td>0.0</td>\n",
       "    </tr>\n",
       "    <tr>\n",
       "      <th>BMI</th>\n",
       "      <td>0</td>\n",
       "      <td>0.0</td>\n",
       "    </tr>\n",
       "    <tr>\n",
       "      <th>DiabetesPedigreeFunction</th>\n",
       "      <td>0</td>\n",
       "      <td>0.0</td>\n",
       "    </tr>\n",
       "    <tr>\n",
       "      <th>Age</th>\n",
       "      <td>0</td>\n",
       "      <td>0.0</td>\n",
       "    </tr>\n",
       "    <tr>\n",
       "      <th>Outcome</th>\n",
       "      <td>0</td>\n",
       "      <td>0.0</td>\n",
       "    </tr>\n",
       "  </tbody>\n",
       "</table>\n",
       "</div>"
      ],
      "text/plain": [
       "                          Total_Na  Percentage\n",
       "Pregnancies                      0         0.0\n",
       "Glucose                          0         0.0\n",
       "BloodPressure                    0         0.0\n",
       "SkinThickness                    0         0.0\n",
       "Insulin                          0         0.0\n",
       "BMI                              0         0.0\n",
       "DiabetesPedigreeFunction         0         0.0\n",
       "Age                              0         0.0\n",
       "Outcome                          0         0.0"
      ]
     },
     "execution_count": 541,
     "metadata": {},
     "output_type": "execute_result"
    }
   ],
   "source": [
    "ndf"
   ]
  },
  {
   "cell_type": "code",
   "execution_count": 542,
   "metadata": {
    "executionInfo": {
     "elapsed": 265,
     "status": "ok",
     "timestamp": 1633105328092,
     "user": {
      "displayName": "Hasmukh Mer",
      "photoUrl": "https://lh3.googleusercontent.com/a/default-user=s64",
      "userId": "00621887669129670036"
     },
     "user_tz": -330
    },
    "id": "n7Yfmix93_tA"
   },
   "outputs": [],
   "source": [
    "list2=['Glucose','BloodPressure','SkinThickness','Insulin','BMI']"
   ]
  },
  {
   "cell_type": "code",
   "execution_count": 543,
   "metadata": {
    "executionInfo": {
     "elapsed": 285,
     "status": "ok",
     "timestamp": 1633105328113,
     "user": {
      "displayName": "Hasmukh Mer",
      "photoUrl": "https://lh3.googleusercontent.com/a/default-user=s64",
      "userId": "00621887669129670036"
     },
     "user_tz": -330
    },
    "id": "bF3yEXFK3_tB"
   },
   "outputs": [],
   "source": [
    "# list2=df1.columns.tolist()"
   ]
  },
  {
   "cell_type": "code",
   "execution_count": 544,
   "metadata": {
    "colab": {
     "base_uri": "https://localhost:8080/"
    },
    "executionInfo": {
     "elapsed": 293,
     "status": "ok",
     "timestamp": 1633105328121,
     "user": {
      "displayName": "Hasmukh Mer",
      "photoUrl": "https://lh3.googleusercontent.com/a/default-user=s64",
      "userId": "00621887669129670036"
     },
     "user_tz": -330
    },
    "id": "2X7aova03_tB",
    "outputId": "f30ea048-2336-4a7a-bef9-276ede46b43f"
   },
   "outputs": [
    {
     "data": {
      "text/plain": [
       "['Glucose', 'BloodPressure', 'SkinThickness', 'Insulin', 'BMI']"
      ]
     },
     "execution_count": 544,
     "metadata": {},
     "output_type": "execute_result"
    }
   ],
   "source": [
    "list2"
   ]
  },
  {
   "cell_type": "code",
   "execution_count": 545,
   "metadata": {
    "colab": {
     "base_uri": "https://localhost:8080/"
    },
    "executionInfo": {
     "elapsed": 279,
     "status": "ok",
     "timestamp": 1633105328123,
     "user": {
      "displayName": "Hasmukh Mer",
      "photoUrl": "https://lh3.googleusercontent.com/a/default-user=s64",
      "userId": "00621887669129670036"
     },
     "user_tz": -330
    },
    "id": "DeSsNPU03_tC",
    "outputId": "a170e779-b094-4a63-f6cc-4bd55db72639"
   },
   "outputs": [
    {
     "name": "stdout",
     "output_type": "stream",
     "text": [
      "Glucose 5\n",
      "BloodPressure 35\n",
      "SkinThickness 227\n",
      "Insulin 374\n",
      "BMI 11\n"
     ]
    }
   ],
   "source": [
    "for i in list2:\n",
    "    num=df[df[i]==0].value_counts().sum()\n",
    "    print(i,num)\n",
    "    num=0\n",
    "    "
   ]
  },
  {
   "cell_type": "code",
   "execution_count": 546,
   "metadata": {
    "executionInfo": {
     "elapsed": 266,
     "status": "ok",
     "timestamp": 1633105328126,
     "user": {
      "displayName": "Hasmukh Mer",
      "photoUrl": "https://lh3.googleusercontent.com/a/default-user=s64",
      "userId": "00621887669129670036"
     },
     "user_tz": -330
    },
    "id": "Nzm0x0rO3_tC"
   },
   "outputs": [],
   "source": [
    "for column in list2:\n",
    "    df[column]=df[column].replace(0,np.nan)\n",
    "    \n",
    "    "
   ]
  },
  {
   "cell_type": "code",
   "execution_count": 547,
   "metadata": {
    "executionInfo": {
     "elapsed": 265,
     "status": "ok",
     "timestamp": 1633105328126,
     "user": {
      "displayName": "Hasmukh Mer",
      "photoUrl": "https://lh3.googleusercontent.com/a/default-user=s64",
      "userId": "00621887669129670036"
     },
     "user_tz": -330
    },
    "id": "zq5WRDAV3_tD"
   },
   "outputs": [],
   "source": [
    "for col in list2:\n",
    "    total_na=df.isnull().sum().sort_values(ascending=False)"
   ]
  },
  {
   "cell_type": "code",
   "execution_count": 548,
   "metadata": {
    "executionInfo": {
     "elapsed": 265,
     "status": "ok",
     "timestamp": 1633105328127,
     "user": {
      "displayName": "Hasmukh Mer",
      "photoUrl": "https://lh3.googleusercontent.com/a/default-user=s64",
      "userId": "00621887669129670036"
     },
     "user_tz": -330
    },
    "id": "mVxdyTCxliIC"
   },
   "outputs": [],
   "source": [
    "# list3=['BMI','Glucose']\n"
   ]
  },
  {
   "cell_type": "code",
   "execution_count": 549,
   "metadata": {
    "executionInfo": {
     "elapsed": 266,
     "status": "ok",
     "timestamp": 1633105328128,
     "user": {
      "displayName": "Hasmukh Mer",
      "photoUrl": "https://lh3.googleusercontent.com/a/default-user=s64",
      "userId": "00621887669129670036"
     },
     "user_tz": -330
    },
    "id": "T5qltrs0lzLE"
   },
   "outputs": [],
   "source": [
    "# for i in list3:\n",
    "#     total_na2=df[i].isnull().sum().sort_values(ascending=False)"
   ]
  },
  {
   "cell_type": "code",
   "execution_count": 550,
   "metadata": {
    "colab": {
     "base_uri": "https://localhost:8080/"
    },
    "executionInfo": {
     "elapsed": 262,
     "status": "ok",
     "timestamp": 1633105328129,
     "user": {
      "displayName": "Hasmukh Mer",
      "photoUrl": "https://lh3.googleusercontent.com/a/default-user=s64",
      "userId": "00621887669129670036"
     },
     "user_tz": -330
    },
    "id": "rRrmi51j3_tD",
    "outputId": "274ccf29-faf2-4186-f268-bb97fdffb5f5"
   },
   "outputs": [
    {
     "data": {
      "text/plain": [
       "Insulin                     374\n",
       "SkinThickness               227\n",
       "BloodPressure                35\n",
       "BMI                          11\n",
       "Glucose                       5\n",
       "Outcome                       0\n",
       "Age                           0\n",
       "DiabetesPedigreeFunction      0\n",
       "Pregnancies                   0\n",
       "dtype: int64"
      ]
     },
     "execution_count": 550,
     "metadata": {},
     "output_type": "execute_result"
    }
   ],
   "source": [
    "\n",
    "\n",
    "total_na"
   ]
  },
  {
   "cell_type": "code",
   "execution_count": 551,
   "metadata": {
    "executionInfo": {
     "elapsed": 259,
     "status": "ok",
     "timestamp": 1633105328136,
     "user": {
      "displayName": "Hasmukh Mer",
      "photoUrl": "https://lh3.googleusercontent.com/a/default-user=s64",
      "userId": "00621887669129670036"
     },
     "user_tz": -330
    },
    "id": "_eKr3Fz53_tD"
   },
   "outputs": [],
   "source": [
    "\n",
    "\n",
    "percentage=total_na/total_count"
   ]
  },
  {
   "cell_type": "code",
   "execution_count": 552,
   "metadata": {
    "colab": {
     "base_uri": "https://localhost:8080/"
    },
    "executionInfo": {
     "elapsed": 259,
     "status": "ok",
     "timestamp": 1633105328137,
     "user": {
      "displayName": "Hasmukh Mer",
      "photoUrl": "https://lh3.googleusercontent.com/a/default-user=s64",
      "userId": "00621887669129670036"
     },
     "user_tz": -330
    },
    "id": "fi64jwMt3_tD",
    "outputId": "4e9332cf-9ecb-4749-f835-4b239559edc9"
   },
   "outputs": [
    {
     "data": {
      "text/plain": [
       "Age                         0.000000\n",
       "BMI                         0.014323\n",
       "BloodPressure               0.045573\n",
       "DiabetesPedigreeFunction    0.000000\n",
       "Glucose                     0.006510\n",
       "Insulin                     0.486979\n",
       "Outcome                     0.000000\n",
       "Pregnancies                 0.000000\n",
       "SkinThickness               0.295573\n",
       "dtype: float64"
      ]
     },
     "execution_count": 552,
     "metadata": {},
     "output_type": "execute_result"
    }
   ],
   "source": [
    "percentage"
   ]
  },
  {
   "cell_type": "code",
   "execution_count": 553,
   "metadata": {
    "executionInfo": {
     "elapsed": 245,
     "status": "ok",
     "timestamp": 1633105328138,
     "user": {
      "displayName": "Hasmukh Mer",
      "photoUrl": "https://lh3.googleusercontent.com/a/default-user=s64",
      "userId": "00621887669129670036"
     },
     "user_tz": -330
    },
    "id": "6o_zZmbR3_tE"
   },
   "outputs": [],
   "source": [
    "new_df1=pd.concat((total_na,percentage),keys=['Total Na','Percentage'],axis=1)"
   ]
  },
  {
   "cell_type": "code",
   "execution_count": 554,
   "metadata": {
    "colab": {
     "base_uri": "https://localhost:8080/",
     "height": 332
    },
    "executionInfo": {
     "elapsed": 267,
     "status": "ok",
     "timestamp": 1633105328160,
     "user": {
      "displayName": "Hasmukh Mer",
      "photoUrl": "https://lh3.googleusercontent.com/a/default-user=s64",
      "userId": "00621887669129670036"
     },
     "user_tz": -330
    },
    "id": "zgAqj5bx3_tE",
    "outputId": "2b4b0254-b8e0-4b6c-ad5c-d8bc0f73b1a7"
   },
   "outputs": [
    {
     "data": {
      "text/html": [
       "<div>\n",
       "<style scoped>\n",
       "    .dataframe tbody tr th:only-of-type {\n",
       "        vertical-align: middle;\n",
       "    }\n",
       "\n",
       "    .dataframe tbody tr th {\n",
       "        vertical-align: top;\n",
       "    }\n",
       "\n",
       "    .dataframe thead th {\n",
       "        text-align: right;\n",
       "    }\n",
       "</style>\n",
       "<table border=\"1\" class=\"dataframe\">\n",
       "  <thead>\n",
       "    <tr style=\"text-align: right;\">\n",
       "      <th></th>\n",
       "      <th>Total Na</th>\n",
       "      <th>Percentage</th>\n",
       "    </tr>\n",
       "  </thead>\n",
       "  <tbody>\n",
       "    <tr>\n",
       "      <th>Insulin</th>\n",
       "      <td>374</td>\n",
       "      <td>0.486979</td>\n",
       "    </tr>\n",
       "    <tr>\n",
       "      <th>SkinThickness</th>\n",
       "      <td>227</td>\n",
       "      <td>0.295573</td>\n",
       "    </tr>\n",
       "    <tr>\n",
       "      <th>BloodPressure</th>\n",
       "      <td>35</td>\n",
       "      <td>0.045573</td>\n",
       "    </tr>\n",
       "    <tr>\n",
       "      <th>BMI</th>\n",
       "      <td>11</td>\n",
       "      <td>0.014323</td>\n",
       "    </tr>\n",
       "    <tr>\n",
       "      <th>Glucose</th>\n",
       "      <td>5</td>\n",
       "      <td>0.006510</td>\n",
       "    </tr>\n",
       "    <tr>\n",
       "      <th>Outcome</th>\n",
       "      <td>0</td>\n",
       "      <td>0.000000</td>\n",
       "    </tr>\n",
       "    <tr>\n",
       "      <th>Age</th>\n",
       "      <td>0</td>\n",
       "      <td>0.000000</td>\n",
       "    </tr>\n",
       "    <tr>\n",
       "      <th>DiabetesPedigreeFunction</th>\n",
       "      <td>0</td>\n",
       "      <td>0.000000</td>\n",
       "    </tr>\n",
       "    <tr>\n",
       "      <th>Pregnancies</th>\n",
       "      <td>0</td>\n",
       "      <td>0.000000</td>\n",
       "    </tr>\n",
       "  </tbody>\n",
       "</table>\n",
       "</div>"
      ],
      "text/plain": [
       "                          Total Na  Percentage\n",
       "Insulin                        374    0.486979\n",
       "SkinThickness                  227    0.295573\n",
       "BloodPressure                   35    0.045573\n",
       "BMI                             11    0.014323\n",
       "Glucose                          5    0.006510\n",
       "Outcome                          0    0.000000\n",
       "Age                              0    0.000000\n",
       "DiabetesPedigreeFunction         0    0.000000\n",
       "Pregnancies                      0    0.000000"
      ]
     },
     "execution_count": 554,
     "metadata": {},
     "output_type": "execute_result"
    }
   ],
   "source": [
    "new_df1"
   ]
  },
  {
   "cell_type": "code",
   "execution_count": 555,
   "metadata": {
    "executionInfo": {
     "elapsed": 266,
     "status": "ok",
     "timestamp": 1633105328161,
     "user": {
      "displayName": "Hasmukh Mer",
      "photoUrl": "https://lh3.googleusercontent.com/a/default-user=s64",
      "userId": "00621887669129670036"
     },
     "user_tz": -330
    },
    "id": "pbsUwOMf3_tE"
   },
   "outputs": [],
   "source": [
    "nulls=pd.DataFrame(df.isnull().sum().sort_values(ascending=False))"
   ]
  },
  {
   "cell_type": "code",
   "execution_count": 556,
   "metadata": {
    "executionInfo": {
     "elapsed": 260,
     "status": "ok",
     "timestamp": 1633105328162,
     "user": {
      "displayName": "Hasmukh Mer",
      "photoUrl": "https://lh3.googleusercontent.com/a/default-user=s64",
      "userId": "00621887669129670036"
     },
     "user_tz": -330
    },
    "id": "an9-E7n03_tE"
   },
   "outputs": [],
   "source": [
    "nulls=(nulls>0)"
   ]
  },
  {
   "cell_type": "code",
   "execution_count": 557,
   "metadata": {
    "colab": {
     "base_uri": "https://localhost:8080/",
     "height": 332
    },
    "executionInfo": {
     "elapsed": 259,
     "status": "ok",
     "timestamp": 1633105328162,
     "user": {
      "displayName": "Hasmukh Mer",
      "photoUrl": "https://lh3.googleusercontent.com/a/default-user=s64",
      "userId": "00621887669129670036"
     },
     "user_tz": -330
    },
    "id": "M9Lw-wzW3_tF",
    "outputId": "ef8f4118-5aab-4066-915c-c0bb034a6119"
   },
   "outputs": [
    {
     "data": {
      "text/html": [
       "<div>\n",
       "<style scoped>\n",
       "    .dataframe tbody tr th:only-of-type {\n",
       "        vertical-align: middle;\n",
       "    }\n",
       "\n",
       "    .dataframe tbody tr th {\n",
       "        vertical-align: top;\n",
       "    }\n",
       "\n",
       "    .dataframe thead th {\n",
       "        text-align: right;\n",
       "    }\n",
       "</style>\n",
       "<table border=\"1\" class=\"dataframe\">\n",
       "  <thead>\n",
       "    <tr style=\"text-align: right;\">\n",
       "      <th></th>\n",
       "      <th>0</th>\n",
       "    </tr>\n",
       "  </thead>\n",
       "  <tbody>\n",
       "    <tr>\n",
       "      <th>Insulin</th>\n",
       "      <td>True</td>\n",
       "    </tr>\n",
       "    <tr>\n",
       "      <th>SkinThickness</th>\n",
       "      <td>True</td>\n",
       "    </tr>\n",
       "    <tr>\n",
       "      <th>BloodPressure</th>\n",
       "      <td>True</td>\n",
       "    </tr>\n",
       "    <tr>\n",
       "      <th>BMI</th>\n",
       "      <td>True</td>\n",
       "    </tr>\n",
       "    <tr>\n",
       "      <th>Glucose</th>\n",
       "      <td>True</td>\n",
       "    </tr>\n",
       "    <tr>\n",
       "      <th>Outcome</th>\n",
       "      <td>False</td>\n",
       "    </tr>\n",
       "    <tr>\n",
       "      <th>Age</th>\n",
       "      <td>False</td>\n",
       "    </tr>\n",
       "    <tr>\n",
       "      <th>DiabetesPedigreeFunction</th>\n",
       "      <td>False</td>\n",
       "    </tr>\n",
       "    <tr>\n",
       "      <th>Pregnancies</th>\n",
       "      <td>False</td>\n",
       "    </tr>\n",
       "  </tbody>\n",
       "</table>\n",
       "</div>"
      ],
      "text/plain": [
       "                              0\n",
       "Insulin                    True\n",
       "SkinThickness              True\n",
       "BloodPressure              True\n",
       "BMI                        True\n",
       "Glucose                    True\n",
       "Outcome                   False\n",
       "Age                       False\n",
       "DiabetesPedigreeFunction  False\n",
       "Pregnancies               False"
      ]
     },
     "execution_count": 557,
     "metadata": {},
     "output_type": "execute_result"
    }
   ],
   "source": [
    "nulls"
   ]
  },
  {
   "cell_type": "code",
   "execution_count": 558,
   "metadata": {
    "executionInfo": {
     "elapsed": 258,
     "status": "ok",
     "timestamp": 1633105328163,
     "user": {
      "displayName": "Hasmukh Mer",
      "photoUrl": "https://lh3.googleusercontent.com/a/default-user=s64",
      "userId": "00621887669129670036"
     },
     "user_tz": -330
    },
    "id": "H9AHQeRM3_tF"
   },
   "outputs": [],
   "source": [
    "nulls.columns=['Null Count']"
   ]
  },
  {
   "cell_type": "code",
   "execution_count": 559,
   "metadata": {
    "executionInfo": {
     "elapsed": 257,
     "status": "ok",
     "timestamp": 1633105328163,
     "user": {
      "displayName": "Hasmukh Mer",
      "photoUrl": "https://lh3.googleusercontent.com/a/default-user=s64",
      "userId": "00621887669129670036"
     },
     "user_tz": -330
    },
    "id": "3mUKsbGa3_tF"
   },
   "outputs": [],
   "source": [
    "nulls.index.name=\"'features'\""
   ]
  },
  {
   "cell_type": "code",
   "execution_count": 560,
   "metadata": {
    "colab": {
     "base_uri": "https://localhost:8080/",
     "height": 363
    },
    "executionInfo": {
     "elapsed": 257,
     "status": "ok",
     "timestamp": 1633105328164,
     "user": {
      "displayName": "Hasmukh Mer",
      "photoUrl": "https://lh3.googleusercontent.com/a/default-user=s64",
      "userId": "00621887669129670036"
     },
     "user_tz": -330
    },
    "id": "b7tp_cyg3_tF",
    "outputId": "a972718d-e132-4a9a-8363-cdbe87cd6d2a"
   },
   "outputs": [
    {
     "data": {
      "text/html": [
       "<div>\n",
       "<style scoped>\n",
       "    .dataframe tbody tr th:only-of-type {\n",
       "        vertical-align: middle;\n",
       "    }\n",
       "\n",
       "    .dataframe tbody tr th {\n",
       "        vertical-align: top;\n",
       "    }\n",
       "\n",
       "    .dataframe thead th {\n",
       "        text-align: right;\n",
       "    }\n",
       "</style>\n",
       "<table border=\"1\" class=\"dataframe\">\n",
       "  <thead>\n",
       "    <tr style=\"text-align: right;\">\n",
       "      <th></th>\n",
       "      <th>Null Count</th>\n",
       "    </tr>\n",
       "    <tr>\n",
       "      <th>'features'</th>\n",
       "      <th></th>\n",
       "    </tr>\n",
       "  </thead>\n",
       "  <tbody>\n",
       "    <tr>\n",
       "      <th>Insulin</th>\n",
       "      <td>True</td>\n",
       "    </tr>\n",
       "    <tr>\n",
       "      <th>SkinThickness</th>\n",
       "      <td>True</td>\n",
       "    </tr>\n",
       "    <tr>\n",
       "      <th>BloodPressure</th>\n",
       "      <td>True</td>\n",
       "    </tr>\n",
       "    <tr>\n",
       "      <th>BMI</th>\n",
       "      <td>True</td>\n",
       "    </tr>\n",
       "    <tr>\n",
       "      <th>Glucose</th>\n",
       "      <td>True</td>\n",
       "    </tr>\n",
       "    <tr>\n",
       "      <th>Outcome</th>\n",
       "      <td>False</td>\n",
       "    </tr>\n",
       "    <tr>\n",
       "      <th>Age</th>\n",
       "      <td>False</td>\n",
       "    </tr>\n",
       "    <tr>\n",
       "      <th>DiabetesPedigreeFunction</th>\n",
       "      <td>False</td>\n",
       "    </tr>\n",
       "    <tr>\n",
       "      <th>Pregnancies</th>\n",
       "      <td>False</td>\n",
       "    </tr>\n",
       "  </tbody>\n",
       "</table>\n",
       "</div>"
      ],
      "text/plain": [
       "                          Null Count\n",
       "'features'                          \n",
       "Insulin                         True\n",
       "SkinThickness                   True\n",
       "BloodPressure                   True\n",
       "BMI                             True\n",
       "Glucose                         True\n",
       "Outcome                        False\n",
       "Age                            False\n",
       "DiabetesPedigreeFunction       False\n",
       "Pregnancies                    False"
      ]
     },
     "execution_count": 560,
     "metadata": {},
     "output_type": "execute_result"
    }
   ],
   "source": [
    "nulls"
   ]
  },
  {
   "cell_type": "code",
   "execution_count": 561,
   "metadata": {
    "executionInfo": {
     "elapsed": 260,
     "status": "ok",
     "timestamp": 1633105328168,
     "user": {
      "displayName": "Hasmukh Mer",
      "photoUrl": "https://lh3.googleusercontent.com/a/default-user=s64",
      "userId": "00621887669129670036"
     },
     "user_tz": -330
    },
    "id": "29EmLNFP3_tG"
   },
   "outputs": [],
   "source": [
    "for col in nulls[nulls['Null Count']>0].index:\n",
    "    df[col]=df[col].fillna(df[col].mean())\n",
    "    \n",
    "    "
   ]
  },
  {
   "cell_type": "code",
   "execution_count": 562,
   "metadata": {
    "colab": {
     "base_uri": "https://localhost:8080/",
     "height": 424
    },
    "executionInfo": {
     "elapsed": 260,
     "status": "ok",
     "timestamp": 1633105328169,
     "user": {
      "displayName": "Hasmukh Mer",
      "photoUrl": "https://lh3.googleusercontent.com/a/default-user=s64",
      "userId": "00621887669129670036"
     },
     "user_tz": -330
    },
    "id": "EdSttA1t3_tG",
    "outputId": "e5b04a28-079a-48bb-a1f1-4b2cdc34f248"
   },
   "outputs": [
    {
     "data": {
      "text/html": [
       "<div>\n",
       "<style scoped>\n",
       "    .dataframe tbody tr th:only-of-type {\n",
       "        vertical-align: middle;\n",
       "    }\n",
       "\n",
       "    .dataframe tbody tr th {\n",
       "        vertical-align: top;\n",
       "    }\n",
       "\n",
       "    .dataframe thead th {\n",
       "        text-align: right;\n",
       "    }\n",
       "</style>\n",
       "<table border=\"1\" class=\"dataframe\">\n",
       "  <thead>\n",
       "    <tr style=\"text-align: right;\">\n",
       "      <th></th>\n",
       "      <th>Pregnancies</th>\n",
       "      <th>Glucose</th>\n",
       "      <th>BloodPressure</th>\n",
       "      <th>SkinThickness</th>\n",
       "      <th>Insulin</th>\n",
       "      <th>BMI</th>\n",
       "      <th>DiabetesPedigreeFunction</th>\n",
       "      <th>Age</th>\n",
       "      <th>Outcome</th>\n",
       "    </tr>\n",
       "  </thead>\n",
       "  <tbody>\n",
       "    <tr>\n",
       "      <th>0</th>\n",
       "      <td>6</td>\n",
       "      <td>148.0</td>\n",
       "      <td>72.0</td>\n",
       "      <td>35.00000</td>\n",
       "      <td>155.548223</td>\n",
       "      <td>33.6</td>\n",
       "      <td>0.627</td>\n",
       "      <td>50</td>\n",
       "      <td>1</td>\n",
       "    </tr>\n",
       "    <tr>\n",
       "      <th>1</th>\n",
       "      <td>1</td>\n",
       "      <td>85.0</td>\n",
       "      <td>66.0</td>\n",
       "      <td>29.00000</td>\n",
       "      <td>155.548223</td>\n",
       "      <td>26.6</td>\n",
       "      <td>0.351</td>\n",
       "      <td>31</td>\n",
       "      <td>0</td>\n",
       "    </tr>\n",
       "    <tr>\n",
       "      <th>2</th>\n",
       "      <td>8</td>\n",
       "      <td>183.0</td>\n",
       "      <td>64.0</td>\n",
       "      <td>29.15342</td>\n",
       "      <td>155.548223</td>\n",
       "      <td>23.3</td>\n",
       "      <td>0.672</td>\n",
       "      <td>32</td>\n",
       "      <td>1</td>\n",
       "    </tr>\n",
       "    <tr>\n",
       "      <th>3</th>\n",
       "      <td>1</td>\n",
       "      <td>89.0</td>\n",
       "      <td>66.0</td>\n",
       "      <td>23.00000</td>\n",
       "      <td>94.000000</td>\n",
       "      <td>28.1</td>\n",
       "      <td>0.167</td>\n",
       "      <td>21</td>\n",
       "      <td>0</td>\n",
       "    </tr>\n",
       "    <tr>\n",
       "      <th>4</th>\n",
       "      <td>0</td>\n",
       "      <td>137.0</td>\n",
       "      <td>40.0</td>\n",
       "      <td>35.00000</td>\n",
       "      <td>168.000000</td>\n",
       "      <td>43.1</td>\n",
       "      <td>2.288</td>\n",
       "      <td>33</td>\n",
       "      <td>1</td>\n",
       "    </tr>\n",
       "    <tr>\n",
       "      <th>...</th>\n",
       "      <td>...</td>\n",
       "      <td>...</td>\n",
       "      <td>...</td>\n",
       "      <td>...</td>\n",
       "      <td>...</td>\n",
       "      <td>...</td>\n",
       "      <td>...</td>\n",
       "      <td>...</td>\n",
       "      <td>...</td>\n",
       "    </tr>\n",
       "    <tr>\n",
       "      <th>763</th>\n",
       "      <td>10</td>\n",
       "      <td>101.0</td>\n",
       "      <td>76.0</td>\n",
       "      <td>48.00000</td>\n",
       "      <td>180.000000</td>\n",
       "      <td>32.9</td>\n",
       "      <td>0.171</td>\n",
       "      <td>63</td>\n",
       "      <td>0</td>\n",
       "    </tr>\n",
       "    <tr>\n",
       "      <th>764</th>\n",
       "      <td>2</td>\n",
       "      <td>122.0</td>\n",
       "      <td>70.0</td>\n",
       "      <td>27.00000</td>\n",
       "      <td>155.548223</td>\n",
       "      <td>36.8</td>\n",
       "      <td>0.340</td>\n",
       "      <td>27</td>\n",
       "      <td>0</td>\n",
       "    </tr>\n",
       "    <tr>\n",
       "      <th>765</th>\n",
       "      <td>5</td>\n",
       "      <td>121.0</td>\n",
       "      <td>72.0</td>\n",
       "      <td>23.00000</td>\n",
       "      <td>112.000000</td>\n",
       "      <td>26.2</td>\n",
       "      <td>0.245</td>\n",
       "      <td>30</td>\n",
       "      <td>0</td>\n",
       "    </tr>\n",
       "    <tr>\n",
       "      <th>766</th>\n",
       "      <td>1</td>\n",
       "      <td>126.0</td>\n",
       "      <td>60.0</td>\n",
       "      <td>29.15342</td>\n",
       "      <td>155.548223</td>\n",
       "      <td>30.1</td>\n",
       "      <td>0.349</td>\n",
       "      <td>47</td>\n",
       "      <td>1</td>\n",
       "    </tr>\n",
       "    <tr>\n",
       "      <th>767</th>\n",
       "      <td>1</td>\n",
       "      <td>93.0</td>\n",
       "      <td>70.0</td>\n",
       "      <td>31.00000</td>\n",
       "      <td>155.548223</td>\n",
       "      <td>30.4</td>\n",
       "      <td>0.315</td>\n",
       "      <td>23</td>\n",
       "      <td>0</td>\n",
       "    </tr>\n",
       "  </tbody>\n",
       "</table>\n",
       "<p>768 rows × 9 columns</p>\n",
       "</div>"
      ],
      "text/plain": [
       "     Pregnancies  Glucose  ...  Age  Outcome\n",
       "0              6    148.0  ...   50        1\n",
       "1              1     85.0  ...   31        0\n",
       "2              8    183.0  ...   32        1\n",
       "3              1     89.0  ...   21        0\n",
       "4              0    137.0  ...   33        1\n",
       "..           ...      ...  ...  ...      ...\n",
       "763           10    101.0  ...   63        0\n",
       "764            2    122.0  ...   27        0\n",
       "765            5    121.0  ...   30        0\n",
       "766            1    126.0  ...   47        1\n",
       "767            1     93.0  ...   23        0\n",
       "\n",
       "[768 rows x 9 columns]"
      ]
     },
     "execution_count": 562,
     "metadata": {},
     "output_type": "execute_result"
    }
   ],
   "source": [
    "df"
   ]
  },
  {
   "cell_type": "code",
   "execution_count": 563,
   "metadata": {
    "executionInfo": {
     "elapsed": 263,
     "status": "ok",
     "timestamp": 1633105328173,
     "user": {
      "displayName": "Hasmukh Mer",
      "photoUrl": "https://lh3.googleusercontent.com/a/default-user=s64",
      "userId": "00621887669129670036"
     },
     "user_tz": -330
    },
    "id": "EHMOeg6p3_tG"
   },
   "outputs": [],
   "source": [
    "import matplotlib as plt\n",
    "import seaborn as sns\n"
   ]
  },
  {
   "cell_type": "code",
   "execution_count": 564,
   "metadata": {
    "colab": {
     "base_uri": "https://localhost:8080/",
     "height": 455
    },
    "executionInfo": {
     "elapsed": 263,
     "status": "ok",
     "timestamp": 1633105328174,
     "user": {
      "displayName": "Hasmukh Mer",
      "photoUrl": "https://lh3.googleusercontent.com/a/default-user=s64",
      "userId": "00621887669129670036"
     },
     "user_tz": -330
    },
    "id": "nPPtCb5X3_tH",
    "outputId": "c7198154-57a6-4b7c-c75e-470fea9ded29"
   },
   "outputs": [
    {
     "name": "stderr",
     "output_type": "stream",
     "text": [
      "/usr/local/lib/python3.7/dist-packages/seaborn/_decorators.py:43: FutureWarning: Pass the following variable as a keyword arg: x. From version 0.12, the only valid positional argument will be `data`, and passing other arguments without an explicit keyword will result in an error or misinterpretation.\n",
      "  FutureWarning\n",
      "/usr/local/lib/python3.7/dist-packages/seaborn/_decorators.py:43: FutureWarning: Pass the following variable as a keyword arg: x. From version 0.12, the only valid positional argument will be `data`, and passing other arguments without an explicit keyword will result in an error or misinterpretation.\n",
      "  FutureWarning\n",
      "/usr/local/lib/python3.7/dist-packages/ipykernel_launcher.py:8: MatplotlibDeprecationWarning: Adding an axes using the same arguments as a previous axes currently reuses the earlier instance.  In a future version, a new instance will always be created and returned.  Meanwhile, this warning can be suppressed, and the future behavior ensured, by passing a unique label to each axes instance.\n",
      "  \n",
      "/usr/local/lib/python3.7/dist-packages/seaborn/_decorators.py:43: FutureWarning: Pass the following variable as a keyword arg: x. From version 0.12, the only valid positional argument will be `data`, and passing other arguments without an explicit keyword will result in an error or misinterpretation.\n",
      "  FutureWarning\n"
     ]
    },
    {
     "data": {
      "text/plain": [
       "<matplotlib.axes._subplots.AxesSubplot at 0x7f3e89c827d0>"
      ]
     },
     "execution_count": 564,
     "metadata": {},
     "output_type": "execute_result"
    },
    {
     "data": {
      "image/png": "[encoded data removed]",
      "text/plain": [
       "<Figure size 432x288 with 2 Axes>"
      ]
     },
     "metadata": {
      "needs_background": "light"
     },
     "output_type": "display_data"
    }
   ],
   "source": [
    "# for col in list(df.columns)\n",
    "import matplotlib.pyplot as plt\n",
    "\n",
    "plt.subplot(121)\n",
    "sns.boxplot(df['Age'])\n",
    "plt.subplot(122)\n",
    "sns.boxplot(df['Glucose'])\n",
    "plt.subplot(121)\n",
    "sns.boxplot(df['BMI'])\n"
   ]
  },
  {
   "cell_type": "code",
   "execution_count": 565,
   "metadata": {
    "colab": {
     "base_uri": "https://localhost:8080/"
    },
    "executionInfo": {
     "elapsed": 244,
     "status": "ok",
     "timestamp": 1633105328174,
     "user": {
      "displayName": "Hasmukh Mer",
      "photoUrl": "https://lh3.googleusercontent.com/a/default-user=s64",
      "userId": "00621887669129670036"
     },
     "user_tz": -330
    },
    "id": "ArsigXKu3_tH",
    "outputId": "5aee2c75-c1d3-404f-a956-3870d0532219"
   },
   "outputs": [
    {
     "data": {
      "text/plain": [
       "['Glucose', 'BloodPressure', 'SkinThickness', 'Insulin', 'BMI']"
      ]
     },
     "execution_count": 565,
     "metadata": {},
     "output_type": "execute_result"
    }
   ],
   "source": [
    "list2"
   ]
  },
  {
   "cell_type": "code",
   "execution_count": 566,
   "metadata": {
    "colab": {
     "base_uri": "https://localhost:8080/",
     "height": 457
    },
    "executionInfo": {
     "elapsed": 3444,
     "status": "ok",
     "timestamp": 1633105331385,
     "user": {
      "displayName": "Hasmukh Mer",
      "photoUrl": "https://lh3.googleusercontent.com/a/default-user=s64",
      "userId": "00621887669129670036"
     },
     "user_tz": -330
    },
    "id": "mIuEOySc3_tI",
    "outputId": "7ee48299-838b-4ab0-99de-01ea30a57dfd"
   },
   "outputs": [
    {
     "name": "stderr",
     "output_type": "stream",
     "text": [
      "/usr/local/lib/python3.7/dist-packages/seaborn/_decorators.py:43: FutureWarning: Pass the following variable as a keyword arg: x. From version 0.12, the only valid positional argument will be `data`, and passing other arguments without an explicit keyword will result in an error or misinterpretation.\n",
      "  FutureWarning\n",
      "/usr/local/lib/python3.7/dist-packages/seaborn/_decorators.py:43: FutureWarning: Pass the following variable as a keyword arg: x. From version 0.12, the only valid positional argument will be `data`, and passing other arguments without an explicit keyword will result in an error or misinterpretation.\n",
      "  FutureWarning\n"
     ]
    },
    {
     "data": {
      "text/plain": [
       "<matplotlib.axes._subplots.AxesSubplot at 0x7f3e89bcff50>"
      ]
     },
     "execution_count": 566,
     "metadata": {},
     "output_type": "execute_result"
    },
    {
     "data": {
      "image/png": "[encoded data removed]",
      "text/plain": [
       "<Figure size 1440x360 with 2 Axes>"
      ]
     },
     "metadata": {
      "needs_background": "light"
     },
     "output_type": "display_data"
    }
   ],
   "source": [
    "plt.figure(figsize=[20,5])\n",
    "plt.subplot(121);sns.boxplot(df[col]);plt.title(col)\n",
    "plt.subplot(122);sns.boxplot(df[col])"
   ]
  },
  {
   "cell_type": "code",
   "execution_count": 567,
   "metadata": {
    "colab": {
     "base_uri": "https://localhost:8080/",
     "height": 1000
    },
    "executionInfo": {
     "elapsed": 152,
     "status": "ok",
     "timestamp": 1633105331386,
     "user": {
      "displayName": "Hasmukh Mer",
      "photoUrl": "https://lh3.googleusercontent.com/a/default-user=s64",
      "userId": "00621887669129670036"
     },
     "user_tz": -330
    },
    "id": "-sUxWnrs3_tI",
    "outputId": "89acfe17-2b51-47d6-cf47-a12890088ae1"
   },
   "outputs": [
    {
     "name": "stderr",
     "output_type": "stream",
     "text": [
      "/usr/local/lib/python3.7/dist-packages/seaborn/_decorators.py:43: FutureWarning: Pass the following variable as a keyword arg: x. From version 0.12, the only valid positional argument will be `data`, and passing other arguments without an explicit keyword will result in an error or misinterpretation.\n",
      "  FutureWarning\n",
      "/usr/local/lib/python3.7/dist-packages/seaborn/_decorators.py:43: FutureWarning: Pass the following variable as a keyword arg: x. From version 0.12, the only valid positional argument will be `data`, and passing other arguments without an explicit keyword will result in an error or misinterpretation.\n",
      "  FutureWarning\n",
      "/usr/local/lib/python3.7/dist-packages/ipykernel_launcher.py:4: MatplotlibDeprecationWarning: Adding an axes using the same arguments as a previous axes currently reuses the earlier instance.  In a future version, a new instance will always be created and returned.  Meanwhile, this warning can be suppressed, and the future behavior ensured, by passing a unique label to each axes instance.\n",
      "  after removing the cwd from sys.path.\n",
      "/usr/local/lib/python3.7/dist-packages/seaborn/_decorators.py:43: FutureWarning: Pass the following variable as a keyword arg: x. From version 0.12, the only valid positional argument will be `data`, and passing other arguments without an explicit keyword will result in an error or misinterpretation.\n",
      "  FutureWarning\n",
      "/usr/local/lib/python3.7/dist-packages/ipykernel_launcher.py:4: MatplotlibDeprecationWarning: Adding an axes using the same arguments as a previous axes currently reuses the earlier instance.  In a future version, a new instance will always be created and returned.  Meanwhile, this warning can be suppressed, and the future behavior ensured, by passing a unique label to each axes instance.\n",
      "  after removing the cwd from sys.path.\n",
      "/usr/local/lib/python3.7/dist-packages/seaborn/_decorators.py:43: FutureWarning: Pass the following variable as a keyword arg: x. From version 0.12, the only valid positional argument will be `data`, and passing other arguments without an explicit keyword will result in an error or misinterpretation.\n",
      "  FutureWarning\n",
      "/usr/local/lib/python3.7/dist-packages/ipykernel_launcher.py:4: MatplotlibDeprecationWarning: Adding an axes using the same arguments as a previous axes currently reuses the earlier instance.  In a future version, a new instance will always be created and returned.  Meanwhile, this warning can be suppressed, and the future behavior ensured, by passing a unique label to each axes instance.\n",
      "  after removing the cwd from sys.path.\n",
      "/usr/local/lib/python3.7/dist-packages/seaborn/_decorators.py:43: FutureWarning: Pass the following variable as a keyword arg: x. From version 0.12, the only valid positional argument will be `data`, and passing other arguments without an explicit keyword will result in an error or misinterpretation.\n",
      "  FutureWarning\n",
      "/usr/local/lib/python3.7/dist-packages/ipykernel_launcher.py:4: MatplotlibDeprecationWarning: Adding an axes using the same arguments as a previous axes currently reuses the earlier instance.  In a future version, a new instance will always be created and returned.  Meanwhile, this warning can be suppressed, and the future behavior ensured, by passing a unique label to each axes instance.\n",
      "  after removing the cwd from sys.path.\n",
      "/usr/local/lib/python3.7/dist-packages/seaborn/_decorators.py:43: FutureWarning: Pass the following variable as a keyword arg: x. From version 0.12, the only valid positional argument will be `data`, and passing other arguments without an explicit keyword will result in an error or misinterpretation.\n",
      "  FutureWarning\n",
      "/usr/local/lib/python3.7/dist-packages/ipykernel_launcher.py:2: MatplotlibDeprecationWarning: Adding an axes using the same arguments as a previous axes currently reuses the earlier instance.  In a future version, a new instance will always be created and returned.  Meanwhile, this warning can be suppressed, and the future behavior ensured, by passing a unique label to each axes instance.\n",
      "  \n",
      "/usr/local/lib/python3.7/dist-packages/seaborn/_decorators.py:43: FutureWarning: Pass the following variable as a keyword arg: x. From version 0.12, the only valid positional argument will be `data`, and passing other arguments without an explicit keyword will result in an error or misinterpretation.\n",
      "  FutureWarning\n",
      "/usr/local/lib/python3.7/dist-packages/ipykernel_launcher.py:4: MatplotlibDeprecationWarning: Adding an axes using the same arguments as a previous axes currently reuses the earlier instance.  In a future version, a new instance will always be created and returned.  Meanwhile, this warning can be suppressed, and the future behavior ensured, by passing a unique label to each axes instance.\n",
      "  after removing the cwd from sys.path.\n",
      "/usr/local/lib/python3.7/dist-packages/seaborn/_decorators.py:43: FutureWarning: Pass the following variable as a keyword arg: x. From version 0.12, the only valid positional argument will be `data`, and passing other arguments without an explicit keyword will result in an error or misinterpretation.\n",
      "  FutureWarning\n",
      "/usr/local/lib/python3.7/dist-packages/ipykernel_launcher.py:4: MatplotlibDeprecationWarning: Adding an axes using the same arguments as a previous axes currently reuses the earlier instance.  In a future version, a new instance will always be created and returned.  Meanwhile, this warning can be suppressed, and the future behavior ensured, by passing a unique label to each axes instance.\n",
      "  after removing the cwd from sys.path.\n",
      "/usr/local/lib/python3.7/dist-packages/seaborn/_decorators.py:43: FutureWarning: Pass the following variable as a keyword arg: x. From version 0.12, the only valid positional argument will be `data`, and passing other arguments without an explicit keyword will result in an error or misinterpretation.\n",
      "  FutureWarning\n",
      "/usr/local/lib/python3.7/dist-packages/ipykernel_launcher.py:4: MatplotlibDeprecationWarning: Adding an axes using the same arguments as a previous axes currently reuses the earlier instance.  In a future version, a new instance will always be created and returned.  Meanwhile, this warning can be suppressed, and the future behavior ensured, by passing a unique label to each axes instance.\n",
      "  after removing the cwd from sys.path.\n",
      "/usr/local/lib/python3.7/dist-packages/seaborn/_decorators.py:43: FutureWarning: Pass the following variable as a keyword arg: x. From version 0.12, the only valid positional argument will be `data`, and passing other arguments without an explicit keyword will result in an error or misinterpretation.\n",
      "  FutureWarning\n",
      "/usr/local/lib/python3.7/dist-packages/ipykernel_launcher.py:4: MatplotlibDeprecationWarning: Adding an axes using the same arguments as a previous axes currently reuses the earlier instance.  In a future version, a new instance will always be created and returned.  Meanwhile, this warning can be suppressed, and the future behavior ensured, by passing a unique label to each axes instance.\n",
      "  after removing the cwd from sys.path.\n",
      "/usr/local/lib/python3.7/dist-packages/seaborn/_decorators.py:43: FutureWarning: Pass the following variable as a keyword arg: x. From version 0.12, the only valid positional argument will be `data`, and passing other arguments without an explicit keyword will result in an error or misinterpretation.\n",
      "  FutureWarning\n",
      "/usr/local/lib/python3.7/dist-packages/ipykernel_launcher.py:4: MatplotlibDeprecationWarning: Adding an axes using the same arguments as a previous axes currently reuses the earlier instance.  In a future version, a new instance will always be created and returned.  Meanwhile, this warning can be suppressed, and the future behavior ensured, by passing a unique label to each axes instance.\n",
      "  after removing the cwd from sys.path.\n",
      "/usr/local/lib/python3.7/dist-packages/seaborn/_decorators.py:43: FutureWarning: Pass the following variable as a keyword arg: x. From version 0.12, the only valid positional argument will be `data`, and passing other arguments without an explicit keyword will result in an error or misinterpretation.\n",
      "  FutureWarning\n",
      "/usr/local/lib/python3.7/dist-packages/ipykernel_launcher.py:2: MatplotlibDeprecationWarning: Adding an axes using the same arguments as a previous axes currently reuses the earlier instance.  In a future version, a new instance will always be created and returned.  Meanwhile, this warning can be suppressed, and the future behavior ensured, by passing a unique label to each axes instance.\n",
      "  \n",
      "/usr/local/lib/python3.7/dist-packages/seaborn/_decorators.py:43: FutureWarning: Pass the following variable as a keyword arg: x. From version 0.12, the only valid positional argument will be `data`, and passing other arguments without an explicit keyword will result in an error or misinterpretation.\n",
      "  FutureWarning\n",
      "/usr/local/lib/python3.7/dist-packages/ipykernel_launcher.py:4: MatplotlibDeprecationWarning: Adding an axes using the same arguments as a previous axes currently reuses the earlier instance.  In a future version, a new instance will always be created and returned.  Meanwhile, this warning can be suppressed, and the future behavior ensured, by passing a unique label to each axes instance.\n",
      "  after removing the cwd from sys.path.\n",
      "/usr/local/lib/python3.7/dist-packages/seaborn/_decorators.py:43: FutureWarning: Pass the following variable as a keyword arg: x. From version 0.12, the only valid positional argument will be `data`, and passing other arguments without an explicit keyword will result in an error or misinterpretation.\n",
      "  FutureWarning\n",
      "/usr/local/lib/python3.7/dist-packages/ipykernel_launcher.py:4: MatplotlibDeprecationWarning: Adding an axes using the same arguments as a previous axes currently reuses the earlier instance.  In a future version, a new instance will always be created and returned.  Meanwhile, this warning can be suppressed, and the future behavior ensured, by passing a unique label to each axes instance.\n",
      "  after removing the cwd from sys.path.\n",
      "/usr/local/lib/python3.7/dist-packages/seaborn/_decorators.py:43: FutureWarning: Pass the following variable as a keyword arg: x. From version 0.12, the only valid positional argument will be `data`, and passing other arguments without an explicit keyword will result in an error or misinterpretation.\n",
      "  FutureWarning\n",
      "/usr/local/lib/python3.7/dist-packages/ipykernel_launcher.py:4: MatplotlibDeprecationWarning: Adding an axes using the same arguments as a previous axes currently reuses the earlier instance.  In a future version, a new instance will always be created and returned.  Meanwhile, this warning can be suppressed, and the future behavior ensured, by passing a unique label to each axes instance.\n",
      "  after removing the cwd from sys.path.\n",
      "/usr/local/lib/python3.7/dist-packages/seaborn/_decorators.py:43: FutureWarning: Pass the following variable as a keyword arg: x. From version 0.12, the only valid positional argument will be `data`, and passing other arguments without an explicit keyword will result in an error or misinterpretation.\n",
      "  FutureWarning\n",
      "/usr/local/lib/python3.7/dist-packages/ipykernel_launcher.py:4: MatplotlibDeprecationWarning: Adding an axes using the same arguments as a previous axes currently reuses the earlier instance.  In a future version, a new instance will always be created and returned.  Meanwhile, this warning can be suppressed, and the future behavior ensured, by passing a unique label to each axes instance.\n",
      "  after removing the cwd from sys.path.\n",
      "/usr/local/lib/python3.7/dist-packages/seaborn/_decorators.py:43: FutureWarning: Pass the following variable as a keyword arg: x. From version 0.12, the only valid positional argument will be `data`, and passing other arguments without an explicit keyword will result in an error or misinterpretation.\n",
      "  FutureWarning\n",
      "/usr/local/lib/python3.7/dist-packages/ipykernel_launcher.py:4: MatplotlibDeprecationWarning: Adding an axes using the same arguments as a previous axes currently reuses the earlier instance.  In a future version, a new instance will always be created and returned.  Meanwhile, this warning can be suppressed, and the future behavior ensured, by passing a unique label to each axes instance.\n",
      "  after removing the cwd from sys.path.\n",
      "/usr/local/lib/python3.7/dist-packages/seaborn/_decorators.py:43: FutureWarning: Pass the following variable as a keyword arg: x. From version 0.12, the only valid positional argument will be `data`, and passing other arguments without an explicit keyword will result in an error or misinterpretation.\n",
      "  FutureWarning\n",
      "/usr/local/lib/python3.7/dist-packages/ipykernel_launcher.py:2: MatplotlibDeprecationWarning: Adding an axes using the same arguments as a previous axes currently reuses the earlier instance.  In a future version, a new instance will always be created and returned.  Meanwhile, this warning can be suppressed, and the future behavior ensured, by passing a unique label to each axes instance.\n",
      "  \n",
      "/usr/local/lib/python3.7/dist-packages/seaborn/_decorators.py:43: FutureWarning: Pass the following variable as a keyword arg: x. From version 0.12, the only valid positional argument will be `data`, and passing other arguments without an explicit keyword will result in an error or misinterpretation.\n",
      "  FutureWarning\n",
      "/usr/local/lib/python3.7/dist-packages/ipykernel_launcher.py:4: MatplotlibDeprecationWarning: Adding an axes using the same arguments as a previous axes currently reuses the earlier instance.  In a future version, a new instance will always be created and returned.  Meanwhile, this warning can be suppressed, and the future behavior ensured, by passing a unique label to each axes instance.\n",
      "  after removing the cwd from sys.path.\n",
      "/usr/local/lib/python3.7/dist-packages/seaborn/_decorators.py:43: FutureWarning: Pass the following variable as a keyword arg: x. From version 0.12, the only valid positional argument will be `data`, and passing other arguments without an explicit keyword will result in an error or misinterpretation.\n",
      "  FutureWarning\n",
      "/usr/local/lib/python3.7/dist-packages/ipykernel_launcher.py:4: MatplotlibDeprecationWarning: Adding an axes using the same arguments as a previous axes currently reuses the earlier instance.  In a future version, a new instance will always be created and returned.  Meanwhile, this warning can be suppressed, and the future behavior ensured, by passing a unique label to each axes instance.\n",
      "  after removing the cwd from sys.path.\n",
      "/usr/local/lib/python3.7/dist-packages/seaborn/_decorators.py:43: FutureWarning: Pass the following variable as a keyword arg: x. From version 0.12, the only valid positional argument will be `data`, and passing other arguments without an explicit keyword will result in an error or misinterpretation.\n",
      "  FutureWarning\n",
      "/usr/local/lib/python3.7/dist-packages/ipykernel_launcher.py:4: MatplotlibDeprecationWarning: Adding an axes using the same arguments as a previous axes currently reuses the earlier instance.  In a future version, a new instance will always be created and returned.  Meanwhile, this warning can be suppressed, and the future behavior ensured, by passing a unique label to each axes instance.\n",
      "  after removing the cwd from sys.path.\n",
      "/usr/local/lib/python3.7/dist-packages/seaborn/_decorators.py:43: FutureWarning: Pass the following variable as a keyword arg: x. From version 0.12, the only valid positional argument will be `data`, and passing other arguments without an explicit keyword will result in an error or misinterpretation.\n",
      "  FutureWarning\n",
      "/usr/local/lib/python3.7/dist-packages/ipykernel_launcher.py:4: MatplotlibDeprecationWarning: Adding an axes using the same arguments as a previous axes currently reuses the earlier instance.  In a future version, a new instance will always be created and returned.  Meanwhile, this warning can be suppressed, and the future behavior ensured, by passing a unique label to each axes instance.\n",
      "  after removing the cwd from sys.path.\n",
      "/usr/local/lib/python3.7/dist-packages/seaborn/_decorators.py:43: FutureWarning: Pass the following variable as a keyword arg: x. From version 0.12, the only valid positional argument will be `data`, and passing other arguments without an explicit keyword will result in an error or misinterpretation.\n",
      "  FutureWarning\n",
      "/usr/local/lib/python3.7/dist-packages/ipykernel_launcher.py:4: MatplotlibDeprecationWarning: Adding an axes using the same arguments as a previous axes currently reuses the earlier instance.  In a future version, a new instance will always be created and returned.  Meanwhile, this warning can be suppressed, and the future behavior ensured, by passing a unique label to each axes instance.\n",
      "  after removing the cwd from sys.path.\n",
      "/usr/local/lib/python3.7/dist-packages/seaborn/_decorators.py:43: FutureWarning: Pass the following variable as a keyword arg: x. From version 0.12, the only valid positional argument will be `data`, and passing other arguments without an explicit keyword will result in an error or misinterpretation.\n",
      "  FutureWarning\n",
      "/usr/local/lib/python3.7/dist-packages/ipykernel_launcher.py:2: MatplotlibDeprecationWarning: Adding an axes using the same arguments as a previous axes currently reuses the earlier instance.  In a future version, a new instance will always be created and returned.  Meanwhile, this warning can be suppressed, and the future behavior ensured, by passing a unique label to each axes instance.\n",
      "  \n",
      "/usr/local/lib/python3.7/dist-packages/seaborn/_decorators.py:43: FutureWarning: Pass the following variable as a keyword arg: x. From version 0.12, the only valid positional argument will be `data`, and passing other arguments without an explicit keyword will result in an error or misinterpretation.\n",
      "  FutureWarning\n",
      "/usr/local/lib/python3.7/dist-packages/ipykernel_launcher.py:4: MatplotlibDeprecationWarning: Adding an axes using the same arguments as a previous axes currently reuses the earlier instance.  In a future version, a new instance will always be created and returned.  Meanwhile, this warning can be suppressed, and the future behavior ensured, by passing a unique label to each axes instance.\n",
      "  after removing the cwd from sys.path.\n",
      "/usr/local/lib/python3.7/dist-packages/seaborn/_decorators.py:43: FutureWarning: Pass the following variable as a keyword arg: x. From version 0.12, the only valid positional argument will be `data`, and passing other arguments without an explicit keyword will result in an error or misinterpretation.\n",
      "  FutureWarning\n",
      "/usr/local/lib/python3.7/dist-packages/ipykernel_launcher.py:4: MatplotlibDeprecationWarning: Adding an axes using the same arguments as a previous axes currently reuses the earlier instance.  In a future version, a new instance will always be created and returned.  Meanwhile, this warning can be suppressed, and the future behavior ensured, by passing a unique label to each axes instance.\n",
      "  after removing the cwd from sys.path.\n",
      "/usr/local/lib/python3.7/dist-packages/seaborn/_decorators.py:43: FutureWarning: Pass the following variable as a keyword arg: x. From version 0.12, the only valid positional argument will be `data`, and passing other arguments without an explicit keyword will result in an error or misinterpretation.\n",
      "  FutureWarning\n",
      "/usr/local/lib/python3.7/dist-packages/ipykernel_launcher.py:4: MatplotlibDeprecationWarning: Adding an axes using the same arguments as a previous axes currently reuses the earlier instance.  In a future version, a new instance will always be created and returned.  Meanwhile, this warning can be suppressed, and the future behavior ensured, by passing a unique label to each axes instance.\n",
      "  after removing the cwd from sys.path.\n",
      "/usr/local/lib/python3.7/dist-packages/seaborn/_decorators.py:43: FutureWarning: Pass the following variable as a keyword arg: x. From version 0.12, the only valid positional argument will be `data`, and passing other arguments without an explicit keyword will result in an error or misinterpretation.\n",
      "  FutureWarning\n",
      "/usr/local/lib/python3.7/dist-packages/ipykernel_launcher.py:4: MatplotlibDeprecationWarning: Adding an axes using the same arguments as a previous axes currently reuses the earlier instance.  In a future version, a new instance will always be created and returned.  Meanwhile, this warning can be suppressed, and the future behavior ensured, by passing a unique label to each axes instance.\n",
      "  after removing the cwd from sys.path.\n",
      "/usr/local/lib/python3.7/dist-packages/seaborn/_decorators.py:43: FutureWarning: Pass the following variable as a keyword arg: x. From version 0.12, the only valid positional argument will be `data`, and passing other arguments without an explicit keyword will result in an error or misinterpretation.\n",
      "  FutureWarning\n",
      "/usr/local/lib/python3.7/dist-packages/ipykernel_launcher.py:4: MatplotlibDeprecationWarning: Adding an axes using the same arguments as a previous axes currently reuses the earlier instance.  In a future version, a new instance will always be created and returned.  Meanwhile, this warning can be suppressed, and the future behavior ensured, by passing a unique label to each axes instance.\n",
      "  after removing the cwd from sys.path.\n",
      "/usr/local/lib/python3.7/dist-packages/seaborn/_decorators.py:43: FutureWarning: Pass the following variable as a keyword arg: x. From version 0.12, the only valid positional argument will be `data`, and passing other arguments without an explicit keyword will result in an error or misinterpretation.\n",
      "  FutureWarning\n"
     ]
    },
    {
     "data": {
      "image/png": "[encoded data removed]",
      "text/plain": [
       "<Figure size 432x288 with 2 Axes>"
      ]
     },
     "metadata": {
      "needs_background": "light"
     },
     "output_type": "display_data"
    }
   ],
   "source": [
    "for col in list2:\n",
    "    plt.subplot(121);sns.boxplot(df[col])\n",
    "    for colum in list2:\n",
    "        plt.subplot(122)\n",
    "        sns.boxplot(df[col])\n",
    " \n"
   ]
  },
  {
   "cell_type": "code",
   "execution_count": 568,
   "metadata": {
    "executionInfo": {
     "elapsed": 114,
     "status": "ok",
     "timestamp": 1633105331387,
     "user": {
      "displayName": "Hasmukh Mer",
      "photoUrl": "https://lh3.googleusercontent.com/a/default-user=s64",
      "userId": "00621887669129670036"
     },
     "user_tz": -330
    },
    "id": "shjCveNV3_tI"
   },
   "outputs": [],
   "source": [
    "plt.show()"
   ]
  },
  {
   "cell_type": "code",
   "execution_count": 568,
   "metadata": {
    "executionInfo": {
     "elapsed": 114,
     "status": "ok",
     "timestamp": 1633105331388,
     "user": {
      "displayName": "Hasmukh Mer",
      "photoUrl": "https://lh3.googleusercontent.com/a/default-user=s64",
      "userId": "00621887669129670036"
     },
     "user_tz": -330
    },
    "id": "ENiUOeSV3_tI"
   },
   "outputs": [],
   "source": []
  },
  {
   "cell_type": "code",
   "execution_count": 568,
   "metadata": {
    "executionInfo": {
     "elapsed": 116,
     "status": "ok",
     "timestamp": 1633105331391,
     "user": {
      "displayName": "Hasmukh Mer",
      "photoUrl": "https://lh3.googleusercontent.com/a/default-user=s64",
      "userId": "00621887669129670036"
     },
     "user_tz": -330
    },
    "id": "d_Gd1EuX3_tJ"
   },
   "outputs": [],
   "source": []
  },
  {
   "cell_type": "code",
   "execution_count": 568,
   "metadata": {
    "executionInfo": {
     "elapsed": 118,
     "status": "ok",
     "timestamp": 1633105331393,
     "user": {
      "displayName": "Hasmukh Mer",
      "photoUrl": "https://lh3.googleusercontent.com/a/default-user=s64",
      "userId": "00621887669129670036"
     },
     "user_tz": -330
    },
    "id": "gD1bPhYJ3_tJ"
   },
   "outputs": [],
   "source": []
  },
  {
   "cell_type": "code",
   "execution_count": 569,
   "metadata": {
    "executionInfo": {
     "elapsed": 118,
     "status": "ok",
     "timestamp": 1633105331394,
     "user": {
      "displayName": "Hasmukh Mer",
      "photoUrl": "https://lh3.googleusercontent.com/a/default-user=s64",
      "userId": "00621887669129670036"
     },
     "user_tz": -330
    },
    "id": "6qCtvyd13_tJ"
   },
   "outputs": [],
   "source": [
    "for col in list2:    \n",
    "    col_med=df[col].median()\n",
    "    range_q1=df[df[col]<col_med]\n",
    "    \n",
    "    "
   ]
  },
  {
   "cell_type": "code",
   "execution_count": 570,
   "metadata": {
    "executionInfo": {
     "elapsed": 119,
     "status": "ok",
     "timestamp": 1633105331395,
     "user": {
      "displayName": "Hasmukh Mer",
      "photoUrl": "https://lh3.googleusercontent.com/a/default-user=s64",
      "userId": "00621887669129670036"
     },
     "user_tz": -330
    },
    "id": "5AKXN8e13_tJ"
   },
   "outputs": [],
   "source": [
    "q1=df['BMI'].quantile(0.25)"
   ]
  },
  {
   "cell_type": "code",
   "execution_count": 571,
   "metadata": {
    "colab": {
     "base_uri": "https://localhost:8080/"
    },
    "executionInfo": {
     "elapsed": 119,
     "status": "ok",
     "timestamp": 1633105331396,
     "user": {
      "displayName": "Hasmukh Mer",
      "photoUrl": "https://lh3.googleusercontent.com/a/default-user=s64",
      "userId": "00621887669129670036"
     },
     "user_tz": -330
    },
    "id": "3Ca0ryBN3_tK",
    "outputId": "55efe38d-af52-404c-8d81-07ec70860e71"
   },
   "outputs": [
    {
     "data": {
      "text/plain": [
       "27.5"
      ]
     },
     "execution_count": 571,
     "metadata": {},
     "output_type": "execute_result"
    }
   ],
   "source": [
    "q1\n"
   ]
  },
  {
   "cell_type": "code",
   "execution_count": 572,
   "metadata": {
    "executionInfo": {
     "elapsed": 108,
     "status": "ok",
     "timestamp": 1633105331396,
     "user": {
      "displayName": "Hasmukh Mer",
      "photoUrl": "https://lh3.googleusercontent.com/a/default-user=s64",
      "userId": "00621887669129670036"
     },
     "user_tz": -330
    },
    "id": "ivG8rU_y3_tK"
   },
   "outputs": [],
   "source": [
    "q3=df['BMI'].quantile(0.75)"
   ]
  },
  {
   "cell_type": "code",
   "execution_count": 573,
   "metadata": {
    "colab": {
     "base_uri": "https://localhost:8080/"
    },
    "executionInfo": {
     "elapsed": 108,
     "status": "ok",
     "timestamp": 1633105331397,
     "user": {
      "displayName": "Hasmukh Mer",
      "photoUrl": "https://lh3.googleusercontent.com/a/default-user=s64",
      "userId": "00621887669129670036"
     },
     "user_tz": -330
    },
    "id": "w0tnoW1x3_tK",
    "outputId": "ee704090-7272-4ae8-db08-4015c8d9f632"
   },
   "outputs": [
    {
     "data": {
      "text/plain": [
       "36.6"
      ]
     },
     "execution_count": 573,
     "metadata": {},
     "output_type": "execute_result"
    }
   ],
   "source": [
    "q3"
   ]
  },
  {
   "cell_type": "code",
   "execution_count": 574,
   "metadata": {
    "colab": {
     "base_uri": "https://localhost:8080/"
    },
    "executionInfo": {
     "elapsed": 98,
     "status": "ok",
     "timestamp": 1633105331398,
     "user": {
      "displayName": "Hasmukh Mer",
      "photoUrl": "https://lh3.googleusercontent.com/a/default-user=s64",
      "userId": "00621887669129670036"
     },
     "user_tz": -330
    },
    "id": "Kz4aYkwx3_tL",
    "outputId": "0f28d08c-b9c5-4673-9440-89892fe54204"
   },
   "outputs": [
    {
     "data": {
      "text/plain": [
       "['Glucose', 'BloodPressure', 'SkinThickness', 'Insulin', 'BMI']"
      ]
     },
     "execution_count": 574,
     "metadata": {},
     "output_type": "execute_result"
    }
   ],
   "source": [
    "list2"
   ]
  },
  {
   "cell_type": "code",
   "execution_count": 575,
   "metadata": {
    "executionInfo": {
     "elapsed": 87,
     "status": "ok",
     "timestamp": 1633105331399,
     "user": {
      "displayName": "Hasmukh Mer",
      "photoUrl": "https://lh3.googleusercontent.com/a/default-user=s64",
      "userId": "00621887669129670036"
     },
     "user_tz": -330
    },
    "id": "JpZVQwqT3_tL"
   },
   "outputs": [],
   "source": [
    "outliers=pd.DataFrame(columns=[\"Features\",\"NoOfOutliers\"])"
   ]
  },
  {
   "cell_type": "code",
   "execution_count": 576,
   "metadata": {
    "executionInfo": {
     "elapsed": 87,
     "status": "ok",
     "timestamp": 1633105331400,
     "user": {
      "displayName": "Hasmukh Mer",
      "photoUrl": "https://lh3.googleusercontent.com/a/default-user=s64",
      "userId": "00621887669129670036"
     },
     "user_tz": -330
    },
    "id": "PkdylWIi3_tL"
   },
   "outputs": [],
   "source": [
    "\n",
    "for col in list2:\n",
    "    q1=df[col].quantile(0.25)\n",
    "    q2=df[col].quantile(0.50)\n",
    "    q3=df[col].quantile(0.75)\n",
    "    iqr=q3-q1\n",
    "    low_value=q1-1.5*iqr\n",
    "    high_value=q3+1.5*iqr\n",
    "    outliers=outliers.append({'Features':col,'NoOfOutliers':df.loc[(df[col]>high_value) | (df[col]<low_value)].shape[0]},ignore_index=True)\n",
    "\n",
    "\n",
    "    "
   ]
  },
  {
   "cell_type": "code",
   "execution_count": 577,
   "metadata": {
    "colab": {
     "base_uri": "https://localhost:8080/",
     "height": 206
    },
    "executionInfo": {
     "elapsed": 87,
     "status": "ok",
     "timestamp": 1633105331401,
     "user": {
      "displayName": "Hasmukh Mer",
      "photoUrl": "https://lh3.googleusercontent.com/a/default-user=s64",
      "userId": "00621887669129670036"
     },
     "user_tz": -330
    },
    "id": "w6D1fLB43_tM",
    "outputId": "7225de9d-07d5-4871-9768-dcc27b1504f6"
   },
   "outputs": [
    {
     "data": {
      "text/html": [
       "<div>\n",
       "<style scoped>\n",
       "    .dataframe tbody tr th:only-of-type {\n",
       "        vertical-align: middle;\n",
       "    }\n",
       "\n",
       "    .dataframe tbody tr th {\n",
       "        vertical-align: top;\n",
       "    }\n",
       "\n",
       "    .dataframe thead th {\n",
       "        text-align: right;\n",
       "    }\n",
       "</style>\n",
       "<table border=\"1\" class=\"dataframe\">\n",
       "  <thead>\n",
       "    <tr style=\"text-align: right;\">\n",
       "      <th></th>\n",
       "      <th>Features</th>\n",
       "      <th>NoOfOutliers</th>\n",
       "    </tr>\n",
       "  </thead>\n",
       "  <tbody>\n",
       "    <tr>\n",
       "      <th>0</th>\n",
       "      <td>Glucose</td>\n",
       "      <td>0</td>\n",
       "    </tr>\n",
       "    <tr>\n",
       "      <th>1</th>\n",
       "      <td>BloodPressure</td>\n",
       "      <td>14</td>\n",
       "    </tr>\n",
       "    <tr>\n",
       "      <th>2</th>\n",
       "      <td>SkinThickness</td>\n",
       "      <td>87</td>\n",
       "    </tr>\n",
       "    <tr>\n",
       "      <th>3</th>\n",
       "      <td>Insulin</td>\n",
       "      <td>164</td>\n",
       "    </tr>\n",
       "    <tr>\n",
       "      <th>4</th>\n",
       "      <td>BMI</td>\n",
       "      <td>8</td>\n",
       "    </tr>\n",
       "  </tbody>\n",
       "</table>\n",
       "</div>"
      ],
      "text/plain": [
       "        Features NoOfOutliers\n",
       "0        Glucose            0\n",
       "1  BloodPressure           14\n",
       "2  SkinThickness           87\n",
       "3        Insulin          164\n",
       "4            BMI            8"
      ]
     },
     "execution_count": 577,
     "metadata": {},
     "output_type": "execute_result"
    }
   ],
   "source": [
    "outliers"
   ]
  },
  {
   "cell_type": "code",
   "execution_count": 577,
   "metadata": {
    "executionInfo": {
     "elapsed": 87,
     "status": "ok",
     "timestamp": 1633105331402,
     "user": {
      "displayName": "Hasmukh Mer",
      "photoUrl": "https://lh3.googleusercontent.com/a/default-user=s64",
      "userId": "00621887669129670036"
     },
     "user_tz": -330
    },
    "id": "dqODYgHl3_tM"
   },
   "outputs": [],
   "source": []
  },
  {
   "cell_type": "code",
   "execution_count": 578,
   "metadata": {
    "executionInfo": {
     "elapsed": 86,
     "status": "ok",
     "timestamp": 1633105331402,
     "user": {
      "displayName": "Hasmukh Mer",
      "photoUrl": "https://lh3.googleusercontent.com/a/default-user=s64",
      "userId": "00621887669129670036"
     },
     "user_tz": -330
    },
    "id": "0g6wIm923_tN"
   },
   "outputs": [],
   "source": [
    "zeros=(df1['Outcome']==0).sum(axis=0)\n",
    "ones=(df1['Outcome']==1).sum(axis=0)\n"
   ]
  },
  {
   "cell_type": "code",
   "execution_count": 579,
   "metadata": {
    "executionInfo": {
     "elapsed": 87,
     "status": "ok",
     "timestamp": 1633105331403,
     "user": {
      "displayName": "Hasmukh Mer",
      "photoUrl": "https://lh3.googleusercontent.com/a/default-user=s64",
      "userId": "00621887669129670036"
     },
     "user_tz": -330
    },
    "id": "4rC2kT_43_tN"
   },
   "outputs": [],
   "source": [
    "per_zer=(zeros/len(df))*100"
   ]
  },
  {
   "cell_type": "code",
   "execution_count": 580,
   "metadata": {
    "executionInfo": {
     "elapsed": 87,
     "status": "ok",
     "timestamp": 1633105331404,
     "user": {
      "displayName": "Hasmukh Mer",
      "photoUrl": "https://lh3.googleusercontent.com/a/default-user=s64",
      "userId": "00621887669129670036"
     },
     "user_tz": -330
    },
    "id": "I-jx9lyQ3_tN"
   },
   "outputs": [],
   "source": [
    "per_ones=(ones/len(df))*100"
   ]
  },
  {
   "cell_type": "code",
   "execution_count": 581,
   "metadata": {
    "executionInfo": {
     "elapsed": 87,
     "status": "ok",
     "timestamp": 1633105331405,
     "user": {
      "displayName": "Hasmukh Mer",
      "photoUrl": "https://lh3.googleusercontent.com/a/default-user=s64",
      "userId": "00621887669129670036"
     },
     "user_tz": -330
    },
    "id": "UugtpL2G3_tO"
   },
   "outputs": [],
   "source": [
    "# ones=df[df['Outcome']==1].count()"
   ]
  },
  {
   "cell_type": "code",
   "execution_count": 582,
   "metadata": {
    "colab": {
     "base_uri": "https://localhost:8080/"
    },
    "executionInfo": {
     "elapsed": 87,
     "status": "ok",
     "timestamp": 1633105331406,
     "user": {
      "displayName": "Hasmukh Mer",
      "photoUrl": "https://lh3.googleusercontent.com/a/default-user=s64",
      "userId": "00621887669129670036"
     },
     "user_tz": -330
    },
    "id": "ZO8p5yiy3_tO",
    "outputId": "c454a17e-e1d7-42fd-baf3-856ce0790de8"
   },
   "outputs": [
    {
     "data": {
      "text/plain": [
       "65.10416666666666"
      ]
     },
     "execution_count": 582,
     "metadata": {},
     "output_type": "execute_result"
    }
   ],
   "source": [
    "per_zer\n",
    "# per_ones"
   ]
  },
  {
   "cell_type": "code",
   "execution_count": 583,
   "metadata": {
    "executionInfo": {
     "elapsed": 76,
     "status": "ok",
     "timestamp": 1633105331408,
     "user": {
      "displayName": "Hasmukh Mer",
      "photoUrl": "https://lh3.googleusercontent.com/a/default-user=s64",
      "userId": "00621887669129670036"
     },
     "user_tz": -330
    },
    "id": "QcXedsHQ3_tO"
   },
   "outputs": [],
   "source": [
    "per_outcome=(df1['Outcome'].value_counts()/len(df))*100"
   ]
  },
  {
   "cell_type": "code",
   "execution_count": 584,
   "metadata": {
    "colab": {
     "base_uri": "https://localhost:8080/"
    },
    "executionInfo": {
     "elapsed": 67,
     "status": "ok",
     "timestamp": 1633105331409,
     "user": {
      "displayName": "Hasmukh Mer",
      "photoUrl": "https://lh3.googleusercontent.com/a/default-user=s64",
      "userId": "00621887669129670036"
     },
     "user_tz": -330
    },
    "id": "mybZE4dU3_tP",
    "outputId": "2351c48b-51c2-4f14-8664-3a72778441f6"
   },
   "outputs": [
    {
     "data": {
      "text/plain": [
       "0    65.104167\n",
       "1    34.895833\n",
       "Name: Outcome, dtype: float64"
      ]
     },
     "execution_count": 584,
     "metadata": {},
     "output_type": "execute_result"
    }
   ],
   "source": [
    "per_outcome"
   ]
  },
  {
   "cell_type": "code",
   "execution_count": 585,
   "metadata": {
    "colab": {
     "base_uri": "https://localhost:8080/"
    },
    "executionInfo": {
     "elapsed": 1559,
     "status": "ok",
     "timestamp": 1633105332912,
     "user": {
      "displayName": "Hasmukh Mer",
      "photoUrl": "https://lh3.googleusercontent.com/a/default-user=s64",
      "userId": "00621887669129670036"
     },
     "user_tz": -330
    },
    "id": "NuFOquUP3_tP",
    "outputId": "5552add6-cb21-46c8-b667-85a71759e1a2"
   },
   "outputs": [
    {
     "name": "stdout",
     "output_type": "stream",
     "text": [
      "Requirement already satisfied: sklearn in /usr/local/lib/python3.7/dist-packages (0.0)\n",
      "Requirement already satisfied: scikit-learn in /usr/local/lib/python3.7/dist-packages (from sklearn) (0.22.2.post1)\n",
      "Requirement already satisfied: scipy>=0.17.0 in /usr/local/lib/python3.7/dist-packages (from scikit-learn->sklearn) (1.4.1)\n",
      "Requirement already satisfied: joblib>=0.11 in /usr/local/lib/python3.7/dist-packages (from scikit-learn->sklearn) (1.0.1)\n",
      "Requirement already satisfied: numpy>=1.11.0 in /usr/local/lib/python3.7/dist-packages (from scikit-learn->sklearn) (1.19.5)\n"
     ]
    }
   ],
   "source": [
    "pip install sklearn"
   ]
  },
  {
   "cell_type": "code",
   "execution_count": 586,
   "metadata": {
    "executionInfo": {
     "elapsed": 416,
     "status": "ok",
     "timestamp": 1633105332933,
     "user": {
      "displayName": "Hasmukh Mer",
      "photoUrl": "https://lh3.googleusercontent.com/a/default-user=s64",
      "userId": "00621887669129670036"
     },
     "user_tz": -330
    },
    "id": "SgLT7PBO3_tP"
   },
   "outputs": [],
   "source": [
    "from sklearn.model_selection import train_test_split"
   ]
  },
  {
   "cell_type": "code",
   "execution_count": 587,
   "metadata": {
    "executionInfo": {
     "elapsed": 414,
     "status": "ok",
     "timestamp": 1633105332934,
     "user": {
      "displayName": "Hasmukh Mer",
      "photoUrl": "https://lh3.googleusercontent.com/a/default-user=s64",
      "userId": "00621887669129670036"
     },
     "user_tz": -330
    },
    "id": "s5AMKDqm3_tQ"
   },
   "outputs": [],
   "source": [
    "x=df.iloc[:,0:8]"
   ]
  },
  {
   "cell_type": "code",
   "execution_count": 588,
   "metadata": {
    "executionInfo": {
     "elapsed": 415,
     "status": "ok",
     "timestamp": 1633105332935,
     "user": {
      "displayName": "Hasmukh Mer",
      "photoUrl": "https://lh3.googleusercontent.com/a/default-user=s64",
      "userId": "00621887669129670036"
     },
     "user_tz": -330
    },
    "id": "rww8wvDb3_tQ"
   },
   "outputs": [],
   "source": [
    "y=df.iloc[:,8]"
   ]
  },
  {
   "cell_type": "code",
   "execution_count": 589,
   "metadata": {
    "colab": {
     "base_uri": "https://localhost:8080/"
    },
    "executionInfo": {
     "elapsed": 414,
     "status": "ok",
     "timestamp": 1633105332935,
     "user": {
      "displayName": "Hasmukh Mer",
      "photoUrl": "https://lh3.googleusercontent.com/a/default-user=s64",
      "userId": "00621887669129670036"
     },
     "user_tz": -330
    },
    "id": "Alnag-TW3_tR",
    "outputId": "6bb39212-ac12-48d4-d9a4-760596425417"
   },
   "outputs": [
    {
     "data": {
      "text/plain": [
       "0      1\n",
       "1      0\n",
       "2      1\n",
       "3      0\n",
       "4      1\n",
       "      ..\n",
       "763    0\n",
       "764    0\n",
       "765    0\n",
       "766    1\n",
       "767    0\n",
       "Name: Outcome, Length: 768, dtype: int64"
      ]
     },
     "execution_count": 589,
     "metadata": {},
     "output_type": "execute_result"
    }
   ],
   "source": [
    "# x.head()\n",
    "y\n"
   ]
  },
  {
   "cell_type": "code",
   "execution_count": 590,
   "metadata": {
    "executionInfo": {
     "elapsed": 395,
     "status": "ok",
     "timestamp": 1633105332938,
     "user": {
      "displayName": "Hasmukh Mer",
      "photoUrl": "https://lh3.googleusercontent.com/a/default-user=s64",
      "userId": "00621887669129670036"
     },
     "user_tz": -330
    },
    "id": "MLaa3imd3_tR"
   },
   "outputs": [],
   "source": [
    "x_train,x_test,y_train,y_test=train_test_split(x,y,test_size=0.20,random_state=0)\n",
    "\n"
   ]
  },
  {
   "cell_type": "code",
   "execution_count": 591,
   "metadata": {
    "colab": {
     "base_uri": "https://localhost:8080/"
    },
    "executionInfo": {
     "elapsed": 395,
     "status": "ok",
     "timestamp": 1633105332940,
     "user": {
      "displayName": "Hasmukh Mer",
      "photoUrl": "https://lh3.googleusercontent.com/a/default-user=s64",
      "userId": "00621887669129670036"
     },
     "user_tz": -330
    },
    "id": "pGT2VUTv3_tR",
    "outputId": "baa34464-86e9-4147-f970-8478ea4c2c98"
   },
   "outputs": [
    {
     "data": {
      "text/plain": [
       "(614, 8)"
      ]
     },
     "execution_count": 591,
     "metadata": {},
     "output_type": "execute_result"
    }
   ],
   "source": [
    "x_train.shape\n"
   ]
  },
  {
   "cell_type": "code",
   "execution_count": 592,
   "metadata": {
    "colab": {
     "base_uri": "https://localhost:8080/"
    },
    "executionInfo": {
     "elapsed": 384,
     "status": "ok",
     "timestamp": 1633105332943,
     "user": {
      "displayName": "Hasmukh Mer",
      "photoUrl": "https://lh3.googleusercontent.com/a/default-user=s64",
      "userId": "00621887669129670036"
     },
     "user_tz": -330
    },
    "id": "U4WU3sOE3_tS",
    "outputId": "16e9fb9e-9752-45b6-e199-2b471eec0568"
   },
   "outputs": [
    {
     "data": {
      "text/plain": [
       "(154, 8)"
      ]
     },
     "execution_count": 592,
     "metadata": {},
     "output_type": "execute_result"
    }
   ],
   "source": [
    "x_test.shape"
   ]
  },
  {
   "cell_type": "code",
   "execution_count": 593,
   "metadata": {
    "colab": {
     "base_uri": "https://localhost:8080/"
    },
    "executionInfo": {
     "elapsed": 373,
     "status": "ok",
     "timestamp": 1633105332945,
     "user": {
      "displayName": "Hasmukh Mer",
      "photoUrl": "https://lh3.googleusercontent.com/a/default-user=s64",
      "userId": "00621887669129670036"
     },
     "user_tz": -330
    },
    "id": "qgIwmvwp3_tS",
    "outputId": "8276be79-f377-4b14-8914-ee5fd5e8b1dc"
   },
   "outputs": [
    {
     "data": {
      "text/plain": [
       "(614,)"
      ]
     },
     "execution_count": 593,
     "metadata": {},
     "output_type": "execute_result"
    }
   ],
   "source": [
    "y_train.shape\n",
    "\n"
   ]
  },
  {
   "cell_type": "code",
   "execution_count": 594,
   "metadata": {
    "colab": {
     "base_uri": "https://localhost:8080/"
    },
    "executionInfo": {
     "elapsed": 359,
     "status": "ok",
     "timestamp": 1633105332946,
     "user": {
      "displayName": "Hasmukh Mer",
      "photoUrl": "https://lh3.googleusercontent.com/a/default-user=s64",
      "userId": "00621887669129670036"
     },
     "user_tz": -330
    },
    "id": "HdZkAavk3_tT",
    "outputId": "d8c20404-7dbe-4cd4-ddb4-089583ded382"
   },
   "outputs": [
    {
     "data": {
      "text/plain": [
       "(154,)"
      ]
     },
     "execution_count": 594,
     "metadata": {},
     "output_type": "execute_result"
    }
   ],
   "source": [
    "y_test.shape"
   ]
  },
  {
   "cell_type": "code",
   "execution_count": 595,
   "metadata": {
    "colab": {
     "base_uri": "https://localhost:8080/"
    },
    "executionInfo": {
     "elapsed": 345,
     "status": "ok",
     "timestamp": 1633105332948,
     "user": {
      "displayName": "Hasmukh Mer",
      "photoUrl": "https://lh3.googleusercontent.com/a/default-user=s64",
      "userId": "00621887669129670036"
     },
     "user_tz": -330
    },
    "id": "vujq5qVs3_tT",
    "outputId": "3f75f08d-6857-44e9-d05e-0d2d43d65d72"
   },
   "outputs": [
    {
     "data": {
      "text/plain": [
       "12.409673645990857"
      ]
     },
     "execution_count": 595,
     "metadata": {},
     "output_type": "execute_result"
    }
   ],
   "source": [
    "np.sqrt(len(x_test))"
   ]
  },
  {
   "cell_type": "code",
   "execution_count": 596,
   "metadata": {
    "executionInfo": {
     "elapsed": 330,
     "status": "ok",
     "timestamp": 1633105332950,
     "user": {
      "displayName": "Hasmukh Mer",
      "photoUrl": "https://lh3.googleusercontent.com/a/default-user=s64",
      "userId": "00621887669129670036"
     },
     "user_tz": -330
    },
    "id": "O3YuICJR3_tT"
   },
   "outputs": [],
   "source": [
    "from sklearn.neighbors import KNeighborsClassifier\n"
   ]
  },
  {
   "cell_type": "code",
   "execution_count": 597,
   "metadata": {
    "colab": {
     "base_uri": "https://localhost:8080/"
    },
    "executionInfo": {
     "elapsed": 331,
     "status": "ok",
     "timestamp": 1633105332951,
     "user": {
      "displayName": "Hasmukh Mer",
      "photoUrl": "https://lh3.googleusercontent.com/a/default-user=s64",
      "userId": "00621887669129670036"
     },
     "user_tz": -330
    },
    "id": "pyKdfawo3_tU",
    "outputId": "d99dc64e-6d41-47fb-9c23-73ce3e74b13f"
   },
   "outputs": [
    {
     "data": {
      "text/plain": [
       "KNeighborsClassifier(algorithm='auto', leaf_size=30, metric='euclidean',\n",
       "                     metric_params=None, n_jobs=None, n_neighbors=13, p=2,\n",
       "                     weights='uniform')"
      ]
     },
     "execution_count": 597,
     "metadata": {},
     "output_type": "execute_result"
    }
   ],
   "source": [
    "# KNN Classifiers\n",
    "\n",
    "classifier=KNeighborsClassifier(n_neighbors=13,p=2,metric='euclidean')\n",
    "classifier.fit(x_train,y_train)"
   ]
  },
  {
   "cell_type": "code",
   "execution_count": 598,
   "metadata": {
    "executionInfo": {
     "elapsed": 317,
     "status": "ok",
     "timestamp": 1633105332952,
     "user": {
      "displayName": "Hasmukh Mer",
      "photoUrl": "https://lh3.googleusercontent.com/a/default-user=s64",
      "userId": "00621887669129670036"
     },
     "user_tz": -330
    },
    "id": "89j9ha6P3_tU"
   },
   "outputs": [],
   "source": [
    "y_pred=classifier.predict(x_test)"
   ]
  },
  {
   "cell_type": "code",
   "execution_count": 599,
   "metadata": {
    "colab": {
     "base_uri": "https://localhost:8080/"
    },
    "executionInfo": {
     "elapsed": 315,
     "status": "ok",
     "timestamp": 1633105332952,
     "user": {
      "displayName": "Hasmukh Mer",
      "photoUrl": "https://lh3.googleusercontent.com/a/default-user=s64",
      "userId": "00621887669129670036"
     },
     "user_tz": -330
    },
    "id": "yrcxCq5s3_tU",
    "outputId": "c54d34a0-9e22-4875-c17f-c55592b2f5e7"
   },
   "outputs": [
    {
     "data": {
      "text/plain": [
       "array([1, 0, 0, 1, 0, 0, 1, 1, 0, 0, 1, 1, 0, 0, 0, 0, 1, 0, 0, 0, 0, 0,\n",
       "       0, 0, 0, 0, 0, 1, 0, 0, 1, 0, 0, 1, 0, 1, 1, 0, 0, 1, 0, 0, 0, 1,\n",
       "       1, 0, 0, 0, 0, 1, 1, 0, 1, 0, 0, 0, 0, 0, 0, 0, 1, 1, 0, 1, 1, 1,\n",
       "       1, 0, 1, 0, 0, 1, 0, 1, 1, 0, 0, 1, 0, 0, 1, 0, 0, 0, 0, 0, 0, 0,\n",
       "       1, 0, 0, 0, 0, 0, 0, 0, 0, 0, 0, 1, 0, 0, 0, 0, 0, 0, 0, 1, 0, 1,\n",
       "       0, 0, 1, 0, 1, 1, 0, 1, 0, 1, 1, 0, 0, 0, 0, 0, 0, 1, 0, 1, 1, 0,\n",
       "       0, 1, 0, 1, 0, 0, 0, 0, 0, 1, 0, 0, 1, 0, 0, 0, 0, 0, 0, 1, 0, 0])"
      ]
     },
     "execution_count": 599,
     "metadata": {},
     "output_type": "execute_result"
    }
   ],
   "source": [
    "y_pred"
   ]
  },
  {
   "cell_type": "code",
   "execution_count": 600,
   "metadata": {
    "executionInfo": {
     "elapsed": 302,
     "status": "ok",
     "timestamp": 1633105332954,
     "user": {
      "displayName": "Hasmukh Mer",
      "photoUrl": "https://lh3.googleusercontent.com/a/default-user=s64",
      "userId": "00621887669129670036"
     },
     "user_tz": -330
    },
    "id": "F2HgOGZe3_tV"
   },
   "outputs": [],
   "source": [
    "yt=list(y_test)"
   ]
  },
  {
   "cell_type": "code",
   "execution_count": 601,
   "metadata": {
    "executionInfo": {
     "elapsed": 303,
     "status": "ok",
     "timestamp": 1633105332956,
     "user": {
      "displayName": "Hasmukh Mer",
      "photoUrl": "https://lh3.googleusercontent.com/a/default-user=s64",
      "userId": "00621887669129670036"
     },
     "user_tz": -330
    },
    "id": "ZvvGIaFL3_tV"
   },
   "outputs": [],
   "source": [
    "# yt"
   ]
  },
  {
   "cell_type": "code",
   "execution_count": 601,
   "metadata": {
    "executionInfo": {
     "elapsed": 303,
     "status": "ok",
     "timestamp": 1633105332957,
     "user": {
      "displayName": "Hasmukh Mer",
      "photoUrl": "https://lh3.googleusercontent.com/a/default-user=s64",
      "userId": "00621887669129670036"
     },
     "user_tz": -330
    },
    "id": "iToIFZLe3_tV"
   },
   "outputs": [],
   "source": []
  },
  {
   "cell_type": "code",
   "execution_count": 602,
   "metadata": {
    "colab": {
     "base_uri": "https://localhost:8080/",
     "height": 547
    },
    "executionInfo": {
     "elapsed": 305,
     "status": "ok",
     "timestamp": 1633105332959,
     "user": {
      "displayName": "Hasmukh Mer",
      "photoUrl": "https://lh3.googleusercontent.com/a/default-user=s64",
      "userId": "00621887669129670036"
     },
     "user_tz": -330
    },
    "id": "C5tOJ2Cp3_th",
    "outputId": "e58406d5-d737-4517-b361-ee935f87db8e"
   },
   "outputs": [
    {
     "name": "stderr",
     "output_type": "stream",
     "text": [
      "/usr/local/lib/python3.7/dist-packages/seaborn/distributions.py:2619: FutureWarning: `distplot` is a deprecated function and will be removed in a future version. Please adapt your code to use either `displot` (a figure-level function with similar flexibility) or `kdeplot` (an axes-level function for kernel density plots).\n",
      "  warnings.warn(msg, FutureWarning)\n",
      "/usr/local/lib/python3.7/dist-packages/seaborn/distributions.py:2619: FutureWarning: `distplot` is a deprecated function and will be removed in a future version. Please adapt your code to use either `displot` (a figure-level function with similar flexibility) or `kdeplot` (an axes-level function for kernel density plots).\n",
      "  warnings.warn(msg, FutureWarning)\n"
     ]
    },
    {
     "data": {
      "image/png": "[encoded data removed]",
      "text/plain": [
       "<Figure size 360x504 with 1 Axes>"
      ]
     },
     "metadata": {
      "needs_background": "light"
     },
     "output_type": "display_data"
    }
   ],
   "source": [
    "plt.figure(figsize=(5,7))\n",
    "ax=sns.distplot(y_test,hist=False,color=\"r\",label=\"Actual Value\")\n",
    "sns.distplot(y_pred,hist=False,color=\"b\",label=\"Predicted Value\",ax=ax)\n",
    "plt.title(\"Actual Vs Precticted Value For Outcome\")\n",
    "plt.show()\n",
    "plt.close()\n"
   ]
  },
  {
   "cell_type": "code",
   "execution_count": 603,
   "metadata": {
    "colab": {
     "base_uri": "https://localhost:8080/"
    },
    "executionInfo": {
     "elapsed": 292,
     "status": "ok",
     "timestamp": 1633105332960,
     "user": {
      "displayName": "Hasmukh Mer",
      "photoUrl": "https://lh3.googleusercontent.com/a/default-user=s64",
      "userId": "00621887669129670036"
     },
     "user_tz": -330
    },
    "id": "eqXgTWFr3_th",
    "outputId": "c7d4a974-660d-4efc-b3af-3920cac39c4a"
   },
   "outputs": [
    {
     "data": {
      "text/plain": [
       "array([[90, 17],\n",
       "       [16, 31]])"
      ]
     },
     "execution_count": 603,
     "metadata": {},
     "output_type": "execute_result"
    }
   ],
   "source": [
    "from sklearn.metrics import confusion_matrix\n",
    "cm=confusion_matrix(y_test,y_pred)\n",
    "\n",
    "cm"
   ]
  },
  {
   "cell_type": "code",
   "execution_count": 604,
   "metadata": {
    "colab": {
     "base_uri": "https://localhost:8080/"
    },
    "executionInfo": {
     "elapsed": 274,
     "status": "ok",
     "timestamp": 1633105332960,
     "user": {
      "displayName": "Hasmukh Mer",
      "photoUrl": "https://lh3.googleusercontent.com/a/default-user=s64",
      "userId": "00621887669129670036"
     },
     "user_tz": -330
    },
    "id": "N57lYwag3_ti",
    "outputId": "007e8392-1000-4c04-8f53-be6425746eed"
   },
   "outputs": [
    {
     "name": "stdout",
     "output_type": "stream",
     "text": [
      "0.7857142857142857\n"
     ]
    }
   ],
   "source": [
    "from sklearn.metrics import accuracy_score\n",
    "print(accuracy_score(y_test,y_pred))"
   ]
  },
  {
   "cell_type": "code",
   "execution_count": 605,
   "metadata": {
    "executionInfo": {
     "elapsed": 260,
     "status": "ok",
     "timestamp": 1633105332962,
     "user": {
      "displayName": "Hasmukh Mer",
      "photoUrl": "https://lh3.googleusercontent.com/a/default-user=s64",
      "userId": "00621887669129670036"
     },
     "user_tz": -330
    },
    "id": "4wV-g4wW3_ti"
   },
   "outputs": [],
   "source": [
    "from scipy.stats.mstats import winsorize"
   ]
  },
  {
   "cell_type": "code",
   "execution_count": 606,
   "metadata": {
    "executionInfo": {
     "elapsed": 260,
     "status": "ok",
     "timestamp": 1633105332963,
     "user": {
      "displayName": "Hasmukh Mer",
      "photoUrl": "https://lh3.googleusercontent.com/a/default-user=s64",
      "userId": "00621887669129670036"
     },
     "user_tz": -330
    },
    "id": "sLryO6K33_ti"
   },
   "outputs": [],
   "source": [
    "for col in list2:\n",
    "    if col in df.select_dtypes(include=np.number).columns:\n",
    "        df[col]=winsorize(df[col],limits=[0.05,0.1],inclusive=(True,True))"
   ]
  },
  {
   "cell_type": "code",
   "execution_count": 607,
   "metadata": {
    "executionInfo": {
     "elapsed": 260,
     "status": "ok",
     "timestamp": 1633105332964,
     "user": {
      "displayName": "Hasmukh Mer",
      "photoUrl": "https://lh3.googleusercontent.com/a/default-user=s64",
      "userId": "00621887669129670036"
     },
     "user_tz": -330
    },
    "id": "erru6bEg3_tj"
   },
   "outputs": [],
   "source": [
    "x=df.iloc[:,0:8]"
   ]
  },
  {
   "cell_type": "code",
   "execution_count": 608,
   "metadata": {
    "executionInfo": {
     "elapsed": 267,
     "status": "ok",
     "timestamp": 1633105332971,
     "user": {
      "displayName": "Hasmukh Mer",
      "photoUrl": "https://lh3.googleusercontent.com/a/default-user=s64",
      "userId": "00621887669129670036"
     },
     "user_tz": -330
    },
    "id": "jsVNpxW03_tj"
   },
   "outputs": [],
   "source": [
    "y=df.iloc[:,8]"
   ]
  },
  {
   "cell_type": "code",
   "execution_count": 609,
   "metadata": {
    "executionInfo": {
     "elapsed": 271,
     "status": "ok",
     "timestamp": 1633105332976,
     "user": {
      "displayName": "Hasmukh Mer",
      "photoUrl": "https://lh3.googleusercontent.com/a/default-user=s64",
      "userId": "00621887669129670036"
     },
     "user_tz": -330
    },
    "id": "XefuNpdq3_tj"
   },
   "outputs": [],
   "source": [
    "x_train,x_test,y_train,y_test=train_test_split(x,y,test_size=0.20,random_state=0)"
   ]
  },
  {
   "cell_type": "code",
   "execution_count": 609,
   "metadata": {
    "executionInfo": {
     "elapsed": 312,
     "status": "ok",
     "timestamp": 1633105333021,
     "user": {
      "displayName": "Hasmukh Mer",
      "photoUrl": "https://lh3.googleusercontent.com/a/default-user=s64",
      "userId": "00621887669129670036"
     },
     "user_tz": -330
    },
    "id": "eoOEA-5s3_tj"
   },
   "outputs": [],
   "source": []
  },
  {
   "cell_type": "code",
   "execution_count": 610,
   "metadata": {
    "colab": {
     "base_uri": "https://localhost:8080/"
    },
    "executionInfo": {
     "elapsed": 312,
     "status": "ok",
     "timestamp": 1633105333022,
     "user": {
      "displayName": "Hasmukh Mer",
      "photoUrl": "https://lh3.googleusercontent.com/a/default-user=s64",
      "userId": "00621887669129670036"
     },
     "user_tz": -330
    },
    "id": "FnG0POj_3_tk",
    "outputId": "6d9abdf9-ef49-45c2-8431-0ea8d68463b1"
   },
   "outputs": [
    {
     "data": {
      "text/plain": [
       "(614, 8)"
      ]
     },
     "execution_count": 610,
     "metadata": {},
     "output_type": "execute_result"
    }
   ],
   "source": [
    "x_train.shape"
   ]
  },
  {
   "cell_type": "code",
   "execution_count": 611,
   "metadata": {
    "colab": {
     "base_uri": "https://localhost:8080/"
    },
    "executionInfo": {
     "elapsed": 303,
     "status": "ok",
     "timestamp": 1633105333025,
     "user": {
      "displayName": "Hasmukh Mer",
      "photoUrl": "https://lh3.googleusercontent.com/a/default-user=s64",
      "userId": "00621887669129670036"
     },
     "user_tz": -330
    },
    "id": "EM-grY2h3_tk",
    "outputId": "d3e83282-1691-46f1-ec7b-bfd9994798ba"
   },
   "outputs": [
    {
     "data": {
      "text/plain": [
       "(154,)"
      ]
     },
     "execution_count": 611,
     "metadata": {},
     "output_type": "execute_result"
    }
   ],
   "source": [
    "y_test.shape"
   ]
  },
  {
   "cell_type": "code",
   "execution_count": 612,
   "metadata": {
    "executionInfo": {
     "elapsed": 290,
     "status": "ok",
     "timestamp": 1633105333026,
     "user": {
      "displayName": "Hasmukh Mer",
      "photoUrl": "https://lh3.googleusercontent.com/a/default-user=s64",
      "userId": "00621887669129670036"
     },
     "user_tz": -330
    },
    "id": "w2oJRPhI3_tk"
   },
   "outputs": [],
   "source": [
    "outliers2=pd.DataFrame(columns=[\"Features\",\"NoOfOutliers\"])"
   ]
  },
  {
   "cell_type": "code",
   "execution_count": 612,
   "metadata": {
    "executionInfo": {
     "elapsed": 290,
     "status": "ok",
     "timestamp": 1633105333027,
     "user": {
      "displayName": "Hasmukh Mer",
      "photoUrl": "https://lh3.googleusercontent.com/a/default-user=s64",
      "userId": "00621887669129670036"
     },
     "user_tz": -330
    },
    "id": "xHfGsSUI3_tl"
   },
   "outputs": [],
   "source": []
  },
  {
   "cell_type": "code",
   "execution_count": 613,
   "metadata": {
    "executionInfo": {
     "elapsed": 290,
     "status": "ok",
     "timestamp": 1633105333027,
     "user": {
      "displayName": "Hasmukh Mer",
      "photoUrl": "https://lh3.googleusercontent.com/a/default-user=s64",
      "userId": "00621887669129670036"
     },
     "user_tz": -330
    },
    "id": "FuzOfSC93_tl"
   },
   "outputs": [],
   "source": [
    "\n",
    "for col in list2:\n",
    "    q1=df[col].quantile(0.25)\n",
    "    q2=df[col].quantile(0.50)\n",
    "    q3=df[col].quantile(0.75)\n",
    "    iqr=q3-q1\n",
    "    low_value=q1-1.5*iqr\n",
    "    high_value=q3+1.5*iqr\n",
    "    outliers2=outliers2.append({'Features':col,'NoOfOutliers':df.loc[(df[col]>high_value) | (df[col]<low_value)].shape[0]},ignore_index=True)\n",
    "\n",
    "\n",
    "    "
   ]
  },
  {
   "cell_type": "code",
   "execution_count": 614,
   "metadata": {
    "colab": {
     "base_uri": "https://localhost:8080/",
     "height": 206
    },
    "executionInfo": {
     "elapsed": 290,
     "status": "ok",
     "timestamp": 1633105333028,
     "user": {
      "displayName": "Hasmukh Mer",
      "photoUrl": "https://lh3.googleusercontent.com/a/default-user=s64",
      "userId": "00621887669129670036"
     },
     "user_tz": -330
    },
    "id": "cZAKHSUZ3_tl",
    "outputId": "3538be96-00dc-442f-84f1-347bf4f6a668"
   },
   "outputs": [
    {
     "data": {
      "text/html": [
       "<div>\n",
       "<style scoped>\n",
       "    .dataframe tbody tr th:only-of-type {\n",
       "        vertical-align: middle;\n",
       "    }\n",
       "\n",
       "    .dataframe tbody tr th {\n",
       "        vertical-align: top;\n",
       "    }\n",
       "\n",
       "    .dataframe thead th {\n",
       "        text-align: right;\n",
       "    }\n",
       "</style>\n",
       "<table border=\"1\" class=\"dataframe\">\n",
       "  <thead>\n",
       "    <tr style=\"text-align: right;\">\n",
       "      <th></th>\n",
       "      <th>Features</th>\n",
       "      <th>NoOfOutliers</th>\n",
       "    </tr>\n",
       "  </thead>\n",
       "  <tbody>\n",
       "    <tr>\n",
       "      <th>0</th>\n",
       "      <td>Glucose</td>\n",
       "      <td>0</td>\n",
       "    </tr>\n",
       "    <tr>\n",
       "      <th>1</th>\n",
       "      <td>BloodPressure</td>\n",
       "      <td>0</td>\n",
       "    </tr>\n",
       "    <tr>\n",
       "      <th>2</th>\n",
       "      <td>SkinThickness</td>\n",
       "      <td>39</td>\n",
       "    </tr>\n",
       "    <tr>\n",
       "      <th>3</th>\n",
       "      <td>Insulin</td>\n",
       "      <td>164</td>\n",
       "    </tr>\n",
       "    <tr>\n",
       "      <th>4</th>\n",
       "      <td>BMI</td>\n",
       "      <td>0</td>\n",
       "    </tr>\n",
       "  </tbody>\n",
       "</table>\n",
       "</div>"
      ],
      "text/plain": [
       "        Features NoOfOutliers\n",
       "0        Glucose            0\n",
       "1  BloodPressure            0\n",
       "2  SkinThickness           39\n",
       "3        Insulin          164\n",
       "4            BMI            0"
      ]
     },
     "execution_count": 614,
     "metadata": {},
     "output_type": "execute_result"
    }
   ],
   "source": [
    "outliers2"
   ]
  },
  {
   "cell_type": "code",
   "execution_count": 615,
   "metadata": {
    "colab": {
     "base_uri": "https://localhost:8080/"
    },
    "executionInfo": {
     "elapsed": 289,
     "status": "ok",
     "timestamp": 1633105333029,
     "user": {
      "displayName": "Hasmukh Mer",
      "photoUrl": "https://lh3.googleusercontent.com/a/default-user=s64",
      "userId": "00621887669129670036"
     },
     "user_tz": -330
    },
    "id": "9PUJQaEZ3_tm",
    "outputId": "532dfef7-6dd0-4e10-e5b3-9546bf56820a"
   },
   "outputs": [
    {
     "data": {
      "text/plain": [
       "KNeighborsClassifier(algorithm='auto', leaf_size=30, metric='euclidean',\n",
       "                     metric_params=None, n_jobs=None, n_neighbors=11, p=2,\n",
       "                     weights='uniform')"
      ]
     },
     "execution_count": 615,
     "metadata": {},
     "output_type": "execute_result"
    }
   ],
   "source": [
    "classifier2=KNeighborsClassifier(n_neighbors=11,p=2,metric='euclidean')\n",
    "classifier2.fit(x_train,y_train)"
   ]
  },
  {
   "cell_type": "code",
   "execution_count": 616,
   "metadata": {
    "executionInfo": {
     "elapsed": 275,
     "status": "ok",
     "timestamp": 1633105333029,
     "user": {
      "displayName": "Hasmukh Mer",
      "photoUrl": "https://lh3.googleusercontent.com/a/default-user=s64",
      "userId": "00621887669129670036"
     },
     "user_tz": -330
    },
    "id": "Ylsi98223_tm"
   },
   "outputs": [],
   "source": [
    "y2_pred=classifier2.predict(x_test)"
   ]
  },
  {
   "cell_type": "code",
   "execution_count": 617,
   "metadata": {
    "colab": {
     "base_uri": "https://localhost:8080/"
    },
    "executionInfo": {
     "elapsed": 275,
     "status": "ok",
     "timestamp": 1633105333030,
     "user": {
      "displayName": "Hasmukh Mer",
      "photoUrl": "https://lh3.googleusercontent.com/a/default-user=s64",
      "userId": "00621887669129670036"
     },
     "user_tz": -330
    },
    "id": "VDlhxG_n3_tm",
    "outputId": "77f4f5ca-26e2-4165-b3b5-fb54ba7d673c"
   },
   "outputs": [
    {
     "name": "stdout",
     "output_type": "stream",
     "text": [
      "0.7597402597402597\n"
     ]
    }
   ],
   "source": [
    "print(accuracy_score(y_test,y2_pred))"
   ]
  },
  {
   "cell_type": "code",
   "execution_count": 618,
   "metadata": {
    "executionInfo": {
     "elapsed": 264,
     "status": "ok",
     "timestamp": 1633105333031,
     "user": {
      "displayName": "Hasmukh Mer",
      "photoUrl": "https://lh3.googleusercontent.com/a/default-user=s64",
      "userId": "00621887669129670036"
     },
     "user_tz": -330
    },
    "id": "ObPWguZo3_tn"
   },
   "outputs": [],
   "source": [
    "for col in list2:\n",
    "    if col in df.select_dtypes(include=np.number).columns:\n",
    "        df[col]=winsorize(df[col],limits=[0.1,0.9],inclusive=(True,True))"
   ]
  },
  {
   "cell_type": "code",
   "execution_count": 619,
   "metadata": {
    "executionInfo": {
     "elapsed": 263,
     "status": "ok",
     "timestamp": 1633105333032,
     "user": {
      "displayName": "Hasmukh Mer",
      "photoUrl": "https://lh3.googleusercontent.com/a/default-user=s64",
      "userId": "00621887669129670036"
     },
     "user_tz": -330
    },
    "id": "xfrQxpid3_tn"
   },
   "outputs": [],
   "source": [
    "outliers3=pd.DataFrame(columns=[\"Features\",\"NoOfOutliers\"])"
   ]
  },
  {
   "cell_type": "code",
   "execution_count": 620,
   "metadata": {
    "colab": {
     "base_uri": "https://localhost:8080/",
     "height": 49
    },
    "executionInfo": {
     "elapsed": 263,
     "status": "ok",
     "timestamp": 1633105333033,
     "user": {
      "displayName": "Hasmukh Mer",
      "photoUrl": "https://lh3.googleusercontent.com/a/default-user=s64",
      "userId": "00621887669129670036"
     },
     "user_tz": -330
    },
    "id": "WA5rKYKo3_tn",
    "outputId": "f52aa179-4877-4e69-9a5e-5e89c06d7798"
   },
   "outputs": [
    {
     "data": {
      "text/html": [
       "<div>\n",
       "<style scoped>\n",
       "    .dataframe tbody tr th:only-of-type {\n",
       "        vertical-align: middle;\n",
       "    }\n",
       "\n",
       "    .dataframe tbody tr th {\n",
       "        vertical-align: top;\n",
       "    }\n",
       "\n",
       "    .dataframe thead th {\n",
       "        text-align: right;\n",
       "    }\n",
       "</style>\n",
       "<table border=\"1\" class=\"dataframe\">\n",
       "  <thead>\n",
       "    <tr style=\"text-align: right;\">\n",
       "      <th></th>\n",
       "      <th>Features</th>\n",
       "      <th>NoOfOutliers</th>\n",
       "    </tr>\n",
       "  </thead>\n",
       "  <tbody>\n",
       "  </tbody>\n",
       "</table>\n",
       "</div>"
      ],
      "text/plain": [
       "Empty DataFrame\n",
       "Columns: [Features, NoOfOutliers]\n",
       "Index: []"
      ]
     },
     "execution_count": 620,
     "metadata": {},
     "output_type": "execute_result"
    }
   ],
   "source": [
    "outliers3"
   ]
  },
  {
   "cell_type": "code",
   "execution_count": 621,
   "metadata": {
    "executionInfo": {
     "elapsed": 262,
     "status": "ok",
     "timestamp": 1633105333034,
     "user": {
      "displayName": "Hasmukh Mer",
      "photoUrl": "https://lh3.googleusercontent.com/a/default-user=s64",
      "userId": "00621887669129670036"
     },
     "user_tz": -330
    },
    "id": "PJ0ueAd03_to"
   },
   "outputs": [],
   "source": [
    "\n",
    "for col in list2:\n",
    "    q1=df[col].quantile(0.25)\n",
    "    q2=df[col].quantile(0.50)\n",
    "    q3=df[col].quantile(0.75)\n",
    "    iqr=q3-q1\n",
    "    low_value=q1-1.5*iqr\n",
    "    high_value=q3+1.5*iqr\n",
    "    outliers3=outliers3.append({'Features':col,'NoOfOutliers':df.loc[(df[col]>high_value) | (df[col]<low_value)].shape[0]},ignore_index=True)\n",
    "\n",
    "\n",
    "    "
   ]
  },
  {
   "cell_type": "code",
   "execution_count": 622,
   "metadata": {
    "colab": {
     "base_uri": "https://localhost:8080/",
     "height": 206
    },
    "executionInfo": {
     "elapsed": 260,
     "status": "ok",
     "timestamp": 1633105333035,
     "user": {
      "displayName": "Hasmukh Mer",
      "photoUrl": "https://lh3.googleusercontent.com/a/default-user=s64",
      "userId": "00621887669129670036"
     },
     "user_tz": -330
    },
    "id": "ujPUXFUb3_to",
    "outputId": "7e4bc3ba-2833-4246-8667-d2b2a1107ae9"
   },
   "outputs": [
    {
     "data": {
      "text/html": [
       "<div>\n",
       "<style scoped>\n",
       "    .dataframe tbody tr th:only-of-type {\n",
       "        vertical-align: middle;\n",
       "    }\n",
       "\n",
       "    .dataframe tbody tr th {\n",
       "        vertical-align: top;\n",
       "    }\n",
       "\n",
       "    .dataframe thead th {\n",
       "        text-align: right;\n",
       "    }\n",
       "</style>\n",
       "<table border=\"1\" class=\"dataframe\">\n",
       "  <thead>\n",
       "    <tr style=\"text-align: right;\">\n",
       "      <th></th>\n",
       "      <th>Features</th>\n",
       "      <th>NoOfOutliers</th>\n",
       "    </tr>\n",
       "  </thead>\n",
       "  <tbody>\n",
       "    <tr>\n",
       "      <th>0</th>\n",
       "      <td>Glucose</td>\n",
       "      <td>0</td>\n",
       "    </tr>\n",
       "    <tr>\n",
       "      <th>1</th>\n",
       "      <td>BloodPressure</td>\n",
       "      <td>0</td>\n",
       "    </tr>\n",
       "    <tr>\n",
       "      <th>2</th>\n",
       "      <td>SkinThickness</td>\n",
       "      <td>0</td>\n",
       "    </tr>\n",
       "    <tr>\n",
       "      <th>3</th>\n",
       "      <td>Insulin</td>\n",
       "      <td>0</td>\n",
       "    </tr>\n",
       "    <tr>\n",
       "      <th>4</th>\n",
       "      <td>BMI</td>\n",
       "      <td>0</td>\n",
       "    </tr>\n",
       "  </tbody>\n",
       "</table>\n",
       "</div>"
      ],
      "text/plain": [
       "        Features NoOfOutliers\n",
       "0        Glucose            0\n",
       "1  BloodPressure            0\n",
       "2  SkinThickness            0\n",
       "3        Insulin            0\n",
       "4            BMI            0"
      ]
     },
     "execution_count": 622,
     "metadata": {},
     "output_type": "execute_result"
    }
   ],
   "source": [
    "outliers3"
   ]
  },
  {
   "cell_type": "code",
   "execution_count": 623,
   "metadata": {
    "executionInfo": {
     "elapsed": 259,
     "status": "ok",
     "timestamp": 1633105333036,
     "user": {
      "displayName": "Hasmukh Mer",
      "photoUrl": "https://lh3.googleusercontent.com/a/default-user=s64",
      "userId": "00621887669129670036"
     },
     "user_tz": -330
    },
    "id": "NbIbuU4q3_to"
   },
   "outputs": [],
   "source": [
    "x_train,x_test,y_train,y_test=train_test_split(x,y,test_size=0.20,random_state=0)"
   ]
  },
  {
   "cell_type": "code",
   "execution_count": 624,
   "metadata": {
    "colab": {
     "base_uri": "https://localhost:8080/"
    },
    "executionInfo": {
     "elapsed": 258,
     "status": "ok",
     "timestamp": 1633105333036,
     "user": {
      "displayName": "Hasmukh Mer",
      "photoUrl": "https://lh3.googleusercontent.com/a/default-user=s64",
      "userId": "00621887669129670036"
     },
     "user_tz": -330
    },
    "id": "sl3Hpfuj3_to",
    "outputId": "9d59874e-4930-4219-f155-48766fff2f7e"
   },
   "outputs": [
    {
     "data": {
      "text/plain": [
       "KNeighborsClassifier(algorithm='auto', leaf_size=30, metric='euclidean',\n",
       "                     metric_params=None, n_jobs=None, n_neighbors=11, p=2,\n",
       "                     weights='uniform')"
      ]
     },
     "execution_count": 624,
     "metadata": {},
     "output_type": "execute_result"
    }
   ],
   "source": [
    "classifier3=KNeighborsClassifier(n_neighbors=11,p=2,metric='euclidean')\n",
    "classifier3.fit(x_train,y_train)"
   ]
  },
  {
   "cell_type": "code",
   "execution_count": 625,
   "metadata": {
    "colab": {
     "base_uri": "https://localhost:8080/",
     "height": 424
    },
    "executionInfo": {
     "elapsed": 248,
     "status": "ok",
     "timestamp": 1633105333037,
     "user": {
      "displayName": "Hasmukh Mer",
      "photoUrl": "https://lh3.googleusercontent.com/a/default-user=s64",
      "userId": "00621887669129670036"
     },
     "user_tz": -330
    },
    "id": "vtzOss2-3_tp",
    "outputId": "a7f984ca-8aa4-4a80-98f1-dee19a3c7316"
   },
   "outputs": [
    {
     "data": {
      "text/html": [
       "<div>\n",
       "<style scoped>\n",
       "    .dataframe tbody tr th:only-of-type {\n",
       "        vertical-align: middle;\n",
       "    }\n",
       "\n",
       "    .dataframe tbody tr th {\n",
       "        vertical-align: top;\n",
       "    }\n",
       "\n",
       "    .dataframe thead th {\n",
       "        text-align: right;\n",
       "    }\n",
       "</style>\n",
       "<table border=\"1\" class=\"dataframe\">\n",
       "  <thead>\n",
       "    <tr style=\"text-align: right;\">\n",
       "      <th></th>\n",
       "      <th>Pregnancies</th>\n",
       "      <th>Glucose</th>\n",
       "      <th>BloodPressure</th>\n",
       "      <th>SkinThickness</th>\n",
       "      <th>Insulin</th>\n",
       "      <th>BMI</th>\n",
       "      <th>DiabetesPedigreeFunction</th>\n",
       "      <th>Age</th>\n",
       "    </tr>\n",
       "  </thead>\n",
       "  <tbody>\n",
       "    <tr>\n",
       "      <th>661</th>\n",
       "      <td>1</td>\n",
       "      <td>167.0</td>\n",
       "      <td>76.0</td>\n",
       "      <td>40.00000</td>\n",
       "      <td>155.548223</td>\n",
       "      <td>41.5</td>\n",
       "      <td>1.394</td>\n",
       "      <td>22</td>\n",
       "    </tr>\n",
       "    <tr>\n",
       "      <th>122</th>\n",
       "      <td>2</td>\n",
       "      <td>107.0</td>\n",
       "      <td>74.0</td>\n",
       "      <td>30.00000</td>\n",
       "      <td>100.000000</td>\n",
       "      <td>33.6</td>\n",
       "      <td>0.404</td>\n",
       "      <td>23</td>\n",
       "    </tr>\n",
       "    <tr>\n",
       "      <th>113</th>\n",
       "      <td>4</td>\n",
       "      <td>80.0</td>\n",
       "      <td>62.0</td>\n",
       "      <td>29.15342</td>\n",
       "      <td>155.548223</td>\n",
       "      <td>34.0</td>\n",
       "      <td>0.391</td>\n",
       "      <td>25</td>\n",
       "    </tr>\n",
       "    <tr>\n",
       "      <th>14</th>\n",
       "      <td>5</td>\n",
       "      <td>166.0</td>\n",
       "      <td>72.0</td>\n",
       "      <td>19.00000</td>\n",
       "      <td>175.000000</td>\n",
       "      <td>25.8</td>\n",
       "      <td>0.587</td>\n",
       "      <td>51</td>\n",
       "    </tr>\n",
       "    <tr>\n",
       "      <th>529</th>\n",
       "      <td>0</td>\n",
       "      <td>111.0</td>\n",
       "      <td>65.0</td>\n",
       "      <td>29.15342</td>\n",
       "      <td>155.548223</td>\n",
       "      <td>24.6</td>\n",
       "      <td>0.660</td>\n",
       "      <td>31</td>\n",
       "    </tr>\n",
       "    <tr>\n",
       "      <th>...</th>\n",
       "      <td>...</td>\n",
       "      <td>...</td>\n",
       "      <td>...</td>\n",
       "      <td>...</td>\n",
       "      <td>...</td>\n",
       "      <td>...</td>\n",
       "      <td>...</td>\n",
       "      <td>...</td>\n",
       "    </tr>\n",
       "    <tr>\n",
       "      <th>476</th>\n",
       "      <td>2</td>\n",
       "      <td>105.0</td>\n",
       "      <td>80.0</td>\n",
       "      <td>40.00000</td>\n",
       "      <td>191.000000</td>\n",
       "      <td>33.7</td>\n",
       "      <td>0.711</td>\n",
       "      <td>29</td>\n",
       "    </tr>\n",
       "    <tr>\n",
       "      <th>482</th>\n",
       "      <td>4</td>\n",
       "      <td>85.0</td>\n",
       "      <td>58.0</td>\n",
       "      <td>22.00000</td>\n",
       "      <td>50.000000</td>\n",
       "      <td>27.8</td>\n",
       "      <td>0.306</td>\n",
       "      <td>28</td>\n",
       "    </tr>\n",
       "    <tr>\n",
       "      <th>230</th>\n",
       "      <td>4</td>\n",
       "      <td>142.0</td>\n",
       "      <td>86.0</td>\n",
       "      <td>29.15342</td>\n",
       "      <td>155.548223</td>\n",
       "      <td>41.5</td>\n",
       "      <td>0.645</td>\n",
       "      <td>22</td>\n",
       "    </tr>\n",
       "    <tr>\n",
       "      <th>527</th>\n",
       "      <td>3</td>\n",
       "      <td>116.0</td>\n",
       "      <td>74.0</td>\n",
       "      <td>15.00000</td>\n",
       "      <td>105.000000</td>\n",
       "      <td>26.3</td>\n",
       "      <td>0.107</td>\n",
       "      <td>24</td>\n",
       "    </tr>\n",
       "    <tr>\n",
       "      <th>380</th>\n",
       "      <td>1</td>\n",
       "      <td>107.0</td>\n",
       "      <td>72.0</td>\n",
       "      <td>30.00000</td>\n",
       "      <td>82.000000</td>\n",
       "      <td>30.8</td>\n",
       "      <td>0.821</td>\n",
       "      <td>24</td>\n",
       "    </tr>\n",
       "  </tbody>\n",
       "</table>\n",
       "<p>154 rows × 8 columns</p>\n",
       "</div>"
      ],
      "text/plain": [
       "     Pregnancies  Glucose  BloodPressure  ...   BMI  DiabetesPedigreeFunction  Age\n",
       "661            1    167.0           76.0  ...  41.5                     1.394   22\n",
       "122            2    107.0           74.0  ...  33.6                     0.404   23\n",
       "113            4     80.0           62.0  ...  34.0                     0.391   25\n",
       "14             5    166.0           72.0  ...  25.8                     0.587   51\n",
       "529            0    111.0           65.0  ...  24.6                     0.660   31\n",
       "..           ...      ...            ...  ...   ...                       ...  ...\n",
       "476            2    105.0           80.0  ...  33.7                     0.711   29\n",
       "482            4     85.0           58.0  ...  27.8                     0.306   28\n",
       "230            4    142.0           86.0  ...  41.5                     0.645   22\n",
       "527            3    116.0           74.0  ...  26.3                     0.107   24\n",
       "380            1    107.0           72.0  ...  30.8                     0.821   24\n",
       "\n",
       "[154 rows x 8 columns]"
      ]
     },
     "execution_count": 625,
     "metadata": {},
     "output_type": "execute_result"
    }
   ],
   "source": [
    "x_test"
   ]
  },
  {
   "cell_type": "code",
   "execution_count": 626,
   "metadata": {
    "executionInfo": {
     "elapsed": 245,
     "status": "ok",
     "timestamp": 1633105333038,
     "user": {
      "displayName": "Hasmukh Mer",
      "photoUrl": "https://lh3.googleusercontent.com/a/default-user=s64",
      "userId": "00621887669129670036"
     },
     "user_tz": -330
    },
    "id": "epxuBru_3_tp"
   },
   "outputs": [],
   "source": [
    "y3_pred=classifier3.predict(x_test)"
   ]
  },
  {
   "cell_type": "code",
   "execution_count": 627,
   "metadata": {
    "colab": {
     "base_uri": "https://localhost:8080/"
    },
    "executionInfo": {
     "elapsed": 245,
     "status": "ok",
     "timestamp": 1633105333039,
     "user": {
      "displayName": "Hasmukh Mer",
      "photoUrl": "https://lh3.googleusercontent.com/a/default-user=s64",
      "userId": "00621887669129670036"
     },
     "user_tz": -330
    },
    "id": "rsfT8MWK3_tp",
    "outputId": "cfb61478-afcb-4cec-b7a5-5a91e812772a"
   },
   "outputs": [
    {
     "name": "stdout",
     "output_type": "stream",
     "text": [
      "0.76\n"
     ]
    }
   ],
   "source": [
    "print(round(accuracy_score(y_test,y3_pred),2))"
   ]
  },
  {
   "cell_type": "code",
   "execution_count": 628,
   "metadata": {
    "colab": {
     "base_uri": "https://localhost:8080/"
    },
    "executionInfo": {
     "elapsed": 236,
     "status": "ok",
     "timestamp": 1633105333040,
     "user": {
      "displayName": "Hasmukh Mer",
      "photoUrl": "https://lh3.googleusercontent.com/a/default-user=s64",
      "userId": "00621887669129670036"
     },
     "user_tz": -330
    },
    "id": "b6hlTl9A3_tq",
    "outputId": "ad77e774-3867-425c-bc1b-ba18424fcd56"
   },
   "outputs": [
    {
     "name": "stdout",
     "output_type": "stream",
     "text": [
      "[[86 21]\n",
      " [16 31]]\n"
     ]
    }
   ],
   "source": [
    "from sklearn.metrics import confusion_matrix\n",
    "cm = confusion_matrix(y_test, y3_pred)  \n",
    "print(cm)"
   ]
  },
  {
   "cell_type": "code",
   "execution_count": 629,
   "metadata": {
    "colab": {
     "base_uri": "https://localhost:8080/"
    },
    "executionInfo": {
     "elapsed": 231,
     "status": "ok",
     "timestamp": 1633105333047,
     "user": {
      "displayName": "Hasmukh Mer",
      "photoUrl": "https://lh3.googleusercontent.com/a/default-user=s64",
      "userId": "00621887669129670036"
     },
     "user_tz": -330
    },
    "id": "e63AlNM_3_tq",
    "outputId": "9a8c7a5c-ebb5-450b-e0e8-331016a7fd3f"
   },
   "outputs": [
    {
     "name": "stdout",
     "output_type": "stream",
     "text": [
      "              precision    recall  f1-score   support\n",
      "\n",
      "           0       0.84      0.80      0.82       107\n",
      "           1       0.60      0.66      0.63        47\n",
      "\n",
      "    accuracy                           0.76       154\n",
      "   macro avg       0.72      0.73      0.72       154\n",
      "weighted avg       0.77      0.76      0.76       154\n",
      "\n"
     ]
    }
   ],
   "source": [
    "from sklearn.metrics import classification_report\n",
    "matrix=classification_report(y_test,y3_pred)\n",
    "print(matrix)"
   ]
  }
 ],
 "metadata": {
  "colab": {
   "collapsed_sections": [],
   "name": "Diabetes_Knn.ipynb",
   "provenance": []
  },
  "kernelspec": {
   "display_name": "Python 3 (ipykernel)",
   "language": "python",
   "name": "python3"
  },
  "language_info": {
   "codemirror_mode": {
    "name": "ipython",
    "version": 3
   },
   "file_extension": ".py",
   "mimetype": "text/x-python",
   "name": "python",
   "nbconvert_exporter": "python",
   "pygments_lexer": "ipython3",
   "version": "3.8.10"
  }
 },
 "nbformat": 4,
 "nbformat_minor": 1
}
