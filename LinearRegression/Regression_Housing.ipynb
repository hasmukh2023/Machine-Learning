{
 "cells": [
  {
   "cell_type": "code",
   "execution_count": null,
   "metadata": {
    "id": "GoMKozBvKWHo"
   },
   "outputs": [],
   "source": [
    "from google.colab import drive"
   ]
  },
  {
   "cell_type": "code",
   "execution_count": null,
   "metadata": {
    "colab": {
     "base_uri": "https://localhost:8080/"
    },
    "executionInfo": {
     "elapsed": 20487,
     "status": "ok",
     "timestamp": 1633089113159,
     "user": {
      "displayName": "Hasmukh Mer",
      "photoUrl": "https://lh3.googleusercontent.com/a/default-user=s64",
      "userId": "00621887669129670036"
     },
     "user_tz": -330
    },
    "id": "CUoVaEh1Kgf8",
    "outputId": "0c650937-78c3-4654-b7b2-72f5528822a3"
   },
   "outputs": [
    {
     "name": "stdout",
     "output_type": "stream",
     "text": [
      "Mounted at /content/gdrive\n"
     ]
    }
   ],
   "source": [
    "drive.mount(\"/content/gdrive\")"
   ]
  },
  {
   "cell_type": "code",
   "execution_count": null,
   "metadata": {
    "id": "ENoPNBT8L0LS"
   },
   "outputs": [],
   "source": [
    "path='/content/gdrive/MyDrive/ML/Regression/housing-1.xlsx'"
   ]
  },
  {
   "cell_type": "code",
   "execution_count": null,
   "metadata": {
    "id": "MaGOc7s9L4QJ"
   },
   "outputs": [],
   "source": [
    "import pandas as pd"
   ]
  },
  {
   "cell_type": "code",
   "execution_count": null,
   "metadata": {
    "id": "6Jt-cCrzL9po"
   },
   "outputs": [],
   "source": [
    "df=pd.read_excel(path)"
   ]
  },
  {
   "cell_type": "code",
   "execution_count": null,
   "metadata": {
    "colab": {
     "base_uri": "https://localhost:8080/",
     "height": 363
    },
    "executionInfo": {
     "elapsed": 62,
     "status": "ok",
     "timestamp": 1633089114212,
     "user": {
      "displayName": "Hasmukh Mer",
      "photoUrl": "https://lh3.googleusercontent.com/a/default-user=s64",
      "userId": "00621887669129670036"
     },
     "user_tz": -330
    },
    "id": "E-vyClgiMD1Y",
    "outputId": "83e8bc97-7332-41f9-f078-c7fc151891ef"
   },
   "outputs": [
    {
     "data": {
      "text/html": [
       "<div>\n",
       "<style scoped>\n",
       "    .dataframe tbody tr th:only-of-type {\n",
       "        vertical-align: middle;\n",
       "    }\n",
       "\n",
       "    .dataframe tbody tr th {\n",
       "        vertical-align: top;\n",
       "    }\n",
       "\n",
       "    .dataframe thead th {\n",
       "        text-align: right;\n",
       "    }\n",
       "</style>\n",
       "<table border=\"1\" class=\"dataframe\">\n",
       "  <thead>\n",
       "    <tr style=\"text-align: right;\">\n",
       "      <th></th>\n",
       "      <th>X</th>\n",
       "      <th>Y</th>\n",
       "      <th>Xa</th>\n",
       "      <th>Ya</th>\n",
       "    </tr>\n",
       "  </thead>\n",
       "  <tbody>\n",
       "    <tr>\n",
       "      <th>0</th>\n",
       "      <td>1100</td>\n",
       "      <td>199000</td>\n",
       "      <td>0.000000</td>\n",
       "      <td>0.000000</td>\n",
       "    </tr>\n",
       "    <tr>\n",
       "      <th>1</th>\n",
       "      <td>1400</td>\n",
       "      <td>245000</td>\n",
       "      <td>0.222222</td>\n",
       "      <td>0.223301</td>\n",
       "    </tr>\n",
       "    <tr>\n",
       "      <th>2</th>\n",
       "      <td>1425</td>\n",
       "      <td>319000</td>\n",
       "      <td>0.240741</td>\n",
       "      <td>0.582524</td>\n",
       "    </tr>\n",
       "    <tr>\n",
       "      <th>3</th>\n",
       "      <td>1550</td>\n",
       "      <td>240000</td>\n",
       "      <td>0.333333</td>\n",
       "      <td>0.199029</td>\n",
       "    </tr>\n",
       "    <tr>\n",
       "      <th>4</th>\n",
       "      <td>1600</td>\n",
       "      <td>312000</td>\n",
       "      <td>0.370370</td>\n",
       "      <td>0.548544</td>\n",
       "    </tr>\n",
       "    <tr>\n",
       "      <th>5</th>\n",
       "      <td>1700</td>\n",
       "      <td>279000</td>\n",
       "      <td>0.444444</td>\n",
       "      <td>0.388350</td>\n",
       "    </tr>\n",
       "    <tr>\n",
       "      <th>6</th>\n",
       "      <td>1700</td>\n",
       "      <td>310000</td>\n",
       "      <td>0.444444</td>\n",
       "      <td>0.538835</td>\n",
       "    </tr>\n",
       "    <tr>\n",
       "      <th>7</th>\n",
       "      <td>1875</td>\n",
       "      <td>308000</td>\n",
       "      <td>0.574074</td>\n",
       "      <td>0.529126</td>\n",
       "    </tr>\n",
       "    <tr>\n",
       "      <th>8</th>\n",
       "      <td>2350</td>\n",
       "      <td>405000</td>\n",
       "      <td>0.925926</td>\n",
       "      <td>1.000000</td>\n",
       "    </tr>\n",
       "    <tr>\n",
       "      <th>9</th>\n",
       "      <td>2450</td>\n",
       "      <td>324000</td>\n",
       "      <td>1.000000</td>\n",
       "      <td>0.606796</td>\n",
       "    </tr>\n",
       "  </tbody>\n",
       "</table>\n",
       "</div>"
      ],
      "text/plain": [
       "      X       Y        Xa        Ya\n",
       "0  1100  199000  0.000000  0.000000\n",
       "1  1400  245000  0.222222  0.223301\n",
       "2  1425  319000  0.240741  0.582524\n",
       "3  1550  240000  0.333333  0.199029\n",
       "4  1600  312000  0.370370  0.548544\n",
       "5  1700  279000  0.444444  0.388350\n",
       "6  1700  310000  0.444444  0.538835\n",
       "7  1875  308000  0.574074  0.529126\n",
       "8  2350  405000  0.925926  1.000000\n",
       "9  2450  324000  1.000000  0.606796"
      ]
     },
     "execution_count": 6,
     "metadata": {},
     "output_type": "execute_result"
    }
   ],
   "source": [
    "df"
   ]
  },
  {
   "cell_type": "code",
   "execution_count": null,
   "metadata": {
    "colab": {
     "base_uri": "https://localhost:8080/"
    },
    "executionInfo": {
     "elapsed": 61,
     "status": "ok",
     "timestamp": 1633089114216,
     "user": {
      "displayName": "Hasmukh Mer",
      "photoUrl": "https://lh3.googleusercontent.com/a/default-user=s64",
      "userId": "00621887669129670036"
     },
     "user_tz": -330
    },
    "id": "9sMVvAeiMO2B",
    "outputId": "cdd2fd3c-81d0-4661-8b24-0eeb8614f211"
   },
   "outputs": [
    {
     "name": "stdout",
     "output_type": "stream",
     "text": [
      "0.6773447764185777\n"
     ]
    }
   ],
   "source": [
    "def sum_of_squred_error(xdata,ydata,a,b):\n",
    "    total_error=0\n",
    "    for (x,ya) in zip(xdata,ydata):\n",
    "        yp=a+b*x\n",
    "        error=(1/2)*(yp-ya)**2\n",
    "        total_error=total_error+error\n",
    "    return total_error\n",
    "\n",
    "\n",
    "a=0.45\n",
    "b=0.75\n",
    "\n",
    "print(sum_of_squred_error(df['Xa'],df['Ya'],a,b))"
   ]
  },
  {
   "cell_type": "code",
   "execution_count": null,
   "metadata": {
    "id": "C8of7IZIOCpx"
   },
   "outputs": [],
   "source": [
    "import matplotlib.pyplot as plt\n"
   ]
  },
  {
   "cell_type": "code",
   "execution_count": null,
   "metadata": {
    "colab": {
     "base_uri": "https://localhost:8080/",
     "height": 279
    },
    "executionInfo": {
     "elapsed": 60,
     "status": "ok",
     "timestamp": 1633089114220,
     "user": {
      "displayName": "Hasmukh Mer",
      "photoUrl": "https://lh3.googleusercontent.com/a/default-user=s64",
      "userId": "00621887669129670036"
     },
     "user_tz": -330
    },
    "id": "TqAjAA81OcHR",
    "outputId": "6eeb2b77-93f8-4510-cdd0-cbbf6390cfb1"
   },
   "outputs": [
    {
     "data": {
      "image/png": "[encoded data removed]",
      "text/plain": [
       "<Figure size 432x288 with 1 Axes>"
      ]
     },
     "metadata": {
      "needs_background": "light"
     },
     "output_type": "display_data"
    }
   ],
   "source": [
    "plt.scatter(df['Xa'],df['Ya'])\n",
    "plt.ylabel(\"dependent variable\")\n",
    "plt.xlabel(\"independent variable\")\n",
    "plt.show()"
   ]
  },
  {
   "cell_type": "code",
   "execution_count": null,
   "metadata": {
    "id": "4Wf6-UDkOeDn"
   },
   "outputs": [],
   "source": [
    "#new_a=old_a - r * sum_a\n",
    "#new_b=old_b - r * sum_b"
   ]
  },
  {
   "cell_type": "code",
   "execution_count": null,
   "metadata": {
    "id": "c7Jx_1StVJ75"
   },
   "outputs": [],
   "source": [
    "def y_predict(a,b,xa):\n",
    "  yp=a+b*xa\n",
    "  return yp"
   ]
  },
  {
   "cell_type": "code",
   "execution_count": null,
   "metadata": {
    "colab": {
     "base_uri": "https://localhost:8080/"
    },
    "executionInfo": {
     "elapsed": 58,
     "status": "ok",
     "timestamp": 1633089114223,
     "user": {
      "displayName": "Hasmukh Mer",
      "photoUrl": "https://lh3.googleusercontent.com/a/default-user=s64",
      "userId": "00621887669129670036"
     },
     "user_tz": -330
    },
    "id": "Q3AZsjGURXsn",
    "outputId": "4c686c72-7bdb-4cf3-8efd-8b5ffda04277"
   },
   "outputs": [
    {
     "name": "stdout",
     "output_type": "stream",
     "text": [
      "3.3001618122977345\n"
     ]
    }
   ],
   "source": [
    "#-(ya-yp)\n",
    "\n",
    "\n",
    "def sum_of_a(a,b):\n",
    "  sum_a=0\n",
    "  for xa,ya in zip(df['Xa'],df['Ya']):\n",
    "    yp=a+b*xa\n",
    "    sum_a = sum_a + (-(ya-yp))\n",
    "  return sum_a\n",
    "\n",
    "\n",
    "\n",
    "\n",
    "\n",
    "    \n",
    "print(sum_of_a(0.45,0.75))"
   ]
  },
  {
   "cell_type": "code",
   "execution_count": null,
   "metadata": {
    "colab": {
     "base_uri": "https://localhost:8080/"
    },
    "executionInfo": {
     "elapsed": 71,
     "status": "ok",
     "timestamp": 1633089114240,
     "user": {
      "displayName": "Hasmukh Mer",
      "photoUrl": "https://lh3.googleusercontent.com/a/default-user=s64",
      "userId": "00621887669129670036"
     },
     "user_tz": -330
    },
    "id": "GP5ZOzdeTnbZ",
    "outputId": "8c1a8cdd-de55-4e62-f71a-b14909118284"
   },
   "outputs": [
    {
     "name": "stdout",
     "output_type": "stream",
     "text": [
      "1.5452604978225253\n"
     ]
    }
   ],
   "source": [
    "def sum_of_b(a,b):\n",
    "  sum_b=0\n",
    "  for xa,ya in zip(df['Xa'],df['Ya']):\n",
    "    yp=a+b*xa\n",
    "    sum_b = sum_b + (-(ya-yp ) * xa)\n",
    "  return sum_b\n",
    "\n",
    "\n",
    "print(sum_of_b(0.45,0.75))  "
   ]
  },
  {
   "cell_type": "code",
   "execution_count": null,
   "metadata": {
    "colab": {
     "base_uri": "https://localhost:8080/"
    },
    "executionInfo": {
     "elapsed": 68,
     "status": "ok",
     "timestamp": 1633089114241,
     "user": {
      "displayName": "Hasmukh Mer",
      "photoUrl": "https://lh3.googleusercontent.com/a/default-user=s64",
      "userId": "00621887669129670036"
     },
     "user_tz": -330
    },
    "id": "M5xmvSLKfYvo",
    "outputId": "e2bb85fe-cbf6-44b9-b9d2-cda6e1c82346"
   },
   "outputs": [
    {
     "name": "stdout",
     "output_type": "stream",
     "text": [
      "0.17427501271053158\n",
      "(0.25232525320036403, 0.6601102059504188)\n"
     ]
    }
   ],
   "source": [
    "def new_a_b(a,b):\n",
    "  r=0.01\n",
    "  for i in range(10):\n",
    "    new_a=a - r * sum_of_a(a,b)\n",
    "    new_b=b - r * sum_of_b(a,b)\n",
    "    a=new_a\n",
    "    b=new_b\n",
    "  print(sum_of_squred_error(df['Xa'],df['Ya'],a,b))  \n",
    "  return a,b\n",
    "\n",
    "\n",
    "print(new_a_b(0.45,0.75))  \n",
    "    \n",
    "\n"
   ]
  },
  {
   "cell_type": "code",
   "execution_count": null,
   "metadata": {
    "id": "q4Vd1cKFlE7B"
   },
   "outputs": [],
   "source": []
  }
 ],
 "metadata": {
  "colab": {
   "collapsed_sections": [],
   "name": "Regression_Housing.ipynb",
   "provenance": []
  },
  "kernelspec": {
   "display_name": "Python 3",
   "language": "python",
   "name": "python3"
  },
  "language_info": {
   "codemirror_mode": {
    "name": "ipython",
    "version": 3
   },
   "file_extension": ".py",
   "mimetype": "text/x-python",
   "name": "python",
   "nbconvert_exporter": "python",
   "pygments_lexer": "ipython3",
   "version": "3.8.10"
  }
 },
 "nbformat": 4,
 "nbformat_minor": 1
}
